{
 "cells": [
  {
   "cell_type": "code",
   "execution_count": 1,
   "id": "4636293a",
   "metadata": {
    "scrolled": true
   },
   "outputs": [
    {
     "name": "stdout",
     "output_type": "stream",
     "text": [
      "/home/dlawodud0484/anaconda3/envs/yolov7_test/bin/python\n",
      "['/home/dlawodud0484', '/home/dlawodud0484/anaconda3/envs/yolov7_test/lib/python38.zip', '/home/dlawodud0484/anaconda3/envs/yolov7_test/lib/python3.8', '/home/dlawodud0484/anaconda3/envs/yolov7_test/lib/python3.8/lib-dynload', '', '/home/dlawodud0484/.local/lib/python3.8/site-packages', '/home/dlawodud0484/anaconda3/envs/yolov7_test/lib/python3.8/site-packages']\n"
     ]
    }
   ],
   "source": [
    "# 현재 가상환경 커널 디렉토리 파악\n",
    "import sys\n",
    "\n",
    "print(sys.executable)\n",
    "print(sys.path)"
   ]
  },
  {
   "cell_type": "code",
   "execution_count": 2,
   "id": "af6e84b3",
   "metadata": {},
   "outputs": [
    {
     "data": {
      "text/plain": [
       "'utf-8'"
      ]
     },
     "execution_count": 2,
     "metadata": {},
     "output_type": "execute_result"
    }
   ],
   "source": [
    "# 현재 기본 인코딩 확인\n",
    "import sys\n",
    "sys.stdin.encoding"
   ]
  },
  {
   "cell_type": "code",
   "execution_count": 3,
   "id": "91eece6e",
   "metadata": {
    "scrolled": true
   },
   "outputs": [
    {
     "name": "stdout",
     "output_type": "stream",
     "text": [
      "# conda environments:\n",
      "#\n",
      "base                     /home/dlawodud0484/anaconda3\n",
      "YOLOv5_test              /home/dlawodud0484/anaconda3/envs/YOLOv5_test\n",
      "yolo7                    /home/dlawodud0484/anaconda3/envs/yolo7\n",
      "yolov5                   /home/dlawodud0484/anaconda3/envs/yolov5\n",
      "yolov7                   /home/dlawodud0484/anaconda3/envs/yolov7\n",
      "yolov7_test              /home/dlawodud0484/anaconda3/envs/yolov7_test\n",
      "\n",
      "\n",
      "Note: you may need to restart the kernel to use updated packages.\n"
     ]
    }
   ],
   "source": [
    "# 현재 설치 되어있는 가상환경 확인\n",
    "conda info -e"
   ]
  },
  {
   "cell_type": "code",
   "execution_count": 4,
   "id": "54702785",
   "metadata": {
    "scrolled": false
   },
   "outputs": [
    {
     "name": "stdout",
     "output_type": "stream",
     "text": [
      "Available kernels:\r\n",
      "  python3        /home/dlawodud0484/.local/share/jupyter/kernels/python3\r\n",
      "  yolov5         /home/dlawodud0484/.local/share/jupyter/kernels/yolov5\r\n",
      "  yolov7         /home/dlawodud0484/.local/share/jupyter/kernels/yolov7\r\n",
      "  yolov7_test    /home/dlawodud0484/.local/share/jupyter/kernels/yolov7_test\r\n"
     ]
    }
   ],
   "source": [
    "# 현재 활성화 되어있는 주피터 커널 확인\n",
    "!jupyter kernelspec list"
   ]
  },
  {
   "cell_type": "code",
   "execution_count": 5,
   "id": "ef3457d0",
   "metadata": {
    "scrolled": true
   },
   "outputs": [
    {
     "data": {
      "text/plain": [
       "'/home/dlawodud0484'"
      ]
     },
     "execution_count": 5,
     "metadata": {},
     "output_type": "execute_result"
    }
   ],
   "source": [
    "# 현재 디렉토리 확인\n",
    "%pwd"
   ]
  },
  {
   "cell_type": "code",
   "execution_count": 6,
   "id": "d33be5f7",
   "metadata": {
    "scrolled": true
   },
   "outputs": [
    {
     "name": "stdout",
     "output_type": "stream",
     "text": [
      "/home/dlawodud0484/yolo_bee_detector/yolov7\n"
     ]
    }
   ],
   "source": [
    "# 디렉토리 이동\n",
    "%cd /home/dlawodud0484/yolo_bee_detector/yolov7"
   ]
  },
  {
   "cell_type": "code",
   "execution_count": 7,
   "id": "3ffc854d",
   "metadata": {
    "scrolled": true
   },
   "outputs": [
    {
     "name": "stdout",
     "output_type": "stream",
     "text": [
      "Collecting matplotlib>=3.2.2\n",
      "  Using cached matplotlib-3.7.1-cp38-cp38-manylinux_2_12_x86_64.manylinux2010_x86_64.whl (9.2 MB)\n",
      "Collecting numpy<1.24.0,>=1.18.5\n",
      "  Using cached numpy-1.23.5-cp38-cp38-manylinux_2_17_x86_64.manylinux2014_x86_64.whl (17.1 MB)\n",
      "Collecting opencv-python>=4.1.1\n",
      "  Using cached opencv_python-4.7.0.72-cp37-abi3-manylinux_2_17_x86_64.manylinux2014_x86_64.whl (61.8 MB)\n",
      "Collecting Pillow>=7.1.2\n",
      "  Using cached Pillow-9.4.0-cp38-cp38-manylinux_2_28_x86_64.whl (3.4 MB)\n",
      "Requirement already satisfied: PyYAML>=5.3.1 in /home/dlawodud0484/.local/lib/python3.8/site-packages (from -r requirements.txt (line 8)) (6.0)\n",
      "Collecting requests>=2.23.0\n",
      "  Using cached requests-2.28.2-py3-none-any.whl (62 kB)\n",
      "Collecting scipy>=1.4.1\n",
      "  Using cached scipy-1.10.1-cp38-cp38-manylinux_2_17_x86_64.manylinux2014_x86_64.whl (34.5 MB)\n",
      "Collecting torch!=1.12.0,>=1.7.0\n",
      "  Downloading torch-2.0.0-cp38-cp38-manylinux1_x86_64.whl (619.9 MB)\n",
      "\u001b[2K     \u001b[90m━━━━━━━━━━━━━━━━━━━━━━━━━━━━━━━━━━━━━━━\u001b[0m \u001b[32m619.9/619.9 MB\u001b[0m \u001b[31m6.5 MB/s\u001b[0m eta \u001b[36m0:00:00\u001b[0m00:01\u001b[0m00:01\u001b[0m\n",
      "\u001b[?25hCollecting torchvision!=0.13.0,>=0.8.1\n",
      "  Downloading torchvision-0.15.1-cp38-cp38-manylinux1_x86_64.whl (33.8 MB)\n",
      "\u001b[2K     \u001b[90m━━━━━━━━━━━━━━━━━━━━━━━━━━━━━━━━━━━━━━━━\u001b[0m \u001b[32m33.8/33.8 MB\u001b[0m \u001b[31m26.4 MB/s\u001b[0m eta \u001b[36m0:00:00\u001b[0m00:01\u001b[0m00:01\u001b[0m\n",
      "\u001b[?25hCollecting tqdm>=4.41.0\n",
      "  Using cached tqdm-4.65.0-py3-none-any.whl (77 kB)\n",
      "Collecting protobuf<4.21.3\n",
      "  Using cached protobuf-4.21.2-cp37-abi3-manylinux2014_x86_64.whl (407 kB)\n",
      "Requirement already satisfied: tensorboard>=2.4.1 in /home/dlawodud0484/.local/lib/python3.8/site-packages (from -r requirements.txt (line 17)) (2.12.0)\n",
      "Collecting pandas>=1.1.4\n",
      "  Using cached pandas-1.5.3-cp38-cp38-manylinux_2_17_x86_64.manylinux2014_x86_64.whl (12.2 MB)\n",
      "Requirement already satisfied: seaborn>=0.11.0 in /home/dlawodud0484/.local/lib/python3.8/site-packages (from -r requirements.txt (line 22)) (0.12.1)\n",
      "Requirement already satisfied: ipython in /home/dlawodud0484/anaconda3/envs/yolov7_test/lib/python3.8/site-packages (from -r requirements.txt (line 34)) (8.11.0)\n",
      "Requirement already satisfied: psutil in /home/dlawodud0484/anaconda3/envs/yolov7_test/lib/python3.8/site-packages (from -r requirements.txt (line 35)) (5.9.4)\n",
      "Requirement already satisfied: thop in /home/dlawodud0484/.local/lib/python3.8/site-packages (from -r requirements.txt (line 36)) (0.1.1.post2209072238)\n",
      "Requirement already satisfied: packaging>=20.0 in /home/dlawodud0484/.local/lib/python3.8/site-packages (from matplotlib>=3.2.2->-r requirements.txt (line 4)) (20.9)\n",
      "Collecting contourpy>=1.0.1\n",
      "  Using cached contourpy-1.0.7-cp38-cp38-manylinux_2_17_x86_64.manylinux2014_x86_64.whl (300 kB)\n",
      "Collecting fonttools>=4.22.0\n",
      "  Downloading fonttools-4.39.2-py3-none-any.whl (1.0 MB)\n",
      "\u001b[2K     \u001b[90m━━━━━━━━━━━━━━━━━━━━━━━━━━━━━━━━━━━━━━━━\u001b[0m \u001b[32m1.0/1.0 MB\u001b[0m \u001b[31m25.1 MB/s\u001b[0m eta \u001b[36m0:00:00\u001b[0m00:01\u001b[0m\n",
      "\u001b[?25hRequirement already satisfied: pyparsing>=2.3.1 in /home/dlawodud0484/.local/lib/python3.8/site-packages (from matplotlib>=3.2.2->-r requirements.txt (line 4)) (2.4.7)\n",
      "Requirement already satisfied: python-dateutil>=2.7 in /home/dlawodud0484/anaconda3/envs/yolov7_test/lib/python3.8/site-packages (from matplotlib>=3.2.2->-r requirements.txt (line 4)) (2.8.2)\n",
      "Requirement already satisfied: importlib-resources>=3.2.0 in /home/dlawodud0484/.local/lib/python3.8/site-packages (from matplotlib>=3.2.2->-r requirements.txt (line 4)) (5.10.2)\n",
      "Requirement already satisfied: cycler>=0.10 in /home/dlawodud0484/.local/lib/python3.8/site-packages (from matplotlib>=3.2.2->-r requirements.txt (line 4)) (0.10.0)\n",
      "Collecting kiwisolver>=1.0.1\n",
      "  Using cached kiwisolver-1.4.4-cp38-cp38-manylinux_2_5_x86_64.manylinux1_x86_64.whl (1.2 MB)\n",
      "Requirement already satisfied: urllib3<1.27,>=1.21.1 in /home/dlawodud0484/.local/lib/python3.8/site-packages (from requests>=2.23.0->-r requirements.txt (line 9)) (1.26.11)\n",
      "Collecting charset-normalizer<4,>=2\n",
      "  Using cached charset_normalizer-3.1.0-cp38-cp38-manylinux_2_17_x86_64.manylinux2014_x86_64.whl (195 kB)\n",
      "Requirement already satisfied: idna<4,>=2.5 in /home/dlawodud0484/.local/lib/python3.8/site-packages (from requests>=2.23.0->-r requirements.txt (line 9)) (2.10)\n",
      "Requirement already satisfied: certifi>=2017.4.17 in /home/dlawodud0484/.local/lib/python3.8/site-packages (from requests>=2.23.0->-r requirements.txt (line 9)) (2021.5.30)\n",
      "Collecting nvidia-cusparse-cu11==11.7.4.91\n",
      "  Downloading nvidia_cusparse_cu11-11.7.4.91-py3-none-manylinux1_x86_64.whl (173.2 MB)\n",
      "\u001b[2K     \u001b[90m━━━━━━━━━━━━━━━━━━━━━━━━━━━━━━━━━━━━━━\u001b[0m \u001b[32m173.2/173.2 MB\u001b[0m \u001b[31m14.5 MB/s\u001b[0m eta \u001b[36m0:00:00\u001b[0m00:01\u001b[0m00:01\u001b[0m\n",
      "\u001b[?25hCollecting nvidia-cuda-nvrtc-cu11==11.7.99\n",
      "  Using cached nvidia_cuda_nvrtc_cu11-11.7.99-2-py3-none-manylinux1_x86_64.whl (21.0 MB)\n",
      "Collecting jinja2\n",
      "  Downloading Jinja2-3.1.2-py3-none-any.whl (133 kB)\n",
      "\u001b[2K     \u001b[90m━━━━━━━━━━━━━━━━━━━━━━━━━━━━━━━━━━━━━━\u001b[0m \u001b[32m133.1/133.1 kB\u001b[0m \u001b[31m22.3 MB/s\u001b[0m eta \u001b[36m0:00:00\u001b[0m\n",
      "\u001b[?25hCollecting typing-extensions\n",
      "  Using cached typing_extensions-4.5.0-py3-none-any.whl (27 kB)\n",
      "Collecting nvidia-cuda-runtime-cu11==11.7.99\n",
      "  Using cached nvidia_cuda_runtime_cu11-11.7.99-py3-none-manylinux1_x86_64.whl (849 kB)\n",
      "Collecting nvidia-cufft-cu11==10.9.0.58\n",
      "  Downloading nvidia_cufft_cu11-10.9.0.58-py3-none-manylinux1_x86_64.whl (168.4 MB)\n",
      "\u001b[2K     \u001b[90m━━━━━━━━━━━━━━━━━━━━━━━━━━━━━━━━━━━━━━\u001b[0m \u001b[32m168.4/168.4 MB\u001b[0m \u001b[31m15.1 MB/s\u001b[0m eta \u001b[36m0:00:00\u001b[0m00:01\u001b[0m00:01\u001b[0m\n",
      "\u001b[?25hCollecting nvidia-nvtx-cu11==11.7.91\n",
      "  Downloading nvidia_nvtx_cu11-11.7.91-py3-none-manylinux1_x86_64.whl (98 kB)\n",
      "\u001b[2K     \u001b[90m━━━━━━━━━━━━━━━━━━━━━━━━━━━━━━━━━━━━━━━━\u001b[0m \u001b[32m98.6/98.6 kB\u001b[0m \u001b[31m17.0 MB/s\u001b[0m eta \u001b[36m0:00:00\u001b[0m\n",
      "\u001b[?25hCollecting nvidia-nccl-cu11==2.14.3\n",
      "  Downloading nvidia_nccl_cu11-2.14.3-py3-none-manylinux1_x86_64.whl (177.1 MB)\n",
      "\u001b[2K     \u001b[90m━━━━━━━━━━━━━━━━━━━━━━━━━━━━━━━━━━━━━━\u001b[0m \u001b[32m177.1/177.1 MB\u001b[0m \u001b[31m14.9 MB/s\u001b[0m eta \u001b[36m0:00:00\u001b[0m00:01\u001b[0m00:01\u001b[0m\n",
      "\u001b[?25hCollecting nvidia-cusolver-cu11==11.4.0.1\n",
      "  Downloading nvidia_cusolver_cu11-11.4.0.1-2-py3-none-manylinux1_x86_64.whl (102.6 MB)\n",
      "\u001b[2K     \u001b[90m━━━━━━━━━━━━━━━━━━━━━━━━━━━━━━━━━━━━━━\u001b[0m \u001b[32m102.6/102.6 MB\u001b[0m \u001b[31m16.5 MB/s\u001b[0m eta \u001b[36m0:00:00\u001b[0m00:01\u001b[0m00:01\u001b[0m\n",
      "\u001b[?25hCollecting triton==2.0.0\n",
      "  Downloading triton-2.0.0-1-cp38-cp38-manylinux2014_x86_64.manylinux_2_17_x86_64.whl (63.2 MB)\n",
      "\u001b[2K     \u001b[90m━━━━━━━━━━━━━━━━━━━━━━━━━━━━━━━━━━━━━━━━\u001b[0m \u001b[32m63.2/63.2 MB\u001b[0m \u001b[31m18.8 MB/s\u001b[0m eta \u001b[36m0:00:00\u001b[0m00:01\u001b[0m00:01\u001b[0m\n",
      "\u001b[?25hCollecting nvidia-cuda-cupti-cu11==11.7.101\n",
      "  Downloading nvidia_cuda_cupti_cu11-11.7.101-py3-none-manylinux1_x86_64.whl (11.8 MB)\n",
      "\u001b[2K     \u001b[90m━━━━━━━━━━━━━━━━━━━━━━━━━━━━━━━━━━━━━━━━\u001b[0m \u001b[32m11.8/11.8 MB\u001b[0m \u001b[31m19.2 MB/s\u001b[0m eta \u001b[36m0:00:00\u001b[0m00:01\u001b[0m00:01\u001b[0m\n",
      "\u001b[?25hCollecting nvidia-cudnn-cu11==8.5.0.96\n",
      "  Using cached nvidia_cudnn_cu11-8.5.0.96-2-py3-none-manylinux1_x86_64.whl (557.1 MB)\n",
      "Collecting nvidia-cublas-cu11==11.10.3.66\n",
      "  Using cached nvidia_cublas_cu11-11.10.3.66-py3-none-manylinux1_x86_64.whl (317.1 MB)\n",
      "Collecting networkx\n",
      "  Downloading networkx-3.0-py3-none-any.whl (2.0 MB)\n",
      "\u001b[2K     \u001b[90m━━━━━━━━━━━━━━━━━━━━━━━━━━━━━━━━━━━━━━━━\u001b[0m \u001b[32m2.0/2.0 MB\u001b[0m \u001b[31m15.9 MB/s\u001b[0m eta \u001b[36m0:00:00\u001b[0m00:01\u001b[0m00:01\u001b[0m\n",
      "\u001b[?25hCollecting nvidia-curand-cu11==10.2.10.91\n",
      "  Downloading nvidia_curand_cu11-10.2.10.91-py3-none-manylinux1_x86_64.whl (54.6 MB)\n",
      "\u001b[2K     \u001b[90m━━━━━━━━━━━━━━━━━━━━━━━━━━━━━━━━━━━━━━━━\u001b[0m \u001b[32m54.6/54.6 MB\u001b[0m \u001b[31m13.4 MB/s\u001b[0m eta \u001b[36m0:00:00\u001b[0m00:01\u001b[0m00:01\u001b[0m\n",
      "\u001b[?25hCollecting filelock\n",
      "  Downloading filelock-3.10.2-py3-none-any.whl (10.0 kB)\n",
      "Collecting sympy\n",
      "  Using cached sympy-1.11.1-py3-none-any.whl (6.5 MB)\n",
      "Requirement already satisfied: setuptools in /home/dlawodud0484/.local/lib/python3.8/site-packages (from nvidia-cublas-cu11==11.10.3.66->torch!=1.12.0,>=1.7.0->-r requirements.txt (line 11)) (59.5.0)\n",
      "Requirement already satisfied: wheel in /home/dlawodud0484/anaconda3/envs/yolov7_test/lib/python3.8/site-packages (from nvidia-cublas-cu11==11.10.3.66->torch!=1.12.0,>=1.7.0->-r requirements.txt (line 11)) (0.38.4)\n",
      "Collecting cmake\n",
      "  Downloading cmake-3.26.0-py2.py3-none-manylinux2014_x86_64.manylinux_2_17_x86_64.whl (24.0 MB)\n",
      "\u001b[2K     \u001b[90m━━━━━━━━━━━━━━━━━━━━━━━━━━━━━━━━━━━━━━━━\u001b[0m \u001b[32m24.0/24.0 MB\u001b[0m \u001b[31m16.9 MB/s\u001b[0m eta \u001b[36m0:00:00\u001b[0m00:01\u001b[0m00:01\u001b[0m\n",
      "\u001b[?25hCollecting lit\n",
      "  Downloading lit-16.0.0.tar.gz (144 kB)\n",
      "\u001b[2K     \u001b[90m━━━━━━━━━━━━━━━━━━━━━━━━━━━━━━━━━━━━━━\u001b[0m \u001b[32m145.0/145.0 kB\u001b[0m \u001b[31m18.5 MB/s\u001b[0m eta \u001b[36m0:00:00\u001b[0m\n",
      "\u001b[?25h  Preparing metadata (setup.py) ... \u001b[?25ldone\n",
      "\u001b[?25hCollecting markdown>=2.6.8\n",
      "  Downloading Markdown-3.4.2-py3-none-any.whl (93 kB)\n",
      "\u001b[2K     \u001b[90m━━━━━━━━━━━━━━━━━━━━━━━━━━━━━━━━━━━━━━━━\u001b[0m \u001b[32m93.9/93.9 kB\u001b[0m \u001b[31m15.7 MB/s\u001b[0m eta \u001b[36m0:00:00\u001b[0m\n",
      "\u001b[?25hCollecting grpcio>=1.48.2\n",
      "  Using cached grpcio-1.51.3-cp38-cp38-manylinux_2_17_x86_64.manylinux2014_x86_64.whl (4.8 MB)\n",
      "Collecting absl-py>=0.4\n",
      "  Using cached absl_py-1.4.0-py3-none-any.whl (126 kB)\n",
      "Collecting tensorboard-plugin-wit>=1.6.0\n",
      "  Using cached tensorboard_plugin_wit-1.8.1-py3-none-any.whl (781 kB)\n",
      "Collecting google-auth<3,>=1.6.3\n",
      "  Using cached google_auth-2.16.2-py2.py3-none-any.whl (177 kB)\n",
      "Requirement already satisfied: tensorboard-data-server<0.8.0,>=0.7.0 in /home/dlawodud0484/.local/lib/python3.8/site-packages (from tensorboard>=2.4.1->-r requirements.txt (line 17)) (0.7.0)\n",
      "Collecting werkzeug>=1.0.1\n",
      "  Using cached Werkzeug-2.2.3-py3-none-any.whl (233 kB)\n",
      "Collecting google-auth-oauthlib<0.5,>=0.4.1\n",
      "  Using cached google_auth_oauthlib-0.4.6-py2.py3-none-any.whl (18 kB)\n",
      "Collecting pytz>=2020.1\n",
      "  Using cached pytz-2022.7.1-py2.py3-none-any.whl (499 kB)\n",
      "Requirement already satisfied: traitlets>=5 in /home/dlawodud0484/anaconda3/envs/yolov7_test/lib/python3.8/site-packages (from ipython->-r requirements.txt (line 34)) (5.9.0)\n",
      "Requirement already satisfied: decorator in /home/dlawodud0484/anaconda3/envs/yolov7_test/lib/python3.8/site-packages (from ipython->-r requirements.txt (line 34)) (5.1.1)\n",
      "Requirement already satisfied: matplotlib-inline in /home/dlawodud0484/anaconda3/envs/yolov7_test/lib/python3.8/site-packages (from ipython->-r requirements.txt (line 34)) (0.1.6)\n",
      "Requirement already satisfied: stack-data in /home/dlawodud0484/anaconda3/envs/yolov7_test/lib/python3.8/site-packages (from ipython->-r requirements.txt (line 34)) (0.6.2)\n",
      "Requirement already satisfied: pexpect>4.3 in /home/dlawodud0484/anaconda3/envs/yolov7_test/lib/python3.8/site-packages (from ipython->-r requirements.txt (line 34)) (4.8.0)\n",
      "Requirement already satisfied: jedi>=0.16 in /home/dlawodud0484/anaconda3/envs/yolov7_test/lib/python3.8/site-packages (from ipython->-r requirements.txt (line 34)) (0.18.2)\n",
      "Requirement already satisfied: pickleshare in /home/dlawodud0484/anaconda3/envs/yolov7_test/lib/python3.8/site-packages (from ipython->-r requirements.txt (line 34)) (0.7.5)\n",
      "Requirement already satisfied: backcall in /home/dlawodud0484/anaconda3/envs/yolov7_test/lib/python3.8/site-packages (from ipython->-r requirements.txt (line 34)) (0.2.0)\n",
      "Requirement already satisfied: prompt-toolkit!=3.0.37,<3.1.0,>=3.0.30 in /home/dlawodud0484/anaconda3/envs/yolov7_test/lib/python3.8/site-packages (from ipython->-r requirements.txt (line 34)) (3.0.38)\n",
      "Requirement already satisfied: pygments>=2.4.0 in /home/dlawodud0484/anaconda3/envs/yolov7_test/lib/python3.8/site-packages (from ipython->-r requirements.txt (line 34)) (2.14.0)\n",
      "Requirement already satisfied: six in /home/dlawodud0484/anaconda3/envs/yolov7_test/lib/python3.8/site-packages (from cycler>=0.10->matplotlib>=3.2.2->-r requirements.txt (line 4)) (1.16.0)\n",
      "Collecting cachetools<6.0,>=2.0.0\n",
      "  Using cached cachetools-5.3.0-py3-none-any.whl (9.3 kB)\n",
      "Collecting rsa<5,>=3.1.4\n",
      "  Using cached rsa-4.9-py3-none-any.whl (34 kB)\n",
      "Collecting pyasn1-modules>=0.2.1\n",
      "  Using cached pyasn1_modules-0.2.8-py2.py3-none-any.whl (155 kB)\n",
      "Collecting requests-oauthlib>=0.7.0\n",
      "  Using cached requests_oauthlib-1.3.1-py2.py3-none-any.whl (23 kB)\n",
      "Requirement already satisfied: zipp>=3.1.0 in /home/dlawodud0484/anaconda3/envs/yolov7_test/lib/python3.8/site-packages (from importlib-resources>=3.2.0->matplotlib>=3.2.2->-r requirements.txt (line 4)) (3.15.0)\n",
      "Requirement already satisfied: parso<0.9.0,>=0.8.0 in /home/dlawodud0484/anaconda3/envs/yolov7_test/lib/python3.8/site-packages (from jedi>=0.16->ipython->-r requirements.txt (line 34)) (0.8.3)\n",
      "Requirement already satisfied: importlib-metadata>=4.4 in /home/dlawodud0484/anaconda3/envs/yolov7_test/lib/python3.8/site-packages (from markdown>=2.6.8->tensorboard>=2.4.1->-r requirements.txt (line 17)) (6.1.0)\n",
      "Requirement already satisfied: ptyprocess>=0.5 in /home/dlawodud0484/anaconda3/envs/yolov7_test/lib/python3.8/site-packages (from pexpect>4.3->ipython->-r requirements.txt (line 34)) (0.7.0)\n",
      "Requirement already satisfied: wcwidth in /home/dlawodud0484/anaconda3/envs/yolov7_test/lib/python3.8/site-packages (from prompt-toolkit!=3.0.37,<3.1.0,>=3.0.30->ipython->-r requirements.txt (line 34)) (0.2.6)\n",
      "Collecting MarkupSafe>=2.1.1\n",
      "  Using cached MarkupSafe-2.1.2-cp38-cp38-manylinux_2_17_x86_64.manylinux2014_x86_64.whl (25 kB)\n",
      "Requirement already satisfied: pure-eval in /home/dlawodud0484/anaconda3/envs/yolov7_test/lib/python3.8/site-packages (from stack-data->ipython->-r requirements.txt (line 34)) (0.2.2)\n",
      "Requirement already satisfied: executing>=1.2.0 in /home/dlawodud0484/anaconda3/envs/yolov7_test/lib/python3.8/site-packages (from stack-data->ipython->-r requirements.txt (line 34)) (1.2.0)\n",
      "Requirement already satisfied: asttokens>=2.1.0 in /home/dlawodud0484/anaconda3/envs/yolov7_test/lib/python3.8/site-packages (from stack-data->ipython->-r requirements.txt (line 34)) (2.2.1)\n",
      "Collecting mpmath>=0.19\n",
      "  Using cached mpmath-1.3.0-py3-none-any.whl (536 kB)\n",
      "Collecting pyasn1<0.5.0,>=0.4.6\n",
      "  Using cached pyasn1-0.4.8-py2.py3-none-any.whl (77 kB)\n",
      "Collecting oauthlib>=3.0.0\n",
      "  Using cached oauthlib-3.2.2-py3-none-any.whl (151 kB)\n",
      "Building wheels for collected packages: lit\n",
      "  Building wheel for lit (setup.py) ... \u001b[?25ldone\n",
      "\u001b[?25h  Created wheel for lit: filename=lit-16.0.0-py3-none-any.whl size=93602 sha256=6e9063b2bafc96f52198b53dd73db9493249c4c37329c1411368e0eb143adc8c\n",
      "  Stored in directory: /home/dlawodud0484/.cache/pip/wheels/30/c8/c0/9d24f63f30f4879b8efb718a11b2191ef5c8510259d1d6c392\n",
      "Successfully built lit\n",
      "Installing collected packages: tensorboard-plugin-wit, pytz, pyasn1, mpmath, lit, cmake, typing-extensions, tqdm, sympy, rsa, pyasn1-modules, protobuf, Pillow, oauthlib, nvidia-nvtx-cu11, nvidia-nccl-cu11, nvidia-cusparse-cu11, nvidia-curand-cu11, nvidia-cufft-cu11, nvidia-cuda-runtime-cu11, nvidia-cuda-nvrtc-cu11, nvidia-cuda-cupti-cu11, nvidia-cublas-cu11, numpy, networkx, MarkupSafe, kiwisolver, grpcio, fonttools, filelock, charset-normalizer, cachetools, absl-py, werkzeug, scipy, requests, pandas, opencv-python, nvidia-cusolver-cu11, nvidia-cudnn-cu11, markdown, jinja2, google-auth, contourpy, requests-oauthlib, matplotlib, google-auth-oauthlib, triton, torch, torchvision\n",
      "\u001b[31mERROR: pip's dependency resolver does not currently take into account all the packages that are installed. This behaviour is the source of the following dependency conflicts.\n",
      "tensorflow 2.11.0 requires astunparse>=1.6.0, which is not installed.\n",
      "tensorflow 2.11.0 requires flatbuffers>=2.0, which is not installed.\n",
      "tensorflow 2.11.0 requires gast<=0.4.0,>=0.2.1, which is not installed.\n",
      "tensorflow 2.11.0 requires google-pasta>=0.1.1, which is not installed.\n",
      "tensorflow 2.11.0 requires h5py>=2.9.0, which is not installed.\n",
      "tensorflow 2.11.0 requires libclang>=13.0.0, which is not installed.\n",
      "tensorflow 2.11.0 requires opt-einsum>=2.3.2, which is not installed.\n",
      "tensorflow 2.11.0 requires tensorflow-io-gcs-filesystem>=0.23.1; platform_machine != \"arm64\" or platform_system != \"Darwin\", which is not installed.\n",
      "tensorflow 2.11.0 requires termcolor>=1.1.0, which is not installed.\n",
      "tensorflow 2.11.0 requires wrapt>=1.11.0, which is not installed.\n",
      "orbax 0.0.23 requires etils, which is not installed.\n",
      "jax 0.4.1 requires opt-einsum, which is not installed.\n",
      "tensorflowjs 4.2.0 requires protobuf<3.20,>=3.9.2, but you have protobuf 4.21.2 which is incompatible.\n",
      "tensorflow 2.11.0 requires protobuf<3.20,>=3.9.2, but you have protobuf 4.21.2 which is incompatible.\n",
      "tensorflow 2.11.0 requires tensorboard<2.12,>=2.11, but you have tensorboard 2.12.0 which is incompatible.\n",
      "roboflow 0.2.17 requires urllib3==1.26.6, but you have urllib3 1.26.11 which is incompatible.\u001b[0m\u001b[31m\n",
      "\u001b[0mSuccessfully installed MarkupSafe-2.1.2 Pillow-9.4.0 absl-py-1.4.0 cachetools-5.3.0 charset-normalizer-3.1.0 cmake-3.26.0 contourpy-1.0.7 filelock-3.10.2 fonttools-4.39.2 google-auth-2.16.2 google-auth-oauthlib-0.4.6 grpcio-1.51.3 jinja2-3.1.2 kiwisolver-1.4.4 lit-16.0.0 markdown-3.4.2 matplotlib-3.7.1 mpmath-1.3.0 networkx-3.0 numpy-1.23.5 nvidia-cublas-cu11-11.10.3.66 nvidia-cuda-cupti-cu11-11.7.101 nvidia-cuda-nvrtc-cu11-11.7.99 nvidia-cuda-runtime-cu11-11.7.99 nvidia-cudnn-cu11-8.5.0.96 nvidia-cufft-cu11-10.9.0.58 nvidia-curand-cu11-10.2.10.91 nvidia-cusolver-cu11-11.4.0.1 nvidia-cusparse-cu11-11.7.4.91 nvidia-nccl-cu11-2.14.3 nvidia-nvtx-cu11-11.7.91 oauthlib-3.2.2 opencv-python-4.7.0.72 pandas-1.5.3 protobuf-4.21.2 pyasn1-0.4.8 pyasn1-modules-0.2.8 pytz-2022.7.1 requests-2.28.2 requests-oauthlib-1.3.1 rsa-4.9 scipy-1.10.1 sympy-1.11.1 tensorboard-plugin-wit-1.8.1 torch-2.0.0 torchvision-0.15.1 tqdm-4.65.0 triton-2.0.0 typing-extensions-4.5.0 werkzeug-2.2.3\n"
     ]
    }
   ],
   "source": [
    "# 패키지 txt파일로 일괄 다운\n",
    "# txt 파일 인코딩 주의\n",
    "# 기본경로가 아닌 가상환경에 설치\n",
    "! /home/dlawodud0484/anaconda3/envs/yolov7_test/bin/python -m pip install -r requirements.txt"
   ]
  },
  {
   "cell_type": "code",
   "execution_count": 9,
   "id": "7124cb23",
   "metadata": {},
   "outputs": [],
   "source": [
    "# yaml 내용 수정 중 경로를 불러오기 위해 사용될 glob import\n",
    "from glob import glob"
   ]
  },
  {
   "cell_type": "code",
   "execution_count": 10,
   "id": "8407c18d",
   "metadata": {},
   "outputs": [
    {
     "name": "stdout",
     "output_type": "stream",
     "text": [
      "12614\n"
     ]
    }
   ],
   "source": [
    "# 이미지 경로 가져오기\n",
    "train_list = glob(\"/home/dlawodud0484/yolo_bee_detector/mite/train/images/*.jpg\")\n",
    "print(len(train_list))"
   ]
  },
  {
   "cell_type": "code",
   "execution_count": 11,
   "id": "f411775e",
   "metadata": {},
   "outputs": [
    {
     "name": "stdout",
     "output_type": "stream",
     "text": [
      "790\n"
     ]
    }
   ],
   "source": [
    "# 이미지 경로 가져오기\n",
    "val_list = glob(\"/home/dlawodud0484/yolo_bee_detector/mite/valid/images/*.jpg\")\n",
    "print(len(val_list))"
   ]
  },
  {
   "cell_type": "code",
   "execution_count": 12,
   "id": "492c793a",
   "metadata": {},
   "outputs": [],
   "source": [
    "# 테스트, 검증 이미지 경로 txt로 저장\n",
    "with open(\"/home/dlawodud0484/yolo_bee_detector/mite/train.txt\", \"w\") as f:\n",
    "    f.write(\"\\n\".join(train_list) + \"\\n\")\n",
    "\n",
    "with open(\"/home/dlawodud0484/yolo_bee_detector/mite/val.txt\", \"w\") as f:\n",
    "    f.write(\"\\n\".join(val_list) + \"\\n\")"
   ]
  },
  {
   "cell_type": "code",
   "execution_count": 13,
   "id": "5abcbc4d",
   "metadata": {},
   "outputs": [],
   "source": [
    "# yaml 불러오기\n",
    "import yaml"
   ]
  },
  {
   "cell_type": "code",
   "execution_count": 14,
   "id": "3eedca76",
   "metadata": {},
   "outputs": [
    {
     "name": "stdout",
     "output_type": "stream",
     "text": [
      "{'train': '../train/images', 'val': '../valid/images', 'test': '../test/images', 'nc': 1, 'names': ['varroa_mite'], 'roboflow': {'workspace': 'honeybee', 'project': 'honeybee_varroamite', 'version': 5, 'license': 'CC BY 4.0', 'url': 'https://universe.roboflow.com/honeybee/honeybee_varroamite/dataset/5'}}\n"
     ]
    }
   ],
   "source": [
    "# data.yaml 불러오기\n",
    "with open(\"/home/dlawodud0484/yolo_bee_detector/mite/data.yaml\",\"r\") as f:\n",
    "    data = yaml.full_load(f)\n",
    "\n",
    "print(data)"
   ]
  },
  {
   "cell_type": "code",
   "execution_count": 15,
   "id": "b445c4fc",
   "metadata": {
    "scrolled": true
   },
   "outputs": [
    {
     "name": "stdout",
     "output_type": "stream",
     "text": [
      "{'train': '/home/dlawodud0484/yolo_bee_detector/mite/train.txt', 'val': '/home/dlawodud0484/yolo_bee_detector/mite/val.txt', 'test': '../test/images', 'nc': 1, 'names': ['varroa_mite'], 'roboflow': {'workspace': 'honeybee', 'project': 'honeybee_varroamite', 'version': 5, 'license': 'CC BY 4.0', 'url': 'https://universe.roboflow.com/honeybee/honeybee_varroamite/dataset/5'}}\n"
     ]
    }
   ],
   "source": [
    "# data.yaml에 테스트 검증 이미지 주소 넣어주기\n",
    "data[\"train\"] = \"/home/dlawodud0484/yolo_bee_detector/mite/train.txt\"\n",
    "data[\"val\"] = \"/home/dlawodud0484/yolo_bee_detector/mite/val.txt\"\n",
    "\n",
    "with open(\"/home/dlawodud0484/yolo_bee_detector/mite/data.yaml\", \"w\") as f:\n",
    "    yaml.dump(data,f)\n",
    "print(data)"
   ]
  },
  {
   "cell_type": "code",
   "execution_count": 19,
   "id": "5cb0b893",
   "metadata": {
    "scrolled": true
   },
   "outputs": [
    {
     "name": "stdout",
     "output_type": "stream",
     "text": [
      "Defaulting to user installation because normal site-packages is not writeable\n",
      "Requirement already satisfied: setuptools==59.5.0 in /home/dlawodud0484/.local/lib/python3.8/site-packages (59.5.0)\n",
      "Name: setuptools\n",
      "Version: 59.5.0\n",
      "Summary: Easily download, build, install, upgrade, and uninstall Python packages\n",
      "Home-page: https://github.com/pypa/setuptools\n",
      "Author: Python Packaging Authority\n",
      "Author-email: distutils-sig@python.org\n",
      "License: UNKNOWN\n",
      "Location: /home/dlawodud0484/.local/lib/python3.8/site-packages\n",
      "Requires: \n",
      "Required-by: google-auth, ipython, numba, tensorboard, tensorflow, tensorflow-gpu\n"
     ]
    }
   ],
   "source": [
    "# !python3 train.py 실행 시 AttributeError: module 'distutils' has no attribute 'version' 오류를 해결하기 위해 setuptools을 가상환경경로가 아닌 기본경로에 설치\n",
    "!pip install setuptools==59.5.0\n",
    "!pip show setuptools"
   ]
  },
  {
   "cell_type": "code",
   "execution_count": 17,
   "id": "80b36f8f",
   "metadata": {
    "scrolled": true
   },
   "outputs": [
    {
     "name": "stdout",
     "output_type": "stream",
     "text": [
      "Name: numpy\r\n",
      "Version: 1.24.2\r\n",
      "Summary: Fundamental package for array computing in Python\r\n",
      "Home-page: https://www.numpy.org\r\n",
      "Author: Travis E. Oliphant et al.\r\n",
      "Author-email: \r\n",
      "License: BSD-3-Clause\r\n",
      "Location: /home/dlawodud0484/.local/lib/python3.8/site-packages\r\n",
      "Requires: \r\n",
      "Required-by: chex, datasets, flax, gensim, h5py, jax, jaxlib, Keras-Preprocessing, konlpy, Korpora, matplotlib, numba, opencv-python, opencv-python-headless, opt-einsum, optax, orbax, pandas, patsy, pyarrow, pyod, roboflow, scikit-learn, scipy, seaborn, statsmodels, tensorboard, tensorflow, tensorflow-datasets, tensorflow-decision-forests, tensorflow-gpu, tensorflow-hub, tensorstore, torchvision, transformers, umap-learn\r\n"
     ]
    }
   ],
   "source": [
    "# numpy 버전 확인\n",
    "!pip show numpy"
   ]
  },
  {
   "cell_type": "code",
   "execution_count": 21,
   "id": "c0d90a2a",
   "metadata": {},
   "outputs": [
    {
     "name": "stdout",
     "output_type": "stream",
     "text": [
      "Requirement already satisfied: numpy==1.24.1 in /home/dlawodud0484/anaconda3/envs/yolov7_test/lib/python3.8/site-packages (1.24.1)\r\n"
     ]
    }
   ],
   "source": [
    "# numpy 다운그레이드 필요 1.24.1로 해주니까 돌아감\n",
    "!/home/dlawodud0484/anaconda3/envs/yolov7_test/bin/python -m pip install numpy==1.24.1"
   ]
  },
  {
   "cell_type": "code",
   "execution_count": 12,
   "id": "9473667a",
   "metadata": {
    "scrolled": true
   },
   "outputs": [
    {
     "name": "stdout",
     "output_type": "stream",
     "text": [
      "/home/dlawodud0484/yolo_bee_detector/yolov7\n"
     ]
    }
   ],
   "source": [
    "# train.py가 있는 폴더로 이동\n",
    "%cd /home/dlawodud0484/yolo_bee_detector/yolov7"
   ]
  },
  {
   "cell_type": "code",
   "execution_count": 9,
   "id": "38537454",
   "metadata": {
    "scrolled": true
   },
   "outputs": [
    {
     "name": "stdout",
     "output_type": "stream",
     "text": [
      "Defaulting to user installation because normal site-packages is not writeable\n",
      "Requirement already satisfied: wandb in /home/dlawodud0484/.local/lib/python3.8/site-packages (0.14.0)\n",
      "Requirement already satisfied: typing-extensions in /usr/local/lib/python3.8/dist-packages (from wandb) (3.10.0.2)\n",
      "Requirement already satisfied: Click!=8.0.0,>=7.0 in /home/dlawodud0484/.local/lib/python3.8/site-packages (from wandb) (8.1.3)\n",
      "Requirement already satisfied: sentry-sdk>=1.0.0 in /home/dlawodud0484/.local/lib/python3.8/site-packages (from wandb) (1.16.0)\n",
      "Requirement already satisfied: GitPython!=3.1.29,>=1.0.0 in /home/dlawodud0484/.local/lib/python3.8/site-packages (from wandb) (3.1.30)\n",
      "Requirement already satisfied: protobuf!=4.21.0,<5,>=3.12.0 in /usr/local/lib/python3.8/dist-packages (from wandb) (3.19.6)\n",
      "Requirement already satisfied: docker-pycreds>=0.4.0 in /home/dlawodud0484/.local/lib/python3.8/site-packages (from wandb) (0.4.0)\n",
      "Requirement already satisfied: setproctitle in /home/dlawodud0484/.local/lib/python3.8/site-packages (from wandb) (1.3.2)\n",
      "Requirement already satisfied: appdirs>=1.4.3 in /home/dlawodud0484/.local/lib/python3.8/site-packages (from wandb) (1.4.4)\n",
      "Requirement already satisfied: pathtools in /home/dlawodud0484/.local/lib/python3.8/site-packages (from wandb) (0.1.2)\n",
      "Requirement already satisfied: requests<3,>=2.0.0 in /usr/local/lib/python3.8/dist-packages (from wandb) (2.27.1)\n",
      "Requirement already satisfied: psutil>=5.0.0 in /usr/local/lib/python3.8/dist-packages (from wandb) (5.9.2)\n",
      "Requirement already satisfied: setuptools in /home/dlawodud0484/.local/lib/python3.8/site-packages (from wandb) (59.5.0)\n",
      "Requirement already satisfied: PyYAML in /home/dlawodud0484/.local/lib/python3.8/site-packages (from wandb) (6.0)\n",
      "Requirement already satisfied: six>=1.4.0 in /usr/local/lib/python3.8/dist-packages (from docker-pycreds>=0.4.0->wandb) (1.15.0)\n",
      "Requirement already satisfied: gitdb<5,>=4.0.1 in /home/dlawodud0484/.local/lib/python3.8/site-packages (from GitPython!=3.1.29,>=1.0.0->wandb) (4.0.10)\n",
      "Requirement already satisfied: idna<4,>=2.5 in /home/dlawodud0484/.local/lib/python3.8/site-packages (from requests<3,>=2.0.0->wandb) (2.10)\n",
      "Requirement already satisfied: certifi>=2017.4.17 in /home/dlawodud0484/.local/lib/python3.8/site-packages (from requests<3,>=2.0.0->wandb) (2021.5.30)\n",
      "Requirement already satisfied: charset-normalizer~=2.0.0 in /usr/local/lib/python3.8/dist-packages (from requests<3,>=2.0.0->wandb) (2.0.12)\n",
      "Requirement already satisfied: urllib3<1.27,>=1.21.1 in /home/dlawodud0484/.local/lib/python3.8/site-packages (from requests<3,>=2.0.0->wandb) (1.26.11)\n",
      "Requirement already satisfied: smmap<6,>=3.0.1 in /home/dlawodud0484/.local/lib/python3.8/site-packages (from gitdb<5,>=4.0.1->GitPython!=3.1.29,>=1.0.0->wandb) (5.0.0)\n"
     ]
    }
   ],
   "source": [
    "# 결과 확인 편리를 위해 wandb 설치\n",
    "!pip3 install wandb"
   ]
  },
  {
   "cell_type": "code",
   "execution_count": 22,
   "id": "142e3793",
   "metadata": {},
   "outputs": [
    {
     "name": "stdout",
     "output_type": "stream",
     "text": [
      "YOLOR 🚀 2023-3-3 torch 1.9.0+cu111 CUDA:0 (NVIDIA A100 80GB PCIe, 81111.5MB)\n",
      "                                   CUDA:1 (NVIDIA A100 80GB PCIe, 81111.5MB)\n",
      "\n",
      "Namespace(adam=False, artifact_alias='latest', batch_size=4, bbox_interval=-1, bucket='', cache_images=False, cfg='yolov7.yaml', data='/home/dlawodud0484/yolo_bee_detector/mite/data.yaml', device='', entity=None, epochs=30, evolve=False, exist_ok=False, freeze=[0], global_rank=-1, hyp='data/hyp.scratch.p5.yaml', image_weights=False, img_size=[160, 160], label_smoothing=0.0, linear_lr=False, local_rank=-1, multi_scale=False, name='mite_detector_yolov7', noautoanchor=False, nosave=False, notest=False, project='mite_detector_yolov7_160_50', quad=False, rect=False, resume=False, save_dir='mite_detector_yolov7_160_50/mite_detector_yolov79', save_period=-1, single_cls=False, sync_bn=False, total_batch_size=4, upload_dataset=False, v5_metric=False, weights='yolov7.pt', workers=8, world_size=1)\n",
      "\u001b[34m\u001b[1mtensorboard: \u001b[0mStart with 'tensorboard --logdir mite_detector_yolov7_160_50', view at http://localhost:6006/\n",
      "2023-04-03 16:53:13.593634: I tensorflow/core/platform/cpu_feature_guard.cc:193] This TensorFlow binary is optimized with oneAPI Deep Neural Network Library (oneDNN) to use the following CPU instructions in performance-critical operations:  AVX2 AVX512F AVX512_VNNI FMA\n",
      "To enable them in other operations, rebuild TensorFlow with the appropriate compiler flags.\n",
      "2023-04-03 16:53:13.712712: I tensorflow/core/util/port.cc:104] oneDNN custom operations are on. You may see slightly different numerical results due to floating-point round-off errors from different computation orders. To turn them off, set the environment variable `TF_ENABLE_ONEDNN_OPTS=0`.\n",
      "Traceback (most recent call last):\n",
      "  File \"/home/dlawodud0484/.local/lib/python3.8/site-packages/tensorboard/compat/__init__.py\", line 42, in tf\n",
      "    from tensorboard.compat import notf  # noqa: F401\n",
      "ImportError: cannot import name 'notf' from 'tensorboard.compat' (/home/dlawodud0484/.local/lib/python3.8/site-packages/tensorboard/compat/__init__.py)\n",
      "\n",
      "During handling of the above exception, another exception occurred:\n",
      "\n",
      "RuntimeError: module compiled against API version 0xe but this version of numpy is 0xd\n",
      "\u001b[34m\u001b[1mhyperparameters: \u001b[0mlr0=0.01, lrf=0.1, momentum=0.937, weight_decay=0.0005, warmup_epochs=3.0, warmup_momentum=0.8, warmup_bias_lr=0.1, box=0.05, cls=0.3, cls_pw=1.0, obj=0.7, obj_pw=1.0, iou_t=0.2, anchor_t=4.0, fl_gamma=0.0, hsv_h=0.015, hsv_s=0.7, hsv_v=0.4, degrees=0.0, translate=0.2, scale=0.9, shear=0.0, perspective=0.0, flipud=0.0, fliplr=0.5, mosaic=1.0, mixup=0.15, copy_paste=0.0, paste_in=0.15, loss_ota=1\n",
      "\u001b[34m\u001b[1mwandb\u001b[0m: Currently logged in as: \u001b[33mdlawodud0484\u001b[0m. Use \u001b[1m`wandb login --relogin`\u001b[0m to force relogin\n",
      "\u001b[34m\u001b[1mwandb\u001b[0m: Tracking run with wandb version 0.14.0\n",
      "\u001b[34m\u001b[1mwandb\u001b[0m: Run data is saved locally in \u001b[35m\u001b[1m/home/dlawodud0484/yolo_bee_detector/yolov7/wandb/run-20230403_165319-75eds7em\u001b[0m\n",
      "\u001b[34m\u001b[1mwandb\u001b[0m: Run \u001b[1m`wandb offline`\u001b[0m to turn off syncing.\n",
      "\u001b[34m\u001b[1mwandb\u001b[0m: Syncing run \u001b[33mmite_detector_yolov79\u001b[0m\n",
      "\u001b[34m\u001b[1mwandb\u001b[0m: ⭐️ View project at \u001b[34m\u001b[4mhttps://wandb.ai/dlawodud0484/mite_detector_yolov7_160_50\u001b[0m\n",
      "\u001b[34m\u001b[1mwandb\u001b[0m: 🚀 View run at \u001b[34m\u001b[4mhttps://wandb.ai/dlawodud0484/mite_detector_yolov7_160_50/runs/75eds7em\u001b[0m\n",
      "Overriding model.yaml nc=80 with nc=1\n",
      "\n",
      "                 from  n    params  module                                  arguments                     \n",
      "  0                -1  1       928  models.common.Conv                      [3, 32, 3, 1]                 \n",
      "  1                -1  1     18560  models.common.Conv                      [32, 64, 3, 2]                \n",
      "  2                -1  1     36992  models.common.Conv                      [64, 64, 3, 1]                \n",
      "  3                -1  1     73984  models.common.Conv                      [64, 128, 3, 2]               \n",
      "  4                -1  1      8320  models.common.Conv                      [128, 64, 1, 1]               \n",
      "  5                -2  1      8320  models.common.Conv                      [128, 64, 1, 1]               \n",
      "  6                -1  1     36992  models.common.Conv                      [64, 64, 3, 1]                \n",
      "  7                -1  1     36992  models.common.Conv                      [64, 64, 3, 1]                \n",
      "  8                -1  1     36992  models.common.Conv                      [64, 64, 3, 1]                \n",
      "  9                -1  1     36992  models.common.Conv                      [64, 64, 3, 1]                \n",
      " 10  [-1, -3, -5, -6]  1         0  models.common.Concat                    [1]                           \n",
      " 11                -1  1     66048  models.common.Conv                      [256, 256, 1, 1]              \n",
      " 12                -1  1         0  models.common.MP                        []                            \n",
      " 13                -1  1     33024  models.common.Conv                      [256, 128, 1, 1]              \n",
      " 14                -3  1     33024  models.common.Conv                      [256, 128, 1, 1]              \n",
      " 15                -1  1    147712  models.common.Conv                      [128, 128, 3, 2]              \n",
      " 16          [-1, -3]  1         0  models.common.Concat                    [1]                           \n",
      " 17                -1  1     33024  models.common.Conv                      [256, 128, 1, 1]              \n",
      " 18                -2  1     33024  models.common.Conv                      [256, 128, 1, 1]              \n",
      " 19                -1  1    147712  models.common.Conv                      [128, 128, 3, 1]              \n",
      " 20                -1  1    147712  models.common.Conv                      [128, 128, 3, 1]              \n",
      " 21                -1  1    147712  models.common.Conv                      [128, 128, 3, 1]              \n",
      " 22                -1  1    147712  models.common.Conv                      [128, 128, 3, 1]              \n",
      " 23  [-1, -3, -5, -6]  1         0  models.common.Concat                    [1]                           \n",
      " 24                -1  1    263168  models.common.Conv                      [512, 512, 1, 1]              \n",
      " 25                -1  1         0  models.common.MP                        []                            \n",
      " 26                -1  1    131584  models.common.Conv                      [512, 256, 1, 1]              \n",
      " 27                -3  1    131584  models.common.Conv                      [512, 256, 1, 1]              \n",
      " 28                -1  1    590336  models.common.Conv                      [256, 256, 3, 2]              \n",
      " 29          [-1, -3]  1         0  models.common.Concat                    [1]                           \n",
      " 30                -1  1    131584  models.common.Conv                      [512, 256, 1, 1]              \n",
      " 31                -2  1    131584  models.common.Conv                      [512, 256, 1, 1]              \n",
      " 32                -1  1    590336  models.common.Conv                      [256, 256, 3, 1]              \n",
      " 33                -1  1    590336  models.common.Conv                      [256, 256, 3, 1]              \n",
      " 34                -1  1    590336  models.common.Conv                      [256, 256, 3, 1]              \n",
      " 35                -1  1    590336  models.common.Conv                      [256, 256, 3, 1]              \n",
      " 36  [-1, -3, -5, -6]  1         0  models.common.Concat                    [1]                           \n",
      " 37                -1  1   1050624  models.common.Conv                      [1024, 1024, 1, 1]            \n",
      " 38                -1  1         0  models.common.MP                        []                            \n",
      " 39                -1  1    525312  models.common.Conv                      [1024, 512, 1, 1]             \n",
      " 40                -3  1    525312  models.common.Conv                      [1024, 512, 1, 1]             \n",
      " 41                -1  1   2360320  models.common.Conv                      [512, 512, 3, 2]              \n",
      " 42          [-1, -3]  1         0  models.common.Concat                    [1]                           \n",
      " 43                -1  1    262656  models.common.Conv                      [1024, 256, 1, 1]             \n",
      " 44                -2  1    262656  models.common.Conv                      [1024, 256, 1, 1]             \n",
      " 45                -1  1    590336  models.common.Conv                      [256, 256, 3, 1]              \n",
      " 46                -1  1    590336  models.common.Conv                      [256, 256, 3, 1]              \n",
      " 47                -1  1    590336  models.common.Conv                      [256, 256, 3, 1]              \n",
      " 48                -1  1    590336  models.common.Conv                      [256, 256, 3, 1]              \n",
      " 49  [-1, -3, -5, -6]  1         0  models.common.Concat                    [1]                           \n",
      " 50                -1  1   1050624  models.common.Conv                      [1024, 1024, 1, 1]            \n",
      " 51                -1  1   7609344  models.common.SPPCSPC                   [1024, 512, 1]                \n",
      " 52                -1  1    131584  models.common.Conv                      [512, 256, 1, 1]              \n",
      " 53                -1  1         0  torch.nn.modules.upsampling.Upsample    [None, 2, 'nearest']          \n",
      " 54                37  1    262656  models.common.Conv                      [1024, 256, 1, 1]             \n",
      " 55          [-1, -2]  1         0  models.common.Concat                    [1]                           \n",
      " 56                -1  1    131584  models.common.Conv                      [512, 256, 1, 1]              \n",
      " 57                -2  1    131584  models.common.Conv                      [512, 256, 1, 1]              \n",
      " 58                -1  1    295168  models.common.Conv                      [256, 128, 3, 1]              \n",
      " 59                -1  1    147712  models.common.Conv                      [128, 128, 3, 1]              \n",
      " 60                -1  1    147712  models.common.Conv                      [128, 128, 3, 1]              \n",
      " 61                -1  1    147712  models.common.Conv                      [128, 128, 3, 1]              \n",
      " 62[-1, -2, -3, -4, -5, -6]  1         0  models.common.Concat                    [1]                           \n",
      " 63                -1  1    262656  models.common.Conv                      [1024, 256, 1, 1]             \n",
      " 64                -1  1     33024  models.common.Conv                      [256, 128, 1, 1]              \n",
      " 65                -1  1         0  torch.nn.modules.upsampling.Upsample    [None, 2, 'nearest']          \n",
      " 66                24  1     65792  models.common.Conv                      [512, 128, 1, 1]              \n",
      " 67          [-1, -2]  1         0  models.common.Concat                    [1]                           \n",
      " 68                -1  1     33024  models.common.Conv                      [256, 128, 1, 1]              \n",
      " 69                -2  1     33024  models.common.Conv                      [256, 128, 1, 1]              \n",
      " 70                -1  1     73856  models.common.Conv                      [128, 64, 3, 1]               \n",
      " 71                -1  1     36992  models.common.Conv                      [64, 64, 3, 1]                \n",
      " 72                -1  1     36992  models.common.Conv                      [64, 64, 3, 1]                \n",
      " 73                -1  1     36992  models.common.Conv                      [64, 64, 3, 1]                \n",
      " 74[-1, -2, -3, -4, -5, -6]  1         0  models.common.Concat                    [1]                           \n",
      " 75                -1  1     65792  models.common.Conv                      [512, 128, 1, 1]              \n",
      " 76                -1  1         0  models.common.MP                        []                            \n",
      " 77                -1  1     16640  models.common.Conv                      [128, 128, 1, 1]              \n",
      " 78                -3  1     16640  models.common.Conv                      [128, 128, 1, 1]              \n",
      " 79                -1  1    147712  models.common.Conv                      [128, 128, 3, 2]              \n",
      " 80      [-1, -3, 63]  1         0  models.common.Concat                    [1]                           \n",
      " 81                -1  1    131584  models.common.Conv                      [512, 256, 1, 1]              \n",
      " 82                -2  1    131584  models.common.Conv                      [512, 256, 1, 1]              \n",
      " 83                -1  1    295168  models.common.Conv                      [256, 128, 3, 1]              \n",
      " 84                -1  1    147712  models.common.Conv                      [128, 128, 3, 1]              \n",
      " 85                -1  1    147712  models.common.Conv                      [128, 128, 3, 1]              \n",
      " 86                -1  1    147712  models.common.Conv                      [128, 128, 3, 1]              \n",
      " 87[-1, -2, -3, -4, -5, -6]  1         0  models.common.Concat                    [1]                           \n",
      " 88                -1  1    262656  models.common.Conv                      [1024, 256, 1, 1]             \n",
      " 89                -1  1         0  models.common.MP                        []                            \n",
      " 90                -1  1     66048  models.common.Conv                      [256, 256, 1, 1]              \n",
      " 91                -3  1     66048  models.common.Conv                      [256, 256, 1, 1]              \n",
      " 92                -1  1    590336  models.common.Conv                      [256, 256, 3, 2]              \n",
      " 93      [-1, -3, 51]  1         0  models.common.Concat                    [1]                           \n",
      " 94                -1  1    525312  models.common.Conv                      [1024, 512, 1, 1]             \n",
      " 95                -2  1    525312  models.common.Conv                      [1024, 512, 1, 1]             \n",
      " 96                -1  1   1180160  models.common.Conv                      [512, 256, 3, 1]              \n",
      " 97                -1  1    590336  models.common.Conv                      [256, 256, 3, 1]              \n",
      " 98                -1  1    590336  models.common.Conv                      [256, 256, 3, 1]              \n",
      " 99                -1  1    590336  models.common.Conv                      [256, 256, 3, 1]              \n",
      "100[-1, -2, -3, -4, -5, -6]  1         0  models.common.Concat                    [1]                           \n",
      "101                -1  1   1049600  models.common.Conv                      [2048, 512, 1, 1]             \n",
      "102                75  1    328704  models.common.RepConv                   [128, 256, 3, 1]              \n",
      "103                88  1   1312768  models.common.RepConv                   [256, 512, 3, 1]              \n",
      "104               101  1   5246976  models.common.RepConv                   [512, 1024, 3, 1]             \n",
      "105   [102, 103, 104]  1     34156  models.yolo.IDetect                     [1, [[12, 16, 19, 36, 40, 28], [36, 75, 76, 55, 72, 146], [142, 110, 192, 243, 459, 401]], [256, 512, 1024]]\n",
      "/usr/local/lib/python3.8/dist-packages/torch/nn/functional.py:718: UserWarning: Named tensors and all their associated APIs are an experimental feature and subject to change. Please do not use them for anything important until they are released as stable. (Triggered internally at  /pytorch/c10/core/TensorImpl.h:1156.)\n",
      "  return torch.max_pool2d(input, kernel_size, stride, padding, dilation, ceil_mode)\n",
      "Model Summary: 415 layers, 37196556 parameters, 37196556 gradients, 105.1 GFLOPS\n",
      "\n",
      "Transferred 552/566 items from yolov7.pt\n",
      "Scaled weight_decay = 0.0005\n",
      "Optimizer groups: 95 .bias, 95 conv.weight, 98 other\n",
      "\u001b[34m\u001b[1mtrain: \u001b[0mScanning '/home/dlawodud0484/yolo_bee_detector/mite/train.cache' images a\u001b[0m\n",
      "\u001b[34m\u001b[1mval: \u001b[0mScanning '/home/dlawodud0484/yolo_bee_detector/mite/val.cache' images and l\u001b[0m\n",
      "[W pthreadpool-cpp.cc:90] Warning: Leaking Caffe2 thread-pool after fork. (function pthreadpool)\n",
      "[W pthreadpool-cpp.cc:90] Warning: Leaking Caffe2 thread-pool after fork. (function pthreadpool)\n",
      "[W pthreadpool-cpp.cc:90] Warning: Leaking Caffe2 thread-pool after fork. (function pthreadpool)\n",
      "[W pthreadpool-cpp.cc:90] Warning: Leaking Caffe2 thread-pool after fork. (function pthreadpool)\n",
      "[W pthreadpool-cpp.cc:90] Warning: Leaking Caffe2 thread-pool after fork. (function pthreadpool)\n",
      "[W pthreadpool-cpp.cc:90] Warning: Leaking Caffe2 thread-pool after fork. (function pthreadpool)\n",
      "[W pthreadpool-cpp.cc:90] Warning: Leaking Caffe2 thread-pool after fork. (function pthreadpool)\n",
      "[W pthreadpool-cpp.cc:90] Warning: Leaking Caffe2 thread-pool after fork. (function pthreadpool)\n",
      "\n",
      "\u001b[34m\u001b[1mautoanchor: \u001b[0mAnalyzing anchors... anchors/target = 5.27, Best Possible Recall (BPR) = 0.9867\n",
      "Image sizes 160 train, 160 test\n",
      "Using 4 dataloader workers\n",
      "Logging results to mite_detector_yolov7_160_50/mite_detector_yolov79\n",
      "Starting training for 30 epochs...\n",
      "\n",
      "     Epoch   gpu_mem       box       obj       cls     total    labels  img_size\n",
      "      0/29    0.986G   0.04387  0.002277         0   0.04614        10       160\n",
      "               Class      Images      Labels           P           R      mAP@.5\n",
      "                 all         790         580       0.228       0.317       0.156      0.0425\n",
      "\n",
      "     Epoch   gpu_mem       box       obj       cls     total    labels  img_size\n",
      "      1/29     3.14G   0.02954  0.002223         0   0.03177         5       160\n",
      "               Class      Images      Labels           P           R      mAP@.5\n",
      "                 all         790         580       0.544       0.429       0.417       0.124\n",
      "\n",
      "     Epoch   gpu_mem       box       obj       cls     total    labels  img_size\n",
      "      2/29     3.14G   0.02821   0.00211         0   0.03032         3       160\n",
      "               Class      Images      Labels           P           R      mAP@.5\n",
      "                 all         790         580       0.402       0.362       0.234      0.0566\n",
      "\n",
      "     Epoch   gpu_mem       box       obj       cls     total    labels  img_size\n",
      "      3/29     3.14G   0.02953  0.001993         0   0.03152         5       160\n",
      "               Class      Images      Labels           P           R      mAP@.5\n",
      "                 all         790         580        0.39       0.324       0.244      0.0623\n",
      "\n",
      "     Epoch   gpu_mem       box       obj       cls     total    labels  img_size\n",
      "      4/29     3.14G   0.02542  0.002058         0   0.02748         4       160\n",
      "               Class      Images      Labels           P           R      mAP@.5\n",
      "                 all         790         580       0.514       0.403       0.361        0.11\n",
      "\n",
      "     Epoch   gpu_mem       box       obj       cls     total    labels  img_size\n",
      "      5/29     3.14G   0.02466   0.00209         0   0.02675         3       160\n",
      "               Class      Images      Labels           P           R      mAP@.5\n",
      "                 all         790         580       0.497       0.381       0.343      0.0964\n",
      "\n",
      "     Epoch   gpu_mem       box       obj       cls     total    labels  img_size\n",
      "      6/29     3.14G   0.02432  0.002085         0   0.02641         4       160\n",
      "               Class      Images      Labels           P           R      mAP@.5\n",
      "                 all         790         580       0.492       0.452       0.362       0.108\n",
      "\n",
      "     Epoch   gpu_mem       box       obj       cls     total    labels  img_size\n",
      "      7/29     3.14G   0.02392  0.002085         0   0.02601         1       160\n",
      "               Class      Images      Labels           P           R      mAP@.5\n",
      "                 all         790         580       0.538        0.46       0.376       0.119\n",
      "\n",
      "     Epoch   gpu_mem       box       obj       cls     total    labels  img_size\n",
      "      8/29     3.14G   0.02496  0.002095         0   0.02706         2       160\n",
      "               Class      Images      Labels           P           R      mAP@.5\n",
      "                 all         790         580       0.401       0.343       0.258      0.0757\n",
      "\n",
      "     Epoch   gpu_mem       box       obj       cls     total    labels  img_size\n",
      "      9/29     3.14G   0.02494  0.002067         0     0.027         3       160\n",
      "               Class      Images      Labels           P           R      mAP@.5\n",
      "                 all         790         580       0.466       0.406       0.315      0.0932\n",
      "\n",
      "     Epoch   gpu_mem       box       obj       cls     total    labels  img_size\n",
      "     10/29     3.14G   0.02493  0.002113         0   0.02704         0       160\n",
      "               Class      Images      Labels           P           R      mAP@.5\n",
      "                 all         790         580       0.394       0.441       0.266      0.0818\n",
      "\n",
      "     Epoch   gpu_mem       box       obj       cls     total    labels  img_size\n",
      "     11/29     3.14G   0.02462  0.002058         0   0.02668         7       160\n",
      "               Class      Images      Labels           P           R      mAP@.5\n",
      "                 all         790         580        0.49       0.452       0.374       0.111\n",
      "\n",
      "     Epoch   gpu_mem       box       obj       cls     total    labels  img_size\n",
      "     12/29     3.14G    0.0255  0.002015         0   0.02751         4       160\n",
      "               Class      Images      Labels           P           R      mAP@.5\n",
      "                 all         790         580       0.528       0.419       0.387       0.119\n",
      "\n",
      "     Epoch   gpu_mem       box       obj       cls     total    labels  img_size\n",
      "     13/29     3.14G   0.02517  0.002048         0   0.02722         2       160\n",
      "               Class      Images      Labels           P           R      mAP@.5\n",
      "                 all         790         580       0.557       0.449       0.405       0.127\n",
      "\n",
      "     Epoch   gpu_mem       box       obj       cls     total    labels  img_size\n",
      "     14/29     3.14G   0.02385  0.001994         0   0.02584         1       160\n",
      "               Class      Images      Labels           P           R      mAP@.5\n",
      "                 all         790         580       0.533       0.476       0.436       0.134\n",
      "\n",
      "     Epoch   gpu_mem       box       obj       cls     total    labels  img_size\n",
      "     15/29     3.14G   0.02473  0.002025         0   0.02675         3       160\n",
      "               Class      Images      Labels           P           R      mAP@.5\n",
      "                 all         790         580       0.503       0.436       0.416       0.134\n",
      "\n",
      "     Epoch   gpu_mem       box       obj       cls     total    labels  img_size\n",
      "     16/29     3.14G   0.02472  0.002049         0   0.02677         3       160\n",
      "               Class      Images      Labels           P           R      mAP@.5\n",
      "                 all         790         580       0.588       0.453       0.428       0.135\n",
      "\n",
      "     Epoch   gpu_mem       box       obj       cls     total    labels  img_size\n",
      "     17/29     3.14G   0.02457  0.002028         0    0.0266         0       160\n",
      "               Class      Images      Labels           P           R      mAP@.5\n",
      "                 all         790         580       0.522       0.512       0.437       0.138\n",
      "\n",
      "     Epoch   gpu_mem       box       obj       cls     total    labels  img_size\n",
      "     18/29     3.14G   0.02359   0.00199         0   0.02558         3       160\n",
      "               Class      Images      Labels           P           R      mAP@.5\n",
      "                 all         790         580       0.603       0.534       0.487       0.152\n",
      "\n",
      "     Epoch   gpu_mem       box       obj       cls     total    labels  img_size\n",
      "     19/29     3.14G   0.02396  0.001996         0   0.02596         4       160\n",
      "               Class      Images      Labels           P           R      mAP@.5\n",
      "                 all         790         580       0.581         0.5       0.454       0.147\n",
      "\n",
      "     Epoch   gpu_mem       box       obj       cls     total    labels  img_size\n",
      "     20/29     3.14G   0.02379  0.001999         0   0.02579         5       160\n",
      "               Class      Images      Labels           P           R      mAP@.5\n",
      "                 all         790         580       0.575       0.506       0.456       0.144\n",
      "\n",
      "     Epoch   gpu_mem       box       obj       cls     total    labels  img_size\n",
      "     21/29     3.14G   0.02351  0.001985         0    0.0255         3       160\n",
      "               Class      Images      Labels           P           R      mAP@.5\n",
      "                 all         790         580       0.531       0.502       0.442       0.149\n",
      "\n",
      "     Epoch   gpu_mem       box       obj       cls     total    labels  img_size\n",
      "     22/29     3.14G    0.0242  0.002008         0   0.02621         2       160\n",
      "               Class      Images      Labels           P           R      mAP@.5\n",
      "                 all         790         580       0.649       0.519       0.511       0.161\n",
      "\n",
      "     Epoch   gpu_mem       box       obj       cls     total    labels  img_size\n",
      "     23/29     3.14G   0.02324  0.001982         0   0.02523         4       160\n",
      "               Class      Images      Labels           P           R      mAP@.5\n",
      "                 all         790         580       0.588       0.533        0.47       0.148\n",
      "\n",
      "     Epoch   gpu_mem       box       obj       cls     total    labels  img_size\n",
      "     24/29     3.14G   0.02394  0.001971         0   0.02591         5       160\n",
      "               Class      Images      Labels           P           R      mAP@.5\n",
      "                 all         790         580       0.594       0.538       0.471       0.149\n",
      "\n",
      "     Epoch   gpu_mem       box       obj       cls     total    labels  img_size\n",
      "     25/29     3.14G   0.02356  0.001962         0   0.02552         3       160\n",
      "               Class      Images      Labels           P           R      mAP@.5\n",
      "                 all         790         580       0.518        0.56       0.469       0.151\n",
      "\n",
      "     Epoch   gpu_mem       box       obj       cls     total    labels  img_size\n",
      "     26/29     3.14G   0.02412  0.001986         0    0.0261         4       160\n",
      "               Class      Images      Labels           P           R      mAP@.5\n",
      "                 all         790         580       0.595       0.565       0.513       0.163\n",
      "\n",
      "     Epoch   gpu_mem       box       obj       cls     total    labels  img_size\n",
      "     27/29     3.14G   0.02358  0.001978         0   0.02555         3       160\n",
      "               Class      Images      Labels           P           R      mAP@.5\n",
      "                 all         790         580       0.667       0.557       0.534       0.172\n",
      "\n",
      "     Epoch   gpu_mem       box       obj       cls     total    labels  img_size\n",
      "     28/29     3.14G   0.02374  0.001936         0   0.02567         1       160\n",
      "               Class      Images      Labels           P           R      mAP@.5\n",
      "                 all         790         580       0.605       0.584       0.515       0.161\n",
      "\n",
      "     Epoch   gpu_mem       box       obj       cls     total    labels  img_size\n",
      "     29/29     3.14G   0.02372  0.001942         0   0.02566         4       160\n",
      "               Class      Images      Labels           P           R      mAP@.5\n",
      "                 all         790         580       0.659       0.521       0.515       0.165\n",
      "30 epochs completed in 4.555 hours.\n",
      "\n",
      "Optimizer stripped from mite_detector_yolov7_160_50/mite_detector_yolov79/weights/last.pt, 74.7MB\n",
      "Optimizer stripped from mite_detector_yolov7_160_50/mite_detector_yolov79/weights/best.pt, 74.7MB\n",
      "Images sizes do not match. This will causes images to be display incorrectly in the UI.\n",
      "\u001b[34m\u001b[1mwandb\u001b[0m: Waiting for W&B process to finish... \u001b[32m(success).\u001b[0m\n",
      "\u001b[34m\u001b[1mwandb\u001b[0m: \n",
      "\u001b[34m\u001b[1mwandb\u001b[0m: Run history:\n",
      "\u001b[34m\u001b[1mwandb\u001b[0m:      metrics/mAP_0.5 ▁▆▂▃▅▄▅▅▃▄▃▅▅▆▆▆▆▆▇▇▇▆█▇▇▇████\n",
      "\u001b[34m\u001b[1mwandb\u001b[0m: metrics/mAP_0.5:0.95 ▁▅▂▂▅▄▅▅▃▄▃▅▅▆▆▆▆▆▇▇▆▇▇▇▇▇▇█▇█\n",
      "\u001b[34m\u001b[1mwandb\u001b[0m:    metrics/precision ▁▆▄▄▆▅▅▆▄▅▄▅▆▆▆▅▇▆▇▇▇▆█▇▇▆▇█▇█\n",
      "\u001b[34m\u001b[1mwandb\u001b[0m:       metrics/recall ▁▄▂▁▃▃▅▅▂▃▄▅▄▄▅▄▅▆▇▆▆▆▆▇▇▇▇▇█▆\n",
      "\u001b[34m\u001b[1mwandb\u001b[0m:       train/box_loss █▃▃▃▂▁▁▁▂▂▂▁▂▂▁▂▂▁▁▁▁▁▁▁▁▁▁▁▁▁\n",
      "\u001b[34m\u001b[1mwandb\u001b[0m:       train/cls_loss ▁▁▁▁▁▁▁▁▁▁▁▁▁▁▁▁▁▁▁▁▁▁▁▁▁▁▁▁▁▁\n",
      "\u001b[34m\u001b[1mwandb\u001b[0m:       train/obj_loss █▇▅▂▄▄▄▄▄▄▅▄▃▃▂▃▃▃▂▂▂▂▂▂▂▂▂▂▁▁\n",
      "\u001b[34m\u001b[1mwandb\u001b[0m:         val/box_loss ▃▃▅▇▅▃▁▂▆▆▅▇▄▇▅▂▇▃▇█▅▄▄█▇▅▅▇▇▇\n",
      "\u001b[34m\u001b[1mwandb\u001b[0m:         val/cls_loss ▁▁▁▁▁▁▁▁▁▁▁▁▁▁▁▁▁▁▁▁▁▁▁▁▁▁▁▁▁▁\n",
      "\u001b[34m\u001b[1mwandb\u001b[0m:         val/obj_loss █▅▄▄▄▅▅▅▄▄▄▃▄▂▃▄▂▄▂▁▂▃▃▁▂▂▂▁▁▁\n",
      "\u001b[34m\u001b[1mwandb\u001b[0m:                x/lr0 ▃▅█████▇▇▇▇▆▆▆▅▅▅▄▄▃▃▃▂▂▂▂▁▁▁▁\n",
      "\u001b[34m\u001b[1mwandb\u001b[0m:                x/lr1 ▃▅█████▇▇▇▇▆▆▆▅▅▅▄▄▃▃▃▂▂▂▂▁▁▁▁\n",
      "\u001b[34m\u001b[1mwandb\u001b[0m:                x/lr2 █▅▂▂▂▂▂▂▂▂▂▂▂▂▂▁▁▁▁▁▁▁▁▁▁▁▁▁▁▁\n",
      "\u001b[34m\u001b[1mwandb\u001b[0m: \n",
      "\u001b[34m\u001b[1mwandb\u001b[0m: Run summary:\n",
      "\u001b[34m\u001b[1mwandb\u001b[0m:      metrics/mAP_0.5 0.51469\n",
      "\u001b[34m\u001b[1mwandb\u001b[0m: metrics/mAP_0.5:0.95 0.16542\n",
      "\u001b[34m\u001b[1mwandb\u001b[0m:    metrics/precision 0.65929\n",
      "\u001b[34m\u001b[1mwandb\u001b[0m:       metrics/recall 0.52069\n",
      "\u001b[34m\u001b[1mwandb\u001b[0m:       train/box_loss 0.02372\n",
      "\u001b[34m\u001b[1mwandb\u001b[0m:       train/cls_loss 0.0\n",
      "\u001b[34m\u001b[1mwandb\u001b[0m:       train/obj_loss 0.00194\n",
      "\u001b[34m\u001b[1mwandb\u001b[0m:         val/box_loss 0.0935\n",
      "\u001b[34m\u001b[1mwandb\u001b[0m:         val/cls_loss 0.0\n",
      "\u001b[34m\u001b[1mwandb\u001b[0m:         val/obj_loss 0.00154\n",
      "\u001b[34m\u001b[1mwandb\u001b[0m:                x/lr0 0.0011\n",
      "\u001b[34m\u001b[1mwandb\u001b[0m:                x/lr1 0.0011\n",
      "\u001b[34m\u001b[1mwandb\u001b[0m:                x/lr2 0.0011\n",
      "\u001b[34m\u001b[1mwandb\u001b[0m: \n",
      "\u001b[34m\u001b[1mwandb\u001b[0m: 🚀 View run \u001b[33mmite_detector_yolov79\u001b[0m at: \u001b[34m\u001b[4mhttps://wandb.ai/dlawodud0484/mite_detector_yolov7_160_50/runs/75eds7em\u001b[0m\n",
      "\u001b[34m\u001b[1mwandb\u001b[0m: Synced 5 W&B file(s), 342 media file(s), 1 artifact file(s) and 0 other file(s)\n",
      "\u001b[34m\u001b[1mwandb\u001b[0m: Find logs at: \u001b[35m\u001b[1m./wandb/run-20230403_165319-75eds7em/logs\u001b[0m\n"
     ]
    }
   ],
   "source": [
    "# yolov7 돌리기\n",
    "!python3 train.py --img 160 --batch 4 --epochs 30 --data /home/dlawodud0484/yolo_bee_detector/mite/data.yaml --cfg yolov7.yaml --weights yolov7.pt --name mite_detector_yolov7 --project mite_detector_yolov7_160_50"
   ]
  }
 ],
 "metadata": {
  "kernelspec": {
   "display_name": "yolov7_test",
   "language": "python",
   "name": "yolov7_test"
  },
  "language_info": {
   "codemirror_mode": {
    "name": "ipython",
    "version": 3
   },
   "file_extension": ".py",
   "mimetype": "text/x-python",
   "name": "python",
   "nbconvert_exporter": "python",
   "pygments_lexer": "ipython3",
   "version": "3.8.0"
  }
 },
 "nbformat": 4,
 "nbformat_minor": 5
}
