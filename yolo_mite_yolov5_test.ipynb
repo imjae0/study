{
 "cells": [
  {
   "cell_type": "code",
   "execution_count": 1,
   "id": "4636293a",
   "metadata": {
    "scrolled": true
   },
   "outputs": [
    {
     "name": "stdout",
     "output_type": "stream",
     "text": [
      "/home/dlawodud0484/anaconda3/envs/yolov5_test/bin/python\n",
      "['/home/dlawodud0484', '/home/dlawodud0484/anaconda3/envs/yolov5_test/lib/python37.zip', '/home/dlawodud0484/anaconda3/envs/yolov5_test/lib/python3.7', '/home/dlawodud0484/anaconda3/envs/yolov5_test/lib/python3.7/lib-dynload', '', '/home/dlawodud0484/anaconda3/envs/yolov5_test/lib/python3.7/site-packages', '/home/dlawodud0484/anaconda3/envs/yolov5_test/lib/python3.7/site-packages/IPython/extensions', '/home/dlawodud0484/.ipython']\n"
     ]
    }
   ],
   "source": [
    "# 현재 가상환경 커널 디렉토리 파악\n",
    "import sys\n",
    "\n",
    "print(sys.executable)\n",
    "print(sys.path)"
   ]
  },
  {
   "cell_type": "code",
   "execution_count": 2,
   "id": "af6e84b3",
   "metadata": {},
   "outputs": [
    {
     "data": {
      "text/plain": [
       "'UTF-8'"
      ]
     },
     "execution_count": 2,
     "metadata": {},
     "output_type": "execute_result"
    }
   ],
   "source": [
    "# 현재 기본 인코딩 확인\n",
    "import sys\n",
    "sys.stdin.encoding"
   ]
  },
  {
   "cell_type": "code",
   "execution_count": 3,
   "id": "91eece6e",
   "metadata": {
    "scrolled": false
   },
   "outputs": [
    {
     "ename": "SyntaxError",
     "evalue": "invalid syntax (1375094990.py, line 2)",
     "output_type": "error",
     "traceback": [
      "\u001b[0;36m  File \u001b[0;32m\"/tmp/ipykernel_2597944/1375094990.py\"\u001b[0;36m, line \u001b[0;32m2\u001b[0m\n\u001b[0;31m    conda info -e\u001b[0m\n\u001b[0m             ^\u001b[0m\n\u001b[0;31mSyntaxError\u001b[0m\u001b[0;31m:\u001b[0m invalid syntax\n"
     ]
    }
   ],
   "source": [
    "# 현재 만들어진 가상 환경 확인\n",
    "conda info -e"
   ]
  },
  {
   "cell_type": "code",
   "execution_count": 58,
   "id": "54702785",
   "metadata": {
    "scrolled": false
   },
   "outputs": [
    {
     "name": "stdout",
     "output_type": "stream",
     "text": [
      "Available kernels:\r\n",
      "  beedetect       /home/dlawodud0484/.local/share/jupyter/kernels/beedetect\r\n",
      "  python3         /home/dlawodud0484/.local/share/jupyter/kernels/python3\r\n",
      "  test_v5         /home/dlawodud0484/.local/share/jupyter/kernels/test_v5\r\n",
      "  yolov5          /home/dlawodud0484/.local/share/jupyter/kernels/yolov5\r\n",
      "  yolov5_test     /home/dlawodud0484/.local/share/jupyter/kernels/yolov5_test\r\n",
      "  yolov7          /home/dlawodud0484/.local/share/jupyter/kernels/yolov7\r\n",
      "  yolov7_study    /home/dlawodud0484/.local/share/jupyter/kernels/yolov7_study\r\n",
      "  yolov7_test     /home/dlawodud0484/.local/share/jupyter/kernels/yolov7_test\r\n"
     ]
    }
   ],
   "source": [
    "# 현재 활성화되어있는 주피터 커널 확인\n",
    "!jupyter kernelspec list"
   ]
  },
  {
   "cell_type": "code",
   "execution_count": 5,
   "id": "ef3457d0",
   "metadata": {
    "scrolled": true
   },
   "outputs": [
    {
     "data": {
      "text/plain": [
       "'/home/dlawodud0484'"
      ]
     },
     "execution_count": 5,
     "metadata": {},
     "output_type": "execute_result"
    }
   ],
   "source": [
    "# 현재 디렉토리 확인\n",
    "%pwd"
   ]
  },
  {
   "cell_type": "code",
   "execution_count": 7,
   "id": "d33be5f7",
   "metadata": {
    "scrolled": true
   },
   "outputs": [
    {
     "name": "stdout",
     "output_type": "stream",
     "text": [
      "/home/dlawodud0484/yolo_bee_detector/yolov5-master\n"
     ]
    }
   ],
   "source": [
    "# 디렉토리 이동\n",
    "%cd /home/dlawodud0484/yolo_bee_detector/yolov5-master"
   ]
  },
  {
   "cell_type": "code",
   "execution_count": 9,
   "id": "3ffc854d",
   "metadata": {
    "collapsed": true
   },
   "outputs": [
    {
     "name": "stdout",
     "output_type": "stream",
     "text": [
      "Requirement already satisfied: gitpython in /home/dlawodud0484/anaconda3/envs/yolov5_test/lib/python3.7/site-packages (from -r requirements.txt (line 5)) (3.1.31)\n",
      "Requirement already satisfied: ipython in /home/dlawodud0484/anaconda3/envs/yolov5_test/lib/python3.7/site-packages (from -r requirements.txt (line 6)) (7.34.0)\n",
      "Requirement already satisfied: matplotlib>=3.2.2 in /home/dlawodud0484/anaconda3/envs/yolov5_test/lib/python3.7/site-packages (from -r requirements.txt (line 7)) (3.5.3)\n",
      "Requirement already satisfied: numpy>=1.18.5 in /home/dlawodud0484/anaconda3/envs/yolov5_test/lib/python3.7/site-packages (from -r requirements.txt (line 8)) (1.21.6)\n",
      "Requirement already satisfied: opencv-python>=4.1.1 in /home/dlawodud0484/anaconda3/envs/yolov5_test/lib/python3.7/site-packages (from -r requirements.txt (line 9)) (4.7.0.72)\n",
      "Requirement already satisfied: Pillow>=7.1.2 in /home/dlawodud0484/anaconda3/envs/yolov5_test/lib/python3.7/site-packages (from -r requirements.txt (line 10)) (9.4.0)\n",
      "Requirement already satisfied: psutil in /home/dlawodud0484/anaconda3/envs/yolov5_test/lib/python3.7/site-packages (from -r requirements.txt (line 11)) (5.9.4)\n",
      "Requirement already satisfied: PyYAML>=5.3.1 in /home/dlawodud0484/anaconda3/envs/yolov5_test/lib/python3.7/site-packages (from -r requirements.txt (line 12)) (6.0)\n",
      "Requirement already satisfied: requests>=2.23.0 in /home/dlawodud0484/anaconda3/envs/yolov5_test/lib/python3.7/site-packages (from -r requirements.txt (line 13)) (2.28.2)\n",
      "Requirement already satisfied: scipy>=1.4.1 in /home/dlawodud0484/anaconda3/envs/yolov5_test/lib/python3.7/site-packages (from -r requirements.txt (line 14)) (1.7.3)\n",
      "Requirement already satisfied: thop>=0.1.1 in /home/dlawodud0484/anaconda3/envs/yolov5_test/lib/python3.7/site-packages (from -r requirements.txt (line 15)) (0.1.1.post2209072238)\n",
      "Requirement already satisfied: torch>=1.7.0 in /home/dlawodud0484/anaconda3/envs/yolov5_test/lib/python3.7/site-packages (from -r requirements.txt (line 16)) (1.13.1)\n",
      "Requirement already satisfied: torchvision>=0.8.1 in /home/dlawodud0484/anaconda3/envs/yolov5_test/lib/python3.7/site-packages (from -r requirements.txt (line 17)) (0.14.1)\n",
      "Requirement already satisfied: tqdm>=4.64.0 in /home/dlawodud0484/anaconda3/envs/yolov5_test/lib/python3.7/site-packages (from -r requirements.txt (line 18)) (4.65.0)\n",
      "Requirement already satisfied: tensorboard>=2.4.1 in /home/dlawodud0484/anaconda3/envs/yolov5_test/lib/python3.7/site-packages (from -r requirements.txt (line 22)) (2.11.2)\n",
      "Requirement already satisfied: pandas>=1.1.4 in /home/dlawodud0484/anaconda3/envs/yolov5_test/lib/python3.7/site-packages (from -r requirements.txt (line 27)) (1.1.5)\n",
      "Requirement already satisfied: seaborn>=0.11.0 in /home/dlawodud0484/anaconda3/envs/yolov5_test/lib/python3.7/site-packages (from -r requirements.txt (line 28)) (0.12.2)\n",
      "Requirement already satisfied: typing-extensions>=3.7.4.3 in /home/dlawodud0484/anaconda3/envs/yolov5_test/lib/python3.7/site-packages (from gitpython->-r requirements.txt (line 5)) (4.5.0)\n",
      "Requirement already satisfied: gitdb<5,>=4.0.1 in /home/dlawodud0484/anaconda3/envs/yolov5_test/lib/python3.7/site-packages (from gitpython->-r requirements.txt (line 5)) (4.0.10)\n",
      "Requirement already satisfied: pygments in /home/dlawodud0484/anaconda3/envs/yolov5_test/lib/python3.7/site-packages (from ipython->-r requirements.txt (line 6)) (2.14.0)\n",
      "Requirement already satisfied: matplotlib-inline in /home/dlawodud0484/anaconda3/envs/yolov5_test/lib/python3.7/site-packages (from ipython->-r requirements.txt (line 6)) (0.1.6)\n",
      "Requirement already satisfied: jedi>=0.16 in /home/dlawodud0484/anaconda3/envs/yolov5_test/lib/python3.7/site-packages (from ipython->-r requirements.txt (line 6)) (0.18.2)\n",
      "Requirement already satisfied: pickleshare in /home/dlawodud0484/anaconda3/envs/yolov5_test/lib/python3.7/site-packages (from ipython->-r requirements.txt (line 6)) (0.7.5)\n",
      "Requirement already satisfied: pexpect>4.3 in /home/dlawodud0484/anaconda3/envs/yolov5_test/lib/python3.7/site-packages (from ipython->-r requirements.txt (line 6)) (4.8.0)\n",
      "Requirement already satisfied: decorator in /home/dlawodud0484/anaconda3/envs/yolov5_test/lib/python3.7/site-packages (from ipython->-r requirements.txt (line 6)) (5.1.1)\n",
      "Requirement already satisfied: traitlets>=4.2 in /home/dlawodud0484/anaconda3/envs/yolov5_test/lib/python3.7/site-packages (from ipython->-r requirements.txt (line 6)) (5.9.0)\n",
      "Requirement already satisfied: setuptools>=18.5 in /home/dlawodud0484/anaconda3/envs/yolov5_test/lib/python3.7/site-packages (from ipython->-r requirements.txt (line 6)) (65.6.3)\n",
      "Requirement already satisfied: prompt-toolkit!=3.0.0,!=3.0.1,<3.1.0,>=2.0.0 in /home/dlawodud0484/anaconda3/envs/yolov5_test/lib/python3.7/site-packages (from ipython->-r requirements.txt (line 6)) (3.0.38)\n",
      "Requirement already satisfied: backcall in /home/dlawodud0484/anaconda3/envs/yolov5_test/lib/python3.7/site-packages (from ipython->-r requirements.txt (line 6)) (0.2.0)\n",
      "Requirement already satisfied: python-dateutil>=2.7 in /home/dlawodud0484/anaconda3/envs/yolov5_test/lib/python3.7/site-packages (from matplotlib>=3.2.2->-r requirements.txt (line 7)) (2.8.2)\n",
      "Requirement already satisfied: fonttools>=4.22.0 in /home/dlawodud0484/anaconda3/envs/yolov5_test/lib/python3.7/site-packages (from matplotlib>=3.2.2->-r requirements.txt (line 7)) (4.38.0)\n",
      "Requirement already satisfied: cycler>=0.10 in /home/dlawodud0484/anaconda3/envs/yolov5_test/lib/python3.7/site-packages (from matplotlib>=3.2.2->-r requirements.txt (line 7)) (0.11.0)\n",
      "Requirement already satisfied: kiwisolver>=1.0.1 in /home/dlawodud0484/anaconda3/envs/yolov5_test/lib/python3.7/site-packages (from matplotlib>=3.2.2->-r requirements.txt (line 7)) (1.4.4)\n",
      "Requirement already satisfied: pyparsing>=2.2.1 in /home/dlawodud0484/anaconda3/envs/yolov5_test/lib/python3.7/site-packages (from matplotlib>=3.2.2->-r requirements.txt (line 7)) (3.0.9)\n",
      "Requirement already satisfied: packaging>=20.0 in /home/dlawodud0484/anaconda3/envs/yolov5_test/lib/python3.7/site-packages (from matplotlib>=3.2.2->-r requirements.txt (line 7)) (23.0)\n",
      "Requirement already satisfied: urllib3<1.27,>=1.21.1 in /home/dlawodud0484/anaconda3/envs/yolov5_test/lib/python3.7/site-packages (from requests>=2.23.0->-r requirements.txt (line 13)) (1.26.15)\n",
      "Requirement already satisfied: certifi>=2017.4.17 in /home/dlawodud0484/anaconda3/envs/yolov5_test/lib/python3.7/site-packages (from requests>=2.23.0->-r requirements.txt (line 13)) (2022.12.7)\n",
      "Requirement already satisfied: charset-normalizer<4,>=2 in /home/dlawodud0484/anaconda3/envs/yolov5_test/lib/python3.7/site-packages (from requests>=2.23.0->-r requirements.txt (line 13)) (3.1.0)\n",
      "Requirement already satisfied: idna<4,>=2.5 in /home/dlawodud0484/anaconda3/envs/yolov5_test/lib/python3.7/site-packages (from requests>=2.23.0->-r requirements.txt (line 13)) (3.4)\n",
      "Requirement already satisfied: nvidia-cuda-nvrtc-cu11==11.7.99 in /home/dlawodud0484/anaconda3/envs/yolov5_test/lib/python3.7/site-packages (from torch>=1.7.0->-r requirements.txt (line 16)) (11.7.99)\n",
      "Requirement already satisfied: nvidia-cuda-runtime-cu11==11.7.99 in /home/dlawodud0484/anaconda3/envs/yolov5_test/lib/python3.7/site-packages (from torch>=1.7.0->-r requirements.txt (line 16)) (11.7.99)\n",
      "Requirement already satisfied: nvidia-cudnn-cu11==8.5.0.96 in /home/dlawodud0484/anaconda3/envs/yolov5_test/lib/python3.7/site-packages (from torch>=1.7.0->-r requirements.txt (line 16)) (8.5.0.96)\n",
      "Requirement already satisfied: nvidia-cublas-cu11==11.10.3.66 in /home/dlawodud0484/anaconda3/envs/yolov5_test/lib/python3.7/site-packages (from torch>=1.7.0->-r requirements.txt (line 16)) (11.10.3.66)\n",
      "Requirement already satisfied: wheel in /home/dlawodud0484/anaconda3/envs/yolov5_test/lib/python3.7/site-packages (from nvidia-cublas-cu11==11.10.3.66->torch>=1.7.0->-r requirements.txt (line 16)) (0.38.4)\n",
      "Requirement already satisfied: tensorboard-data-server<0.7.0,>=0.6.0 in /home/dlawodud0484/anaconda3/envs/yolov5_test/lib/python3.7/site-packages (from tensorboard>=2.4.1->-r requirements.txt (line 22)) (0.6.1)\n",
      "Requirement already satisfied: grpcio>=1.24.3 in /home/dlawodud0484/anaconda3/envs/yolov5_test/lib/python3.7/site-packages (from tensorboard>=2.4.1->-r requirements.txt (line 22)) (1.51.3)\n",
      "Requirement already satisfied: protobuf<4,>=3.9.2 in /home/dlawodud0484/anaconda3/envs/yolov5_test/lib/python3.7/site-packages (from tensorboard>=2.4.1->-r requirements.txt (line 22)) (3.20.3)\n",
      "Requirement already satisfied: markdown>=2.6.8 in /home/dlawodud0484/anaconda3/envs/yolov5_test/lib/python3.7/site-packages (from tensorboard>=2.4.1->-r requirements.txt (line 22)) (3.4.3)\n",
      "Requirement already satisfied: werkzeug>=1.0.1 in /home/dlawodud0484/anaconda3/envs/yolov5_test/lib/python3.7/site-packages (from tensorboard>=2.4.1->-r requirements.txt (line 22)) (2.2.3)\n",
      "Requirement already satisfied: google-auth<3,>=1.6.3 in /home/dlawodud0484/anaconda3/envs/yolov5_test/lib/python3.7/site-packages (from tensorboard>=2.4.1->-r requirements.txt (line 22)) (2.16.2)\n",
      "Requirement already satisfied: tensorboard-plugin-wit>=1.6.0 in /home/dlawodud0484/anaconda3/envs/yolov5_test/lib/python3.7/site-packages (from tensorboard>=2.4.1->-r requirements.txt (line 22)) (1.8.1)\n",
      "Requirement already satisfied: google-auth-oauthlib<0.5,>=0.4.1 in /home/dlawodud0484/anaconda3/envs/yolov5_test/lib/python3.7/site-packages (from tensorboard>=2.4.1->-r requirements.txt (line 22)) (0.4.6)\n",
      "Requirement already satisfied: absl-py>=0.4 in /home/dlawodud0484/anaconda3/envs/yolov5_test/lib/python3.7/site-packages (from tensorboard>=2.4.1->-r requirements.txt (line 22)) (1.4.0)\n"
     ]
    },
    {
     "name": "stdout",
     "output_type": "stream",
     "text": [
      "Requirement already satisfied: pytz>=2017.2 in /home/dlawodud0484/anaconda3/envs/yolov5_test/lib/python3.7/site-packages (from pandas>=1.1.4->-r requirements.txt (line 27)) (2022.7.1)\n",
      "Requirement already satisfied: smmap<6,>=3.0.1 in /home/dlawodud0484/anaconda3/envs/yolov5_test/lib/python3.7/site-packages (from gitdb<5,>=4.0.1->gitpython->-r requirements.txt (line 5)) (5.0.0)\n",
      "Requirement already satisfied: pyasn1-modules>=0.2.1 in /home/dlawodud0484/anaconda3/envs/yolov5_test/lib/python3.7/site-packages (from google-auth<3,>=1.6.3->tensorboard>=2.4.1->-r requirements.txt (line 22)) (0.2.8)\n",
      "Requirement already satisfied: cachetools<6.0,>=2.0.0 in /home/dlawodud0484/anaconda3/envs/yolov5_test/lib/python3.7/site-packages (from google-auth<3,>=1.6.3->tensorboard>=2.4.1->-r requirements.txt (line 22)) (5.3.0)\n",
      "Requirement already satisfied: rsa<5,>=3.1.4 in /home/dlawodud0484/anaconda3/envs/yolov5_test/lib/python3.7/site-packages (from google-auth<3,>=1.6.3->tensorboard>=2.4.1->-r requirements.txt (line 22)) (4.9)\n",
      "Requirement already satisfied: six>=1.9.0 in /home/dlawodud0484/anaconda3/envs/yolov5_test/lib/python3.7/site-packages (from google-auth<3,>=1.6.3->tensorboard>=2.4.1->-r requirements.txt (line 22)) (1.16.0)\n",
      "Requirement already satisfied: requests-oauthlib>=0.7.0 in /home/dlawodud0484/anaconda3/envs/yolov5_test/lib/python3.7/site-packages (from google-auth-oauthlib<0.5,>=0.4.1->tensorboard>=2.4.1->-r requirements.txt (line 22)) (1.3.1)\n",
      "Requirement already satisfied: parso<0.9.0,>=0.8.0 in /home/dlawodud0484/anaconda3/envs/yolov5_test/lib/python3.7/site-packages (from jedi>=0.16->ipython->-r requirements.txt (line 6)) (0.8.3)\n",
      "Requirement already satisfied: importlib-metadata>=4.4 in /home/dlawodud0484/anaconda3/envs/yolov5_test/lib/python3.7/site-packages (from markdown>=2.6.8->tensorboard>=2.4.1->-r requirements.txt (line 22)) (6.1.0)\n",
      "Requirement already satisfied: ptyprocess>=0.5 in /home/dlawodud0484/anaconda3/envs/yolov5_test/lib/python3.7/site-packages (from pexpect>4.3->ipython->-r requirements.txt (line 6)) (0.7.0)\n",
      "Requirement already satisfied: wcwidth in /home/dlawodud0484/anaconda3/envs/yolov5_test/lib/python3.7/site-packages (from prompt-toolkit!=3.0.0,!=3.0.1,<3.1.0,>=2.0.0->ipython->-r requirements.txt (line 6)) (0.2.6)\n",
      "Requirement already satisfied: MarkupSafe>=2.1.1 in /home/dlawodud0484/anaconda3/envs/yolov5_test/lib/python3.7/site-packages (from werkzeug>=1.0.1->tensorboard>=2.4.1->-r requirements.txt (line 22)) (2.1.2)\n",
      "Requirement already satisfied: zipp>=0.5 in /home/dlawodud0484/anaconda3/envs/yolov5_test/lib/python3.7/site-packages (from importlib-metadata>=4.4->markdown>=2.6.8->tensorboard>=2.4.1->-r requirements.txt (line 22)) (3.15.0)\n",
      "Requirement already satisfied: pyasn1<0.5.0,>=0.4.6 in /home/dlawodud0484/anaconda3/envs/yolov5_test/lib/python3.7/site-packages (from pyasn1-modules>=0.2.1->google-auth<3,>=1.6.3->tensorboard>=2.4.1->-r requirements.txt (line 22)) (0.4.8)\n",
      "Requirement already satisfied: oauthlib>=3.0.0 in /home/dlawodud0484/anaconda3/envs/yolov5_test/lib/python3.7/site-packages (from requests-oauthlib>=0.7.0->google-auth-oauthlib<0.5,>=0.4.1->tensorboard>=2.4.1->-r requirements.txt (line 22)) (3.2.2)\n"
     ]
    }
   ],
   "source": [
    "# 패키지 txt파일로 일괄 다운\n",
    "# txt 파일 인코딩 주의\n",
    "# 기본경로가 아닌 가상환경에 설치\n",
    "! /home/dlawodud0484/anaconda3/envs/yolov5_test/bin/python -m pip install -r requirements.txt"
   ]
  },
  {
   "cell_type": "code",
   "execution_count": null,
   "id": "82704908",
   "metadata": {},
   "outputs": [],
   "source": [
    "import time\n",
    "import os\n",
    "import cv2\n",
    "import sys\n",
    "import glob\n",
    "import numpy as np\n",
    "import matplotlib.pyplot as plt\n",
    "\n",
    "# 파일 형식 바꾸기\n",
    "\n",
    "# 프로그램 시작 안내\n",
    "print(\"Process Start.\")\n",
    "start_time = time.time()\n",
    "\n",
    "# 현재 위치 확인\n",
    "%pwd\n",
    "\n",
    "# 원하는 경로로 이동\n",
    "%cd \"/home/dlawodud0484/yolo_bee_detector/mite_high_jpg/\"\n",
    "\n",
    "# 원본 경로 설정\n",
    "type_dir = input(\"원본 폴더 중에 수정할 폴더 1개를 골라주세요 : \")\n",
    "if not os.path.isdir(test_dir):\n",
    "    os.makedirs(test_dir)\n",
    "\n",
    "\n",
    "    \n",
    "# 부풀릴 이미지 폴더 불러오기\n",
    "# glob 이용\n",
    "img_dir = \"/home/dlawodud0484/yolo_bee_detector/mite_high_jpg/\"+type_dir+\"/images/*.png\"\n",
    "img_list = glob.glob(img_dir)\n",
    "print(len(img_list))\n",
    "\n",
    "# 저장된 파일 개수 카운터\n",
    "COUNT = 1\n",
    "\n",
    "\n",
    "# 현재 폴더에 있는 모든 jpg 파일에 대해 반복\n",
    "for filename in img_list:\n",
    "    if filename.endswith(\".png\"):  # png 파일인 경우에만\n",
    "        # 새로운 파일 이름 생성\n",
    "        fileRename = filename[:-3]       \n",
    "        RGB=cv2.imread(filename)\n",
    "        cv2.imwrite(fileRename+\"jpg\", RGB)\n",
    "\n",
    "\n",
    "\n",
    "    \n",
    "\n",
    "    # 저장된 파일 개수 카운터 추가\n",
    "        print(\"진행 사진 :\", COUNT)\n",
    "        COUNT += 1\n",
    "\n",
    "print(\"Process Done.\")\n",
    "\n",
    "end_time = time.time()\n",
    "print(\"Running Time \" + str(end_time - start_time) + \" seconds.\")"
   ]
  },
  {
   "cell_type": "code",
   "execution_count": 59,
   "id": "588fd7ea",
   "metadata": {
    "collapsed": true
   },
   "outputs": [
    {
     "name": "stdout",
     "output_type": "stream",
     "text": [
      "Process Start.\n",
      "/home/dlawodud0484/yolo_bee_detector/mite_high_jpg\n",
      "원본 폴더 중에 수정할 폴더 1개를 골라주세요 : test\n",
      "test image를 저장할 폴더를 만들어주세요 : test\n",
      "3408\n",
      "Process Done.\n",
      "Running Time 1.9538240432739258 seconds.\n"
     ]
    }
   ],
   "source": [
    "import time\n",
    "import os\n",
    "import cv2\n",
    "import sys\n",
    "import glob\n",
    "import numpy as np\n",
    "import matplotlib.pyplot as plt\n",
    "\n",
    "\n",
    "# 프로그램 시작 안내\n",
    "print(\"Process Start.\")\n",
    "start_time = time.time()\n",
    "\n",
    "# 현재 위치 확인\n",
    "%pwd\n",
    "\n",
    "# 원하는 경로로 이동\n",
    "%cd \"/home/dlawodud0484/yolo_bee_detector/mite_high_jpg/\"\n",
    "\n",
    "# 원본 경로 설정\n",
    "type_dir = input(\"원본 폴더 중에 수정할 폴더 1개를 골라주세요 : \")\n",
    "test_dir = input(\"test image를 저장할 폴더를 만들어주세요 : \")\n",
    "if not os.path.isdir(test_dir):\n",
    "    os.makedirs(test_dir)\n",
    "\n",
    "\n",
    "    \n",
    "# 부풀릴 이미지 폴더 불러오기\n",
    "# glob 이용\n",
    "\n",
    "img_dir = \"/home/dlawodud0484/yolo_bee_detector/mite_high_jpg/\"+type_dir+\"/labels/*.txt\"\n",
    "img_list = glob.glob(img_dir)\n",
    "print(len(img_list))\n",
    "\n",
    "# 저장된 파일 개수 카운터\n",
    "COUNT = 1\n",
    "\n",
    "\n",
    "# 현재 폴더에 있는 모든 txt 파일에 대해 반복\n",
    "for filename in img_list:\n",
    "    if filename.endswith(\".txt\"):  # txt 파일인 경우에만\n",
    "        # 새로운 파일 이름 생성\n",
    "        fileRename = filename[:-3]\n",
    "#         print(filename)\n",
    "#         break\n",
    "        new_filename = fileRename+\".png.txt\"\n",
    "        # 파일 이름 변경\n",
    "        os.rename(filename, new_filename)\n",
    "\n",
    "\n",
    "# # png를 jpg로 변환\n",
    "# for img_file in img_list:\n",
    "#     img = cv2.imread(img_file)\n",
    "\n",
    "#     cv2.imwrite(\"/home/dlawodud0484/yolo_bee_detector/mite_high_jpg/\"+test_dir+\"/labels/\"+img_file.split(\"/\")[-1]+\".jpg\", img)\n",
    "    \n",
    "\n",
    "#     # 저장된 파일 개수 카운터 추가\n",
    "#     print(\"진행 사진 :\", COUNT)\n",
    "#     COUNT += 1\n",
    "\n",
    "print(\"Process Done.\")\n",
    "\n",
    "end_time = time.time()\n",
    "print(\"Running Time \" + str(end_time - start_time) + \" seconds.\")"
   ]
  },
  {
   "cell_type": "code",
   "execution_count": 27,
   "id": "ccc8f41b",
   "metadata": {},
   "outputs": [],
   "source": [
    "import os\n",
    "\n",
    "# 삭제할 파일의 확장자를 지정합니다.\n",
    "file_extension = '.png'\n",
    "\n",
    "# 삭제할 파일이 위치한 디렉토리 경로를 지정합니다.\n",
    "dir_path = '/home/dlawodud0484/yolo_bee_detector/mite_high_jpg/test/images'\n",
    "\n",
    "# 디렉토리 내의 모든 파일을 검색합니다.\n",
    "for file_path in glob(os.path.join(dir_path, f'*{file_extension}')):\n",
    "    # 검색된 파일을 삭제합니다.\n",
    "    os.remove(file_path)"
   ]
  },
  {
   "cell_type": "code",
   "execution_count": 57,
   "id": "53e61ca7",
   "metadata": {},
   "outputs": [],
   "source": [
    "import glob\n",
    "import os\n",
    "\n",
    "folder_path = '/home/dlawodud0484/yolo_bee_detector/mite_high_jpg/*/labels' # 폴더 경로를 지정하세요\n",
    "txt_files = glob.glob(os.path.join(folder_path, '*.txt')) # 폴더 내의 모든 txt 파일을 가져옵니다.\n",
    "\n",
    "for txt_file in txt_files:\n",
    "    with open(txt_file, 'r') as f:\n",
    "        lines = f.readlines() # 파일 내의 모든 라인을 읽어옵니다.\n",
    "\n",
    "    with open(txt_file, 'w') as f:\n",
    "        for line in lines:\n",
    "            line = line.strip() # 라인의 앞뒤 공백을 제거합니다.\n",
    "            if line.split()[0] != \"0\": # class가 0이면 1로 변경합니다.\n",
    "                line = \"1\"\n",
    "                for coord in line.split()[1:]:\n",
    "                    line += \" \" + coord\n",
    "                print(coord)            \n",
    "                break\n",
    "#             f.write(line + \"\\n\") # 수정된 라인을 파일에 쓰기합니다."
   ]
  },
  {
   "cell_type": "code",
   "execution_count": 43,
   "id": "7124cb23",
   "metadata": {},
   "outputs": [],
   "source": [
    "# yaml 내용 수정 중 경로를 불러오기 위해 사용될 glob import\n",
    "from glob import glob"
   ]
  },
  {
   "cell_type": "code",
   "execution_count": 44,
   "id": "8407c18d",
   "metadata": {},
   "outputs": [
    {
     "name": "stdout",
     "output_type": "stream",
     "text": [
      "7183\n"
     ]
    }
   ],
   "source": [
    "# 이미지 경로 가져오기\n",
    "train_list = glob(\"/home/dlawodud0484/yolo_bee_detector/mite_high_jpg/train/images/*.png\")\n",
    "print(len(train_list))"
   ]
  },
  {
   "cell_type": "code",
   "execution_count": 45,
   "id": "f411775e",
   "metadata": {},
   "outputs": [
    {
     "name": "stdout",
     "output_type": "stream",
     "text": [
      "1876\n"
     ]
    }
   ],
   "source": [
    "# 이미지 경로 가져오기\n",
    "val_list = glob(\"/home/dlawodud0484/yolo_bee_detector/mite_high_jpg/val/images/*.png\")\n",
    "print(len(val_list))"
   ]
  },
  {
   "cell_type": "code",
   "execution_count": 46,
   "id": "492c793a",
   "metadata": {},
   "outputs": [],
   "source": [
    "#테스트, 검증 이미지 경로 txt로 저장\n",
    "\n",
    "with open(\"/home/dlawodud0484/yolo_bee_detector/mite_high_jpg/train.txt\", \"w\") as f:\n",
    "    f.write(\"\\n\".join(train_list) + \"\\n\")\n",
    "\n",
    "with open(\"/home/dlawodud0484/yolo_bee_detector/mite_high_jpg/val.txt\", \"w\") as f:\n",
    "    f.write(\"\\n\".join(val_list) + \"\\n\")"
   ]
  },
  {
   "cell_type": "code",
   "execution_count": 47,
   "id": "5abcbc4d",
   "metadata": {},
   "outputs": [],
   "source": [
    "# yaml 불러오기\n",
    "import yaml"
   ]
  },
  {
   "cell_type": "code",
   "execution_count": 48,
   "id": "3eedca76",
   "metadata": {},
   "outputs": [
    {
     "name": "stdout",
     "output_type": "stream",
     "text": [
      "{'names': ['varroa_mite'], 'nc': 1, 'roboflow': {'license': 'CC BY 4.0', 'project': 'honeybee_varroamite', 'url': 'https://universe.roboflow.com/honeybee/honeybee_varroamite/dataset/5', 'version': 5, 'workspace': 'honeybee'}, 'test': '../test/images', 'train': '/home/dlawodud0484/yolo_bee_detector/mite_high_jpg/train.txt', 'val': '/home/dlawodud0484/yolo_bee_detector/mite_high_jpg/val.txt'}\n"
     ]
    }
   ],
   "source": [
    "# data.yaml 불러오기\n",
    "with open(\"/home/dlawodud0484/yolo_bee_detector/mite_high_jpg/data.yaml\",\"r\") as f:\n",
    "    data = yaml.full_load(f)\n",
    "\n",
    "print(data)"
   ]
  },
  {
   "cell_type": "code",
   "execution_count": 49,
   "id": "b445c4fc",
   "metadata": {
    "scrolled": false
   },
   "outputs": [
    {
     "name": "stdout",
     "output_type": "stream",
     "text": [
      "{'names': ['varroa_mite'], 'nc': 1, 'roboflow': {'license': 'CC BY 4.0', 'project': 'honeybee_varroamite', 'url': 'https://universe.roboflow.com/honeybee/honeybee_varroamite/dataset/5', 'version': 5, 'workspace': 'honeybee'}, 'test': '../test/images', 'train': '/home/dlawodud0484/yolo_bee_detector/mite_high_jpg/train.txt', 'val': '/home/dlawodud0484/yolo_bee_detector/mite_high_jpg/val.txt'}\n"
     ]
    }
   ],
   "source": [
    "# data.yaml에 테스트 검증 이미지 주소 넣어주기\n",
    "data[\"train\"] = \"/home/dlawodud0484/yolo_bee_detector/mite_high_jpg/train.txt\"\n",
    "data[\"val\"] = \"/home/dlawodud0484/yolo_bee_detector/mite_high_jpg/val.txt\"\n",
    "\n",
    "with open(\"/home/dlawodud0484/yolo_bee_detector/mite_high_jpg/data.yaml\", \"w\") as f:\n",
    "    yaml.dump(data,f)\n",
    "print(data)"
   ]
  },
  {
   "cell_type": "code",
   "execution_count": 50,
   "id": "23bdf48d",
   "metadata": {
    "scrolled": true
   },
   "outputs": [
    {
     "name": "stdout",
     "output_type": "stream",
     "text": [
      "/home/dlawodud0484/yolo_bee_detector/yolov5-master\n"
     ]
    }
   ],
   "source": [
    "# 디렉토리 이동\n",
    "%cd /home/dlawodud0484/yolo_bee_detector/yolov5-master"
   ]
  },
  {
   "cell_type": "code",
   "execution_count": 34,
   "id": "d295498c",
   "metadata": {},
   "outputs": [
    {
     "name": "stdout",
     "output_type": "stream",
     "text": [
      "Defaulting to user installation because normal site-packages is not writeable\n",
      "Requirement already satisfied: wandb in /home/dlawodud0484/.local/lib/python3.8/site-packages (0.14.0)\n",
      "Requirement already satisfied: typing-extensions in /usr/local/lib/python3.8/dist-packages (from wandb) (3.10.0.2)\n",
      "Requirement already satisfied: requests<3,>=2.0.0 in /usr/local/lib/python3.8/dist-packages (from wandb) (2.27.1)\n",
      "Requirement already satisfied: Click!=8.0.0,>=7.0 in /home/dlawodud0484/.local/lib/python3.8/site-packages (from wandb) (8.1.3)\n",
      "Requirement already satisfied: appdirs>=1.4.3 in /home/dlawodud0484/.local/lib/python3.8/site-packages (from wandb) (1.4.4)\n",
      "Requirement already satisfied: protobuf!=4.21.0,<5,>=3.12.0 in /usr/local/lib/python3.8/dist-packages (from wandb) (3.19.6)\n",
      "Requirement already satisfied: setproctitle in /home/dlawodud0484/.local/lib/python3.8/site-packages (from wandb) (1.3.2)\n",
      "Requirement already satisfied: pathtools in /home/dlawodud0484/.local/lib/python3.8/site-packages (from wandb) (0.1.2)\n",
      "Requirement already satisfied: GitPython!=3.1.29,>=1.0.0 in /home/dlawodud0484/.local/lib/python3.8/site-packages (from wandb) (3.1.30)\n",
      "Requirement already satisfied: PyYAML in /home/dlawodud0484/.local/lib/python3.8/site-packages (from wandb) (6.0)\n",
      "Requirement already satisfied: sentry-sdk>=1.0.0 in /home/dlawodud0484/.local/lib/python3.8/site-packages (from wandb) (1.16.0)\n",
      "Requirement already satisfied: docker-pycreds>=0.4.0 in /home/dlawodud0484/.local/lib/python3.8/site-packages (from wandb) (0.4.0)\n",
      "Requirement already satisfied: setuptools in /home/dlawodud0484/.local/lib/python3.8/site-packages (from wandb) (59.5.0)\n",
      "Requirement already satisfied: psutil>=5.0.0 in /usr/local/lib/python3.8/dist-packages (from wandb) (5.9.2)\n",
      "Requirement already satisfied: six>=1.4.0 in /usr/local/lib/python3.8/dist-packages (from docker-pycreds>=0.4.0->wandb) (1.15.0)\n",
      "Requirement already satisfied: gitdb<5,>=4.0.1 in /home/dlawodud0484/.local/lib/python3.8/site-packages (from GitPython!=3.1.29,>=1.0.0->wandb) (4.0.10)\n",
      "Requirement already satisfied: urllib3<1.27,>=1.21.1 in /home/dlawodud0484/.local/lib/python3.8/site-packages (from requests<3,>=2.0.0->wandb) (1.26.11)\n",
      "Requirement already satisfied: certifi>=2017.4.17 in /home/dlawodud0484/.local/lib/python3.8/site-packages (from requests<3,>=2.0.0->wandb) (2021.5.30)\n",
      "Requirement already satisfied: charset-normalizer~=2.0.0 in /usr/local/lib/python3.8/dist-packages (from requests<3,>=2.0.0->wandb) (2.0.12)\n",
      "Requirement already satisfied: idna<4,>=2.5 in /home/dlawodud0484/.local/lib/python3.8/site-packages (from requests<3,>=2.0.0->wandb) (2.10)\n",
      "Requirement already satisfied: smmap<6,>=3.0.1 in /home/dlawodud0484/.local/lib/python3.8/site-packages (from gitdb<5,>=4.0.1->GitPython!=3.1.29,>=1.0.0->wandb) (5.0.0)\n",
      "\n",
      "\u001b[1m[\u001b[0m\u001b[34;49mnotice\u001b[0m\u001b[1;39;49m]\u001b[0m\u001b[39;49m A new release of pip available: \u001b[0m\u001b[31;49m22.3\u001b[0m\u001b[39;49m -> \u001b[0m\u001b[32;49m23.1.2\u001b[0m\n",
      "\u001b[1m[\u001b[0m\u001b[34;49mnotice\u001b[0m\u001b[1;39;49m]\u001b[0m\u001b[39;49m To update, run: \u001b[0m\u001b[32;49mpython3 -m pip install --upgrade pip\u001b[0m\n"
     ]
    }
   ],
   "source": [
    "# 결과 확인 편의를 위해 wandb 설치\n",
    "!pip3 install wandb"
   ]
  },
  {
   "cell_type": "code",
   "execution_count": 53,
   "id": "fc9ad7aa",
   "metadata": {},
   "outputs": [],
   "source": [
    "import os\n",
    "os.environ['CUDA_LAUNCH_BLOCKING'] = '1'"
   ]
  },
  {
   "cell_type": "code",
   "execution_count": 54,
   "id": "54fa8b5a",
   "metadata": {
    "scrolled": false
   },
   "outputs": [
    {
     "name": "stdout",
     "output_type": "stream",
     "text": [
      "1\n"
     ]
    }
   ],
   "source": [
    "import os\n",
    "print(os.environ.get('CUDA_LAUNCH_BLOCKING'))"
   ]
  },
  {
   "cell_type": "code",
   "execution_count": 55,
   "id": "14534dbf",
   "metadata": {},
   "outputs": [],
   "source": [
    "import tensorflow.compat.v1 as tf1"
   ]
  },
  {
   "cell_type": "code",
   "execution_count": 56,
   "id": "1769cf02",
   "metadata": {
    "scrolled": true
   },
   "outputs": [
    {
     "name": "stderr",
     "output_type": "stream",
     "text": [
      "2023-05-14 07:41:12.002794: I tensorflow/core/common_runtime/gpu/gpu_device.cc:1618] Found device 0 with properties: \n",
      "name: NVIDIA A100 80GB PCIe major: 8 minor: 0 memoryClockRate(GHz): 1.41\n",
      "pciBusID: 0000:b3:00.0\n",
      "2023-05-14 07:41:12.003133: W tensorflow/stream_executor/platform/default/dso_loader.cc:55] Could not load dynamic library 'libcudart.so.10.0'; dlerror: libcudart.so.10.0: cannot open shared object file: No such file or directory\n",
      "2023-05-14 07:41:12.003296: W tensorflow/stream_executor/platform/default/dso_loader.cc:55] Could not load dynamic library 'libcublas.so.10.0'; dlerror: libcublas.so.10.0: cannot open shared object file: No such file or directory\n",
      "2023-05-14 07:41:12.003437: W tensorflow/stream_executor/platform/default/dso_loader.cc:55] Could not load dynamic library 'libcufft.so.10.0'; dlerror: libcufft.so.10.0: cannot open shared object file: No such file or directory\n",
      "2023-05-14 07:41:12.003567: W tensorflow/stream_executor/platform/default/dso_loader.cc:55] Could not load dynamic library 'libcurand.so.10.0'; dlerror: libcurand.so.10.0: cannot open shared object file: No such file or directory\n",
      "2023-05-14 07:41:12.003678: W tensorflow/stream_executor/platform/default/dso_loader.cc:55] Could not load dynamic library 'libcusolver.so.10.0'; dlerror: libcusolver.so.10.0: cannot open shared object file: No such file or directory\n",
      "2023-05-14 07:41:12.003805: W tensorflow/stream_executor/platform/default/dso_loader.cc:55] Could not load dynamic library 'libcusparse.so.10.0'; dlerror: libcusparse.so.10.0: cannot open shared object file: No such file or directory\n",
      "2023-05-14 07:41:12.003919: W tensorflow/stream_executor/platform/default/dso_loader.cc:55] Could not load dynamic library 'libcudnn.so.7'; dlerror: libcudnn.so.7: cannot open shared object file: No such file or directory\n",
      "2023-05-14 07:41:12.003942: W tensorflow/core/common_runtime/gpu/gpu_device.cc:1641] Cannot dlopen some GPU libraries. Please make sure the missing libraries mentioned above are installed properly if you would like to use GPU. Follow the guide at https://www.tensorflow.org/install/gpu for how to download and setup the required libraries for your platform.\n",
      "Skipping registering GPU devices...\n",
      "2023-05-14 07:41:12.003981: I tensorflow/core/common_runtime/gpu/gpu_device.cc:1159] Device interconnect StreamExecutor with strength 1 edge matrix:\n",
      "2023-05-14 07:41:12.004001: I tensorflow/core/common_runtime/gpu/gpu_device.cc:1165]      0 \n",
      "2023-05-14 07:41:12.004017: I tensorflow/core/common_runtime/gpu/gpu_device.cc:1178] 0:   N \n"
     ]
    }
   ],
   "source": [
    "os.environ['CUDA_VISIBLE_DEVICES'] = \"1\"\n",
    "config = tf1.ConfigProto()\n",
    "config.gpu_options.per_process_gpu_memory_fraction = 0.03\n",
    "session = tf1.Session(config=config)"
   ]
  },
  {
   "cell_type": "code",
   "execution_count": 52,
   "id": "142e3793",
   "metadata": {
    "scrolled": true
   },
   "outputs": [
    {
     "name": "stdout",
     "output_type": "stream",
     "text": [
      "\u001b[34m\u001b[1mwandb\u001b[0m: Currently logged in as: \u001b[33mdlawodud0484\u001b[0m. Use \u001b[1m`wandb login --relogin`\u001b[0m to force relogin\n",
      "\u001b[34m\u001b[1mtrain: \u001b[0mweights=yolov5m.pt, cfg=yolov5m.yaml, data=/home/dlawodud0484/yolo_bee_detector/mite_high_jpg/data.yaml, hyp=data/hyps/hyp.scratch-low.yaml, epochs=50, batch_size=8, imgsz=320, rect=False, resume=False, nosave=False, noval=False, noautoanchor=False, noplots=False, evolve=None, bucket=, cache=None, image_weights=False, device=, multi_scale=False, single_cls=False, optimizer=SGD, sync_bn=False, workers=8, project=mite_detector, name=mite_high_detector_yolov5m_320_8_50, exist_ok=False, quad=False, cos_lr=False, label_smoothing=0.0, patience=100, freeze=[0], save_period=-1, seed=0, local_rank=-1, entity=None, upload_dataset=False, bbox_interval=-1, artifact_alias=latest\n",
      "\u001b[34m\u001b[1mgithub: \u001b[0mskipping check (not a git repository), for updates see https://github.com/ultralytics/yolov5\n",
      "YOLOv5 🚀 2023-1-25 Python-3.8.10 torch-1.9.0+cu111 CUDA:0 (NVIDIA A100 80GB PCIe, 81112MiB)\n",
      "\n",
      "\u001b[34m\u001b[1mhyperparameters: \u001b[0mlr0=0.01, lrf=0.01, momentum=0.937, weight_decay=0.0005, warmup_epochs=3.0, warmup_momentum=0.8, warmup_bias_lr=0.1, box=0.05, cls=0.5, cls_pw=1.0, obj=1.0, obj_pw=1.0, iou_t=0.2, anchor_t=4.0, fl_gamma=0.0, hsv_h=0.015, hsv_s=0.7, hsv_v=0.4, degrees=0.0, translate=0.1, scale=0.5, shear=0.0, perspective=0.0, flipud=0.0, fliplr=0.5, mosaic=1.0, mixup=0.0, copy_paste=0.0\n",
      "\u001b[34m\u001b[1mClearML: \u001b[0mrun 'pip install clearml' to automatically track, visualize and remotely train YOLOv5 🚀 in ClearML\n",
      "\u001b[34m\u001b[1mComet: \u001b[0mrun 'pip install comet_ml' to automatically track and visualize YOLOv5 🚀 runs in Comet\n",
      "\u001b[34m\u001b[1mTensorBoard: \u001b[0mStart with 'tensorboard --logdir mite_detector', view at http://localhost:6006/\n",
      "2023-05-14 18:01:21.586128: I tensorflow/core/platform/cpu_feature_guard.cc:193] This TensorFlow binary is optimized with oneAPI Deep Neural Network Library (oneDNN) to use the following CPU instructions in performance-critical operations:  AVX2 AVX512F AVX512_VNNI FMA\n",
      "To enable them in other operations, rebuild TensorFlow with the appropriate compiler flags.\n",
      "2023-05-14 18:01:21.706137: I tensorflow/core/util/port.cc:104] oneDNN custom operations are on. You may see slightly different numerical results due to floating-point round-off errors from different computation orders. To turn them off, set the environment variable `TF_ENABLE_ONEDNN_OPTS=0`.\n",
      "Traceback (most recent call last):\n",
      "  File \"/home/dlawodud0484/.local/lib/python3.8/site-packages/tensorboard/compat/__init__.py\", line 42, in tf\n",
      "    from tensorboard.compat import notf  # noqa: F401\n",
      "ImportError: cannot import name 'notf' from 'tensorboard.compat' (/home/dlawodud0484/.local/lib/python3.8/site-packages/tensorboard/compat/__init__.py)\n",
      "\n",
      "During handling of the above exception, another exception occurred:\n",
      "\n",
      "RuntimeError: module compiled against API version 0xe but this version of numpy is 0xd\n",
      "\u001b[34m\u001b[1mwandb\u001b[0m: wandb version 0.15.2 is available!  To upgrade, please run:\n",
      "\u001b[34m\u001b[1mwandb\u001b[0m:  $ pip install wandb --upgrade\n",
      "\u001b[34m\u001b[1mwandb\u001b[0m: Tracking run with wandb version 0.14.0\n",
      "\u001b[34m\u001b[1mwandb\u001b[0m: Run data is saved locally in \u001b[35m\u001b[1m/home/dlawodud0484/yolo_bee_detector/yolov5-master/wandb/run-20230514_180121-xnh4joud\u001b[0m\n",
      "\u001b[34m\u001b[1mwandb\u001b[0m: Run \u001b[1m`wandb offline`\u001b[0m to turn off syncing.\n",
      "\u001b[34m\u001b[1mwandb\u001b[0m: Syncing run \u001b[33mmite_high_detector_yolov5m_320_8_50\u001b[0m\n",
      "\u001b[34m\u001b[1mwandb\u001b[0m: ⭐️ View project at \u001b[34m\u001b[4mhttps://wandb.ai/dlawodud0484/mite_detector\u001b[0m\n",
      "\u001b[34m\u001b[1mwandb\u001b[0m: 🚀 View run at \u001b[34m\u001b[4mhttps://wandb.ai/dlawodud0484/mite_detector/runs/xnh4joud\u001b[0m\n",
      "Overriding model.yaml nc=80 with nc=1\n",
      "\n",
      "                 from  n    params  module                                  arguments                     \n",
      "  0                -1  1      5280  models.common.Conv                      [3, 48, 6, 2, 2]              \n",
      "  1                -1  1     41664  models.common.Conv                      [48, 96, 3, 2]                \n",
      "  2                -1  2     65280  models.common.C3                        [96, 96, 2]                   \n",
      "  3                -1  1    166272  models.common.Conv                      [96, 192, 3, 2]               \n",
      "  4                -1  4    444672  models.common.C3                        [192, 192, 4]                 \n",
      "  5                -1  1    664320  models.common.Conv                      [192, 384, 3, 2]              \n",
      "  6                -1  6   2512896  models.common.C3                        [384, 384, 6]                 \n",
      "  7                -1  1   2655744  models.common.Conv                      [384, 768, 3, 2]              \n",
      "  8                -1  2   4134912  models.common.C3                        [768, 768, 2]                 \n",
      "  9                -1  1   1476864  models.common.SPPF                      [768, 768, 5]                 \n",
      " 10                -1  1    295680  models.common.Conv                      [768, 384, 1, 1]              \n",
      " 11                -1  1         0  torch.nn.modules.upsampling.Upsample    [None, 2, 'nearest']          \n",
      " 12           [-1, 6]  1         0  models.common.Concat                    [1]                           \n",
      " 13                -1  2   1182720  models.common.C3                        [768, 384, 2, False]          \n",
      " 14                -1  1     74112  models.common.Conv                      [384, 192, 1, 1]              \n",
      " 15                -1  1         0  torch.nn.modules.upsampling.Upsample    [None, 2, 'nearest']          \n",
      " 16           [-1, 4]  1         0  models.common.Concat                    [1]                           \n",
      " 17                -1  2    296448  models.common.C3                        [384, 192, 2, False]          \n",
      " 18                -1  1    332160  models.common.Conv                      [192, 192, 3, 2]              \n",
      " 19          [-1, 14]  1         0  models.common.Concat                    [1]                           \n",
      " 20                -1  2   1035264  models.common.C3                        [384, 384, 2, False]          \n",
      " 21                -1  1   1327872  models.common.Conv                      [384, 384, 3, 2]              \n",
      " 22          [-1, 10]  1         0  models.common.Concat                    [1]                           \n",
      " 23                -1  2   4134912  models.common.C3                        [768, 768, 2, False]          \n",
      " 24      [17, 20, 23]  1     24246  models.yolo.Detect                      [1, [[10, 13, 16, 30, 33, 23], [30, 61, 62, 45, 59, 119], [116, 90, 156, 198, 373, 326]], [192, 384, 768]]\n",
      "YOLOv5m summary: 291 layers, 20871318 parameters, 20871318 gradients, 48.2 GFLOPs\n",
      "\n",
      "Transferred 474/481 items from yolov5m.pt\n",
      "\u001b[34m\u001b[1mAMP: \u001b[0mchecks passed ✅\n",
      "\u001b[34m\u001b[1moptimizer:\u001b[0m SGD(lr=0.01) with parameter groups 79 weight(decay=0.0), 82 weight(decay=0.0005), 82 bias\n",
      "WARNING ⚠️ DP not recommended, use torch.distributed.run for best DDP Multi-GPU results.\n",
      "See Multi-GPU Tutorial at https://github.com/ultralytics/yolov5/issues/475 to get started.\n",
      "\u001b[34m\u001b[1mtrain: \u001b[0mScanning /home/dlawodud0484/yolo_bee_detector/mite_high_jpg/train.cache..\u001b[0m\n",
      "Traceback (most recent call last):\n",
      "  File \"train.py\", line 634, in <module>\n",
      "    main(opt)\n",
      "  File \"train.py\", line 528, in main\n",
      "    train(opt.hyp, opt, device, callbacks)\n",
      "  File \"train.py\", line 187, in train\n",
      "    train_loader, dataset = create_dataloader(train_path,\n",
      "  File \"/home/dlawodud0484/yolo_bee_detector/yolov5-master/utils/dataloaders.py\", line 124, in create_dataloader\n",
      "    dataset = LoadImagesAndLabels(\n",
      "  File \"/home/dlawodud0484/yolo_bee_detector/yolov5-master/utils/dataloaders.py\", line 508, in __init__\n",
      "    assert nl > 0 or not augment, f'{prefix}All labels empty in {cache_path}, can not start training. {HELP_URL}'\n",
      "AssertionError: \u001b[34m\u001b[1mtrain: \u001b[0mAll labels empty in /home/dlawodud0484/yolo_bee_detector/mite_high_jpg/train.cache, can not start training. See https://github.com/ultralytics/yolov5/wiki/Train-Custom-Data\n",
      "\u001b[34m\u001b[1mwandb\u001b[0m: Waiting for W&B process to finish... \u001b[31m(failed 1).\u001b[0m Press Control-C to abort syncing.\n",
      "\u001b[34m\u001b[1mwandb\u001b[0m: 🚀 View run \u001b[33mmite_high_detector_yolov5m_320_8_50\u001b[0m at: \u001b[34m\u001b[4mhttps://wandb.ai/dlawodud0484/mite_detector/runs/xnh4joud\u001b[0m\n",
      "\u001b[34m\u001b[1mwandb\u001b[0m: Synced 5 W&B file(s), 0 media file(s), 0 artifact file(s) and 0 other file(s)\n",
      "\u001b[34m\u001b[1mwandb\u001b[0m: Find logs at: \u001b[35m\u001b[1m./wandb/run-20230514_180121-xnh4joud/logs\u001b[0m\n"
     ]
    }
   ],
   "source": [
    "# yolo 돌리기\n",
    "!python3 train.py --img 320 --batch 8 --epochs 50 --data /home/dlawodud0484/yolo_bee_detector/mite_high_jpg/data.yaml --cfg yolov5m.yaml --weights yolov5m.pt --name mite_high_detector_yolov5m_320_8_50  --project mite_detector"
   ]
  },
  {
   "cell_type": "code",
   "execution_count": null,
   "id": "3cd3bcf3",
   "metadata": {},
   "outputs": [],
   "source": []
  },
  {
   "cell_type": "code",
   "execution_count": null,
   "id": "3aa23e94",
   "metadata": {},
   "outputs": [],
   "source": []
  }
 ],
 "metadata": {
  "kernelspec": {
   "display_name": "yolov5_test",
   "language": "python",
   "name": "yolov5_test"
  },
  "language_info": {
   "codemirror_mode": {
    "name": "ipython",
    "version": 3
   },
   "file_extension": ".py",
   "mimetype": "text/x-python",
   "name": "python",
   "nbconvert_exporter": "python",
   "pygments_lexer": "ipython3",
   "version": "3.7.0"
  }
 },
 "nbformat": 4,
 "nbformat_minor": 5
}
