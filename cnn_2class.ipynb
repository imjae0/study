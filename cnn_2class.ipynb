{
 "cells": [
  {
   "cell_type": "markdown",
   "metadata": {},
   "source": [
    "# CNN_class2"
   ]
  },
  {
   "cell_type": "markdown",
   "metadata": {},
   "source": [
    "## 환경 구성"
   ]
  },
  {
   "cell_type": "code",
   "execution_count": 68,
   "metadata": {
    "scrolled": true
   },
   "outputs": [
    {
     "data": {
      "text/plain": [
       "'C:\\\\Users\\\\pc\\\\anaconda3\\\\envs\\\\convlstm2d\\\\python.exe'"
      ]
     },
     "execution_count": 68,
     "metadata": {},
     "output_type": "execute_result"
    }
   ],
   "source": [
    "# 커널 위치 확인\n",
    "\n",
    "import sys\n",
    "sys.executable"
   ]
  },
  {
   "cell_type": "code",
   "execution_count": 2,
   "metadata": {
    "scrolled": true
   },
   "outputs": [
    {
     "name": "stdout",
     "output_type": "stream",
     "text": [
      "Requirement already satisfied: tensorflow in c:\\users\\pc\\anaconda3\\envs\\convlstm2d\\lib\\site-packages (2.11.0)\n",
      "Requirement already satisfied: tensorflow-intel==2.11.0 in c:\\users\\pc\\anaconda3\\envs\\convlstm2d\\lib\\site-packages (from tensorflow) (2.11.0)\n",
      "Requirement already satisfied: setuptools in c:\\users\\pc\\anaconda3\\envs\\convlstm2d\\lib\\site-packages (from tensorflow-intel==2.11.0->tensorflow) (65.5.0)\n",
      "Requirement already satisfied: tensorflow-io-gcs-filesystem>=0.23.1 in c:\\users\\pc\\anaconda3\\envs\\convlstm2d\\lib\\site-packages (from tensorflow-intel==2.11.0->tensorflow) (0.30.0)\n",
      "Requirement already satisfied: flatbuffers>=2.0 in c:\\users\\pc\\anaconda3\\envs\\convlstm2d\\lib\\site-packages (from tensorflow-intel==2.11.0->tensorflow) (23.1.21)\n",
      "Requirement already satisfied: termcolor>=1.1.0 in c:\\users\\pc\\anaconda3\\envs\\convlstm2d\\lib\\site-packages (from tensorflow-intel==2.11.0->tensorflow) (2.2.0)\n",
      "Requirement already satisfied: protobuf<3.20,>=3.9.2 in c:\\users\\pc\\anaconda3\\envs\\convlstm2d\\lib\\site-packages (from tensorflow-intel==2.11.0->tensorflow) (3.19.6)\n",
      "Requirement already satisfied: gast<=0.4.0,>=0.2.1 in c:\\users\\pc\\anaconda3\\envs\\convlstm2d\\lib\\site-packages (from tensorflow-intel==2.11.0->tensorflow) (0.4.0)\n",
      "Requirement already satisfied: absl-py>=1.0.0 in c:\\users\\pc\\anaconda3\\envs\\convlstm2d\\lib\\site-packages (from tensorflow-intel==2.11.0->tensorflow) (1.4.0)\n",
      "Requirement already satisfied: h5py>=2.9.0 in c:\\users\\pc\\anaconda3\\envs\\convlstm2d\\lib\\site-packages (from tensorflow-intel==2.11.0->tensorflow) (3.8.0)\n",
      "Requirement already satisfied: wrapt>=1.11.0 in c:\\users\\pc\\anaconda3\\envs\\convlstm2d\\lib\\site-packages (from tensorflow-intel==2.11.0->tensorflow) (1.14.1)\n",
      "Requirement already satisfied: grpcio<2.0,>=1.24.3 in c:\\users\\pc\\anaconda3\\envs\\convlstm2d\\lib\\site-packages (from tensorflow-intel==2.11.0->tensorflow) (1.51.3)\n",
      "Requirement already satisfied: numpy>=1.20 in c:\\users\\pc\\anaconda3\\envs\\convlstm2d\\lib\\site-packages (from tensorflow-intel==2.11.0->tensorflow) (1.24.2)\n",
      "Requirement already satisfied: typing-extensions>=3.6.6 in c:\\users\\pc\\anaconda3\\envs\\convlstm2d\\lib\\site-packages (from tensorflow-intel==2.11.0->tensorflow) (4.5.0)\n",
      "Requirement already satisfied: astunparse>=1.6.0 in c:\\users\\pc\\anaconda3\\envs\\convlstm2d\\lib\\site-packages (from tensorflow-intel==2.11.0->tensorflow) (1.6.3)\n",
      "Requirement already satisfied: six>=1.12.0 in c:\\users\\pc\\anaconda3\\envs\\convlstm2d\\lib\\site-packages (from tensorflow-intel==2.11.0->tensorflow) (1.16.0)\n",
      "Requirement already satisfied: tensorflow-estimator<2.12,>=2.11.0 in c:\\users\\pc\\anaconda3\\envs\\convlstm2d\\lib\\site-packages (from tensorflow-intel==2.11.0->tensorflow) (2.11.0)\n",
      "Requirement already satisfied: libclang>=13.0.0 in c:\\users\\pc\\anaconda3\\envs\\convlstm2d\\lib\\site-packages (from tensorflow-intel==2.11.0->tensorflow) (15.0.6.1)\n",
      "Requirement already satisfied: packaging in c:\\users\\pc\\anaconda3\\envs\\convlstm2d\\lib\\site-packages (from tensorflow-intel==2.11.0->tensorflow) (22.0)\n",
      "Requirement already satisfied: opt-einsum>=2.3.2 in c:\\users\\pc\\anaconda3\\envs\\convlstm2d\\lib\\site-packages (from tensorflow-intel==2.11.0->tensorflow) (3.3.0)\n",
      "Requirement already satisfied: google-pasta>=0.1.1 in c:\\users\\pc\\anaconda3\\envs\\convlstm2d\\lib\\site-packages (from tensorflow-intel==2.11.0->tensorflow) (0.2.0)\n",
      "Requirement already satisfied: keras<2.12,>=2.11.0 in c:\\users\\pc\\anaconda3\\envs\\convlstm2d\\lib\\site-packages (from tensorflow-intel==2.11.0->tensorflow) (2.11.0)\n",
      "Requirement already satisfied: tensorboard<2.12,>=2.11 in c:\\users\\pc\\anaconda3\\envs\\convlstm2d\\lib\\site-packages (from tensorflow-intel==2.11.0->tensorflow) (2.11.2)\n",
      "Requirement already satisfied: wheel<1.0,>=0.23.0 in c:\\users\\pc\\anaconda3\\envs\\convlstm2d\\lib\\site-packages (from astunparse>=1.6.0->tensorflow-intel==2.11.0->tensorflow) (0.37.1)\n",
      "Requirement already satisfied: google-auth-oauthlib<0.5,>=0.4.1 in c:\\users\\pc\\anaconda3\\envs\\convlstm2d\\lib\\site-packages (from tensorboard<2.12,>=2.11->tensorflow-intel==2.11.0->tensorflow) (0.4.6)\n",
      "Requirement already satisfied: requests<3,>=2.21.0 in c:\\users\\pc\\anaconda3\\envs\\convlstm2d\\lib\\site-packages (from tensorboard<2.12,>=2.11->tensorflow-intel==2.11.0->tensorflow) (2.28.2)\n",
      "Requirement already satisfied: tensorboard-data-server<0.7.0,>=0.6.0 in c:\\users\\pc\\anaconda3\\envs\\convlstm2d\\lib\\site-packages (from tensorboard<2.12,>=2.11->tensorflow-intel==2.11.0->tensorflow) (0.6.1)\n",
      "Requirement already satisfied: tensorboard-plugin-wit>=1.6.0 in c:\\users\\pc\\anaconda3\\envs\\convlstm2d\\lib\\site-packages (from tensorboard<2.12,>=2.11->tensorflow-intel==2.11.0->tensorflow) (1.8.1)\n",
      "Requirement already satisfied: werkzeug>=1.0.1 in c:\\users\\pc\\anaconda3\\envs\\convlstm2d\\lib\\site-packages (from tensorboard<2.12,>=2.11->tensorflow-intel==2.11.0->tensorflow) (2.2.3)\n",
      "Requirement already satisfied: markdown>=2.6.8 in c:\\users\\pc\\anaconda3\\envs\\convlstm2d\\lib\\site-packages (from tensorboard<2.12,>=2.11->tensorflow-intel==2.11.0->tensorflow) (3.4.1)\n",
      "Requirement already satisfied: google-auth<3,>=1.6.3 in c:\\users\\pc\\anaconda3\\envs\\convlstm2d\\lib\\site-packages (from tensorboard<2.12,>=2.11->tensorflow-intel==2.11.0->tensorflow) (2.16.1)\n",
      "Requirement already satisfied: pyasn1-modules>=0.2.1 in c:\\users\\pc\\anaconda3\\envs\\convlstm2d\\lib\\site-packages (from google-auth<3,>=1.6.3->tensorboard<2.12,>=2.11->tensorflow-intel==2.11.0->tensorflow) (0.2.8)\n",
      "Requirement already satisfied: rsa<5,>=3.1.4 in c:\\users\\pc\\anaconda3\\envs\\convlstm2d\\lib\\site-packages (from google-auth<3,>=1.6.3->tensorboard<2.12,>=2.11->tensorflow-intel==2.11.0->tensorflow) (4.9)\n",
      "Requirement already satisfied: cachetools<6.0,>=2.0.0 in c:\\users\\pc\\anaconda3\\envs\\convlstm2d\\lib\\site-packages (from google-auth<3,>=1.6.3->tensorboard<2.12,>=2.11->tensorflow-intel==2.11.0->tensorflow) (5.3.0)\n",
      "Requirement already satisfied: requests-oauthlib>=0.7.0 in c:\\users\\pc\\anaconda3\\envs\\convlstm2d\\lib\\site-packages (from google-auth-oauthlib<0.5,>=0.4.1->tensorboard<2.12,>=2.11->tensorflow-intel==2.11.0->tensorflow) (1.3.1)\n",
      "Requirement already satisfied: urllib3<1.27,>=1.21.1 in c:\\users\\pc\\anaconda3\\envs\\convlstm2d\\lib\\site-packages (from requests<3,>=2.21.0->tensorboard<2.12,>=2.11->tensorflow-intel==2.11.0->tensorflow) (1.26.14)\n",
      "Requirement already satisfied: idna<4,>=2.5 in c:\\users\\pc\\anaconda3\\envs\\convlstm2d\\lib\\site-packages (from requests<3,>=2.21.0->tensorboard<2.12,>=2.11->tensorflow-intel==2.11.0->tensorflow) (3.4)\n",
      "Requirement already satisfied: charset-normalizer<4,>=2 in c:\\users\\pc\\anaconda3\\envs\\convlstm2d\\lib\\site-packages (from requests<3,>=2.21.0->tensorboard<2.12,>=2.11->tensorflow-intel==2.11.0->tensorflow) (3.0.1)\n",
      "Requirement already satisfied: certifi>=2017.4.17 in c:\\users\\pc\\anaconda3\\envs\\convlstm2d\\lib\\site-packages (from requests<3,>=2.21.0->tensorboard<2.12,>=2.11->tensorflow-intel==2.11.0->tensorflow) (2022.12.7)\n",
      "Requirement already satisfied: MarkupSafe>=2.1.1 in c:\\users\\pc\\anaconda3\\envs\\convlstm2d\\lib\\site-packages (from werkzeug>=1.0.1->tensorboard<2.12,>=2.11->tensorflow-intel==2.11.0->tensorflow) (2.1.2)\n",
      "Requirement already satisfied: pyasn1<0.5.0,>=0.4.6 in c:\\users\\pc\\anaconda3\\envs\\convlstm2d\\lib\\site-packages (from pyasn1-modules>=0.2.1->google-auth<3,>=1.6.3->tensorboard<2.12,>=2.11->tensorflow-intel==2.11.0->tensorflow) (0.4.8)\n",
      "Requirement already satisfied: oauthlib>=3.0.0 in c:\\users\\pc\\anaconda3\\envs\\convlstm2d\\lib\\site-packages (from requests-oauthlib>=0.7.0->google-auth-oauthlib<0.5,>=0.4.1->tensorboard<2.12,>=2.11->tensorflow-intel==2.11.0->tensorflow) (3.2.2)\n",
      "Requirement already satisfied: keras in c:\\users\\pc\\anaconda3\\envs\\convlstm2d\\lib\\site-packages (2.11.0)\n"
     ]
    }
   ],
   "source": [
    "# cnn에 필요한 패키지 install\n",
    "\n",
    "! C:\\\\Users\\\\pc\\\\anaconda3\\\\envs\\\\convlstm2d\\\\python.exe -m pip install tensorflow\n",
    "! C:\\\\Users\\\\pc\\\\anaconda3\\\\envs\\\\convlstm2d\\\\python.exe -m pip install keras\n",
    "\n",
    "# 결과값 확인에 필요한 패키지 install\n",
    "\n",
    "! C:\\\\Users\\\\pc\\\\anaconda3\\\\envs\\\\convlstm2d\\\\python.exe -m pip install Image\n",
    "! C:\\\\Users\\\\pc\\\\anaconda3\\\\envs\\\\convlstm2d\\\\python.exe -m pip install pillow\n",
    "! C:\\\\Users\\\\pc\\\\anaconda3\\\\envs\\\\convlstm2d\\\\python.exe -m pip install SciPy\n",
    "! C:\\\\Users\\\\pc\\\\anaconda3\\\\envs\\\\convlstm2d\\\\python.exe -m pip install matplotlib"
   ]
  },
  {
   "cell_type": "code",
   "execution_count": 3,
   "metadata": {
    "scrolled": true
   },
   "outputs": [
    {
     "data": {
      "text/plain": [
       "'2.11.0'"
      ]
     },
     "execution_count": 3,
     "metadata": {},
     "output_type": "execute_result"
    }
   ],
   "source": [
    "# 필요한 모듈 import\n",
    "\n",
    "import keras\n",
    "keras.__version__\n",
    "\n",
    "import os, shutil"
   ]
  },
  {
   "cell_type": "code",
   "execution_count": 5,
   "metadata": {},
   "outputs": [],
   "source": [
    "# 원본 이미지 경로 path 선언\n",
    "\n",
    "original_dataset_dir = 'd:/mul_cnn/image'"
   ]
  },
  {
   "cell_type": "code",
   "execution_count": 6,
   "metadata": {
    "scrolled": true
   },
   "outputs": [],
   "source": [
    "# cnn에 사용할 이미지 경로 path 선언\n",
    "\n",
    "base_dir = 'd:/mul_cnn/image/wound_burn'\n",
    "\n",
    "if not os.path.isdir(\"base_dir\"):\n",
    "    os.makedirs(\"base_dir\")"
   ]
  },
  {
   "cell_type": "code",
   "execution_count": 7,
   "metadata": {},
   "outputs": [],
   "source": [
    "# train, validation, test 디렉토리 생성\n",
    "\n",
    "train_dir = os.path.join(base_dir, 'train')\n",
    "if not os.path.isdir(\"train_dir\"):\n",
    "    os.makedirs(\"train_dir\")\n",
    "\n",
    "validation_dir = os.path.join(base_dir, 'validation')\n",
    "if not os.path.isdir(\"validation_dir\"):\n",
    "    os.makedirs(\"validation_dir\")\n",
    "\n",
    "test_dir = os.path.join(base_dir, 'test')\n",
    "if not os.path.isdir(\"test_dir\"):\n",
    "    os.makedirs(\"test_dir\")"
   ]
  },
  {
   "cell_type": "code",
   "execution_count": 10,
   "metadata": {},
   "outputs": [],
   "source": [
    "# train, validation, test 디렉토리 내 클래스별 디렉토리 생성\n",
    "\n",
    "train_wound_dir = os.path.join(train_dir, 'wound')\n",
    "if not os.path.isdir(\"train_wound_dir\"):\n",
    "    os.makedirs(\"train_wound_dir\")\n",
    "\n",
    "train_burn_dir = os.path.join(train_dir, 'burn')\n",
    "if not os.path.isdir(\"train_burn_dir\"):\n",
    "    os.makedirs(\"train_burn_dir\")\n",
    "\n",
    "validation_wound_dir = os.path.join(validation_dir, 'wound')\n",
    "if not os.path.isdir(\"validation_wound_dir\"):\n",
    "    os.makedirs(\"validation_wound_dir\")\n",
    "\n",
    "validation_burn_dir = os.path.join(validation_dir, 'burn')\n",
    "if not os.path.isdir(\"validation_burn_dir\"):\n",
    "    os.makedirs(\"validation_burn_dir\")\n",
    "\n",
    "test_wound_dir = os.path.join(test_dir, 'wound')\n",
    "if not os.path.isdir(\"test_wound_dir\"):\n",
    "    os.makedirs(\"test_wound_dir\")\n",
    "\n",
    "test_burn_dir = os.path.join(test_dir, 'burn')\n",
    "if not os.path.isdir(\"test_burn_dir\"):\n",
    "    os.makedirs(\"test_burn_dir\")"
   ]
  },
  {
   "cell_type": "code",
   "execution_count": 18,
   "metadata": {},
   "outputs": [],
   "source": [
    "# 원본 이미지 디렉토리에서 cnn에 사용할 디렉토리로 개수 정해서 옮겨주기\n",
    "#  위에서 선언해준 path사용 original_dataset_dir, base_dir\n",
    "\n",
    "# 학습할 디렉토리 초기화\n",
    "import glob\n",
    "[os.remove(f) for f in glob.glob(base_dir+\"*/*/*.jpg\")]\n",
    "\n",
    "fnames = [original_dataset_dir +'burn/burn{}.jpg'.format(i) for i in range(3000)]\n",
    "for fname in fnames:\n",
    "    fname_split = fname.split(\"/\")[-1]\n",
    "    src = os.path.join(original_dataset_dir, \"burn\", fname_split)\n",
    "    dst = os.path.join(base_dir, \"train\", \"burn\", fname_split)\n",
    "    shutil.copyfile(src, dst)\n",
    "\n",
    "fnames = [original_dataset_dir +'burn/burn{}.jpg'.format(i) for i in range(3000, 4000)]\n",
    "for fname in fnames:\n",
    "    fname_split = fname.split(\"/\")[-1]\n",
    "    src = os.path.join(original_dataset_dir, \"burn\", fname_split)\n",
    "    dst = os.path.join(base_dir, \"validation\", \"burn\", fname_split)\n",
    "    shutil.copyfile(src, dst)\n",
    "    \n",
    "fnames = [original_dataset_dir +'burn/burn{}.jpg'.format(i) for i in range(4000, 5000)]\n",
    "for fname in fnames:\n",
    "    fname_split = fname.split(\"/\")[-1]\n",
    "    src = os.path.join(original_dataset_dir, \"burn\", fname_split)\n",
    "    dst = os.path.join(base_dir, \"test\", \"burn\", fname_split)\n",
    "    shutil.copyfile(src, dst)\n",
    "    \n",
    "fnames = [original_dataset_dir+'wound/wound{}.jpg'.format(i) for i in range(3000)]\n",
    "for fname in fnames:\n",
    "    fname_split = fname.split(\"/\")[-1]\n",
    "    src = os.path.join(original_dataset_dir, \"wound\", fname_split)\n",
    "    dst = os.path.join(base_dir, \"train\", \"wound\", fname_split)\n",
    "    shutil.copyfile(src, dst)   \n",
    "    \n",
    "fnames = [original_dataset_dir+'wound/wound{}.jpg'.format(i) for i in range(3000, 4000)]\n",
    "for fname in fnames:\n",
    "    fname_split = fname.split(\"/\")[-1]\n",
    "    src = os.path.join(original_dataset_dir, \"wound\", fname_split)\n",
    "    dst = os.path.join(base_dir, \"validation\", \"wound\", fname_split)\n",
    "    shutil.copyfile(src, dst)\n",
    "    \n",
    "fnames = [original_dataset_dir+'wound/wound{}.jpg'.format(i) for i in range(4000, 5000)]\n",
    "for fname in fnames:\n",
    "    fname_split = fname.split(\"/\")[-1]\n",
    "    src = os.path.join(original_dataset_dir, \"wound\", fname_split)\n",
    "    dst = os.path.join(base_dir, \"test\", \"wound\", fname_split)\n",
    "    shutil.copyfile(src, dst)"
   ]
  },
  {
   "cell_type": "code",
   "execution_count": 16,
   "metadata": {},
   "outputs": [
    {
     "name": "stdout",
     "output_type": "stream",
     "text": [
      "total training burn images: 3000\n",
      "total training wound images: 3000\n",
      "total validation burn images: 1000\n",
      "total validation wound images: 1000\n",
      "total test burn images: 1000\n",
      "total test wound images: 1000\n"
     ]
    }
   ],
   "source": [
    "# cnn에 사용할 디렉토리내 파일 개수 파악\n",
    "\n",
    "print('total training burn images:', len(os.listdir(train_burn_dir)))\n",
    "print('total training wound images:', len(os.listdir(train_wound_dir)))\n",
    "print('total validation burn images:', len(os.listdir(validation_burn_dir)))\n",
    "print('total validation wound images:', len(os.listdir(validation_wound_dir)))\n",
    "print('total test burn images:', len(os.listdir(test_burn_dir)))\n",
    "print('total test wound images:', len(os.listdir(test_wound_dir)))"
   ]
  },
  {
   "cell_type": "markdown",
   "metadata": {},
   "source": [
    "## 모델 구성하기\n",
    "영상 분류에 높은 성능을 보이고 있는 컨볼루션 신경망 모델을 구성해보겠습니다. 각 레이어들은 이전 강좌에서 살펴보았으므로 크게 어려움없이 구성할 수 있습니다.\n",
    "\n",
    "컨볼루션 레이어 : 입력 이미지 크기 128 x 128, 입력 이미지 채널 3개, 필터 크기 3 x 3, 필터 수 32개, 활성화 함수 ‘relu’\n",
    "\n",
    "컨볼루션 레이어 : 필터 크기 3 x 3, 필터 수 64개, 활성화 함수 ‘relu’\n",
    "\n",
    "맥스풀링 레이어 : 풀 크기 2 x 2\n",
    "\n",
    "컨볼루션 레이어 : 필터 크기 3 x 3, 필터 수 128개, 활성화 함수 ‘relu’\n",
    "\n",
    "맥스풀링 레이어 : 풀 크기 2 x 2\n",
    "\n",
    "컨볼루션 레이어 : 필터 크기 3 x 3, 필터 수 128개, 활성화 함수 ‘relu’\n",
    "\n",
    "맥스풀링 레이어 : 풀 크기 2 x 2\n",
    "\n",
    "플래튼 레이어\n",
    "\n",
    "댄스 레이어 : 출력 뉴런 수 512개, 활성화 함수 ‘relu’\n",
    "\n",
    "댄스 레이어 : 출력 뉴런 수 1개, 활성화 함수 ‘sigmoid’"
   ]
  },
  {
   "cell_type": "code",
   "execution_count": 54,
   "metadata": {},
   "outputs": [],
   "source": [
    "# 모델 구성\n",
    "\n",
    "from keras import layers\n",
    "from keras import models\n",
    "\n",
    "model = models.Sequential()\n",
    "model.add(layers.Conv2D(32, (3, 3), activation='relu',\n",
    "                        input_shape=(128, 128, 3)))\n",
    "model.add(layers.MaxPooling2D((2, 2)))\n",
    "model.add(layers.Conv2D(64, (3, 3), activation='relu'))\n",
    "model.add(layers.MaxPooling2D((2, 2)))\n",
    "model.add(layers.Conv2D(128, (3, 3), activation='relu'))\n",
    "model.add(layers.MaxPooling2D((2, 2)))\n",
    "model.add(layers.Conv2D(128, (3, 3), activation='relu'))\n",
    "model.add(layers.MaxPooling2D((2, 2)))\n",
    "model.add(layers.Flatten())\n",
    "model.add(layers.Dense(512, activation='relu'))\n",
    "model.add(layers.Dense(1, activation='sigmoid'))"
   ]
  },
  {
   "cell_type": "code",
   "execution_count": 55,
   "metadata": {},
   "outputs": [
    {
     "name": "stdout",
     "output_type": "stream",
     "text": [
      "Model: \"sequential_1\"\n",
      "_________________________________________________________________\n",
      " Layer (type)                Output Shape              Param #   \n",
      "=================================================================\n",
      " conv2d_4 (Conv2D)           (None, 126, 126, 32)      896       \n",
      "                                                                 \n",
      " max_pooling2d_4 (MaxPooling  (None, 63, 63, 32)       0         \n",
      " 2D)                                                             \n",
      "                                                                 \n",
      " conv2d_5 (Conv2D)           (None, 61, 61, 64)        18496     \n",
      "                                                                 \n",
      " max_pooling2d_5 (MaxPooling  (None, 30, 30, 64)       0         \n",
      " 2D)                                                             \n",
      "                                                                 \n",
      " conv2d_6 (Conv2D)           (None, 28, 28, 128)       73856     \n",
      "                                                                 \n",
      " max_pooling2d_6 (MaxPooling  (None, 14, 14, 128)      0         \n",
      " 2D)                                                             \n",
      "                                                                 \n",
      " conv2d_7 (Conv2D)           (None, 12, 12, 128)       147584    \n",
      "                                                                 \n",
      " max_pooling2d_7 (MaxPooling  (None, 6, 6, 128)        0         \n",
      " 2D)                                                             \n",
      "                                                                 \n",
      " flatten_1 (Flatten)         (None, 4608)              0         \n",
      "                                                                 \n",
      " dense_2 (Dense)             (None, 512)               2359808   \n",
      "                                                                 \n",
      " dense_3 (Dense)             (None, 1)                 513       \n",
      "                                                                 \n",
      "=================================================================\n",
      "Total params: 2,601,153\n",
      "Trainable params: 2,601,153\n",
      "Non-trainable params: 0\n",
      "_________________________________________________________________\n"
     ]
    }
   ],
   "source": [
    "# 구성한 모델 확인\n",
    "\n",
    "model.summary()"
   ]
  },
  {
   "cell_type": "markdown",
   "metadata": {},
   "source": [
    "## 모델 학습과정 설정하기\n",
    "\n",
    "모델을 정의했다면 모델을 손실함수와 최적화 알고리즘으로 엮어봅니다.\n",
    "\n",
    "loss : 현재 가중치 세트를 평가하는 데 사용한 손실 함수 입니다. 2개의 클래스 문제이므로 'binary_crossentropy'으로 지정합니다.\n",
    "optimizer : 최적의 가중치를 검색하는 데 사용되는 최적화 알고리즘으로 optimizers.RMSprop(lr=1e-4)’을 사용합니다.\n",
    "metrics : 평가 척도를 나타내며 분류 문제에서는 일반적으로 ‘accuracy’으로 지정합니다."
   ]
  },
  {
   "cell_type": "code",
   "execution_count": 61,
   "metadata": {
    "scrolled": true
   },
   "outputs": [
    {
     "name": "stderr",
     "output_type": "stream",
     "text": [
      "C:\\Users\\pc\\anaconda3\\envs\\convlstm2d\\lib\\site-packages\\keras\\optimizers\\optimizer_v2\\rmsprop.py:143: UserWarning: The `lr` argument is deprecated, use `learning_rate` instead.\n",
      "  super().__init__(name, **kwargs)\n"
     ]
    }
   ],
   "source": [
    "from keras import optimizers\n",
    "\n",
    "model.compile(loss='binary_crossentropy',\n",
    "              optimizer=optimizers.RMSprop(lr=1e-4),\n",
    "              metrics=['acc'])"
   ]
  },
  {
   "cell_type": "markdown",
   "metadata": {},
   "source": [
    "## 데이터셋 생성하기\n",
    "\n",
    "케라스에서는 이미지 파일을 쉽게 학습시킬 수 있도록 ImageDataGenerator 클래스를 제공합니다. ImageDataGenerator 클래스는 데이터 증강 (data augmentation)을 위해 막강한 기능을 제공하는 데, 이 기능들은 다른 강좌에세 다루기로 하고, 본 강좌에서는 특정 폴더에 이미지를 분류 해놓았을 때 이를 학습시키기 위한 데이터셋으로 만들어주는 기능을 사용해보겠습니다.\n",
    "\n",
    "먼저 ImageDataGenerator 클래스를 이용하여 객체를 생성한 뒤 flow_from_directory() 함수를 호출하여 제네레이터(generator)를 생성합니다. flow_from_directory() 함수의 주요인자는 다음과 같습니다.\n",
    "\n",
    "첫번재 인자 : 이미지 경로를 지정합니다.\n",
    "\n",
    "target_size : 패치 이미지 크기를 지정합니다. 폴더에 있는 원본 이미지 크기가 다르더라도 target_size에 지정된 크기로 자동 조절됩니다.\n",
    "\n",
    "batch_size : 배치 크기를 지정합니다.\n",
    "\n",
    "class_mode : 분류 방식에 대해서 지정합니다.\n",
    "\n",
    "categorical : 2D one-hot 부호화된 라벨이 반환됩니다.\n",
    "\n",
    "binary : 1D 이진 라벨이 반환됩니다.\n",
    "\n",
    "sparse : 1D 정수 라벨이 반환됩니다.\n",
    "\n",
    "None : 라벨이 반환되지 않습니다.\n",
    "\n",
    "본 예제에서는 패치 이미지 크기를 128 x 128로 하였으니 target_size도 (128, 128)로 셋팅하였습니다. 훈련 데이터 수가 클래스당 3000개이니 배치 크기를 20으로 지정하여 총 150번 배치를 수행하면 하나의 epoch가 수행될 수 있도록 하였습니다. 다중 클래스 문제이므로 class_mode는 ‘categorical’로 지정하였습니다. 그리고 제네레이터는 훈련용과 검증용으로 두 개를 만들었습니다."
   ]
  },
  {
   "cell_type": "code",
   "execution_count": 62,
   "metadata": {},
   "outputs": [
    {
     "name": "stdout",
     "output_type": "stream",
     "text": [
      "Found 6000 images belonging to 2 classes.\n",
      "Found 2000 images belonging to 2 classes.\n"
     ]
    }
   ],
   "source": [
    "from keras.preprocessing.image import ImageDataGenerator\n",
    "\n",
    "train_datagen = ImageDataGenerator(rescale=1./255)\n",
    "test_datagen = ImageDataGenerator(rescale=1./255)\n",
    "\n",
    "train_generator = train_datagen.flow_from_directory(\n",
    "        train_dir,\n",
    "        target_size=(128, 128),\n",
    "        batch_size=20,\n",
    "        class_mode='binary')\n",
    "\n",
    "validation_generator = test_datagen.flow_from_directory(\n",
    "        validation_dir,\n",
    "        target_size=(128, 128),\n",
    "        batch_size=20,\n",
    "        class_mode='binary')"
   ]
  },
  {
   "cell_type": "markdown",
   "metadata": {},
   "source": [
    "## 데이터셋 확인"
   ]
  },
  {
   "cell_type": "code",
   "execution_count": 57,
   "metadata": {},
   "outputs": [
    {
     "name": "stdout",
     "output_type": "stream",
     "text": [
      "data batch shape: (20, 128, 128, 3)\n",
      "labels batch shape: (20,)\n"
     ]
    }
   ],
   "source": [
    "import PIL\n",
    "import scipy\n",
    "for data_batch, labels_batch in train_generator:\n",
    "    print('data batch shape:', data_batch.shape)\n",
    "    print('labels batch shape:', labels_batch.shape)\n",
    "    break"
   ]
  },
  {
   "cell_type": "markdown",
   "metadata": {},
   "source": [
    "## 모델 학습시키기\n",
    "케라스에서는 모델을 학습시킬 때 주로 fit() 함수를 사용하지만 제네레이터로 생성된 배치로 학습시킬 경우에는 fit_generator() 함수를 사용합니다. 본 예제에서는 ImageDataGenerator라는 제네레이터로 이미지를 담고 있는 배치로 학습시키기 때문에 fit_generator() 함수를 사용하겠습니다.\n",
    "\n",
    "첫번째 인자 : 훈련데이터셋을 제공할 제네레이터를 지정합니다. 본 예제에서는 앞서 생성한 train_generator으로 지정합니다.\n",
    "\n",
    "steps_per_epoch : 한 epoch에 사용한 스텝 수를 지정합니다. 총 6000개의 훈련 샘플이 있고 배치사이즈가 20이므로 300 스텝으로 지정합니다.\n",
    "\n",
    "epochs : 전체 훈련 데이터셋에 대해 학습 반복 횟수를 지정합니다. 30번을 반복적으로 학습시켜 보겠습니다.\n",
    "\n",
    "validation_data : 검증데이터셋을 제공할 제네레이터를 지정합니다. 본 예제에서는 앞서 생성한 \n",
    "validation_generator으로 지정합니다.\n",
    "\n",
    "validation_steps : 한 epoch 종료 시 마다 검증할 때 사용되는 검증 스텝 수를 지정합니다. 총 2000개의 검증 샘플이 있고 배치사이즈가 20이므로 100 스텝으로 지정합니다."
   ]
  },
  {
   "cell_type": "code",
   "execution_count": 66,
   "metadata": {},
   "outputs": [
    {
     "name": "stdout",
     "output_type": "stream",
     "text": [
      "Epoch 1/30\n"
     ]
    },
    {
     "name": "stderr",
     "output_type": "stream",
     "text": [
      "C:\\Users\\pc\\AppData\\Local\\Temp\\ipykernel_9744\\4060463056.py:1: UserWarning: `Model.fit_generator` is deprecated and will be removed in a future version. Please use `Model.fit`, which supports generators.\n",
      "  history = model.fit_generator(\n"
     ]
    },
    {
     "name": "stdout",
     "output_type": "stream",
     "text": [
      "300/300 [==============================] - 108s 360ms/step - loss: 0.1231 - acc: 0.9528\n",
      "Epoch 2/30\n",
      "300/300 [==============================] - 103s 344ms/step - loss: 0.1133 - acc: 0.9580\n",
      "Epoch 3/30\n",
      "300/300 [==============================] - 110s 367ms/step - loss: 0.1024 - acc: 0.9617\n",
      "Epoch 4/30\n",
      "300/300 [==============================] - 111s 369ms/step - loss: 0.0888 - acc: 0.9693\n",
      "Epoch 5/30\n",
      "300/300 [==============================] - 109s 365ms/step - loss: 0.0833 - acc: 0.9718\n",
      "Epoch 6/30\n",
      "300/300 [==============================] - 106s 353ms/step - loss: 0.0795 - acc: 0.9708\n",
      "Epoch 7/30\n",
      "300/300 [==============================] - 120s 400ms/step - loss: 0.0695 - acc: 0.9747\n",
      "Epoch 8/30\n",
      "300/300 [==============================] - 108s 360ms/step - loss: 0.0660 - acc: 0.9780\n",
      "Epoch 9/30\n",
      "300/300 [==============================] - 107s 356ms/step - loss: 0.0547 - acc: 0.9800\n",
      "Epoch 10/30\n",
      "300/300 [==============================] - 108s 359ms/step - loss: 0.0503 - acc: 0.9823\n",
      "Epoch 11/30\n",
      "300/300 [==============================] - 107s 356ms/step - loss: 0.0424 - acc: 0.9857\n",
      "Epoch 12/30\n",
      "300/300 [==============================] - 105s 350ms/step - loss: 0.0402 - acc: 0.9850\n",
      "Epoch 13/30\n",
      "300/300 [==============================] - 108s 360ms/step - loss: 0.0354 - acc: 0.9867\n",
      "Epoch 14/30\n",
      "300/300 [==============================] - 104s 348ms/step - loss: 0.0289 - acc: 0.9903\n",
      "Epoch 15/30\n",
      "300/300 [==============================] - 114s 379ms/step - loss: 0.0287 - acc: 0.9900\n",
      "Epoch 16/30\n",
      "300/300 [==============================] - 122s 405ms/step - loss: 0.0234 - acc: 0.9925\n",
      "Epoch 17/30\n",
      "300/300 [==============================] - 122s 406ms/step - loss: 0.0217 - acc: 0.9937\n",
      "Epoch 18/30\n",
      "300/300 [==============================] - 131s 438ms/step - loss: 0.0233 - acc: 0.9922\n",
      "Epoch 19/30\n",
      "300/300 [==============================] - 135s 450ms/step - loss: 0.0209 - acc: 0.9930\n",
      "Epoch 20/30\n",
      "300/300 [==============================] - 133s 444ms/step - loss: 0.0154 - acc: 0.9955\n",
      "Epoch 21/30\n",
      "300/300 [==============================] - 133s 444ms/step - loss: 0.0143 - acc: 0.9957\n",
      "Epoch 22/30\n",
      "300/300 [==============================] - 138s 459ms/step - loss: 0.0146 - acc: 0.9945\n",
      "Epoch 23/30\n",
      "300/300 [==============================] - 137s 457ms/step - loss: 0.0136 - acc: 0.9948\n",
      "Epoch 24/30\n",
      "300/300 [==============================] - 129s 431ms/step - loss: 0.0155 - acc: 0.9952\n",
      "Epoch 25/30\n",
      "300/300 [==============================] - 145s 482ms/step - loss: 0.0123 - acc: 0.9955\n",
      "Epoch 26/30\n",
      "300/300 [==============================] - 134s 446ms/step - loss: 0.0118 - acc: 0.9962\n",
      "Epoch 27/30\n",
      "300/300 [==============================] - 117s 391ms/step - loss: 0.0115 - acc: 0.9963\n",
      "Epoch 28/30\n",
      "300/300 [==============================] - 113s 376ms/step - loss: 0.0118 - acc: 0.9963\n",
      "Epoch 29/30\n",
      "300/300 [==============================] - 121s 405ms/step - loss: 0.0133 - acc: 0.9963\n",
      "Epoch 30/30\n",
      "300/300 [==============================] - 119s 396ms/step - loss: 0.0084 - acc: 0.9970\n"
     ]
    }
   ],
   "source": [
    "history = model.fit_generator(\n",
    "      train_generator,\n",
    "      steps_per_epoch=300,\n",
    "      epochs=30,\n",
    "      validation_data=validation_generator,\n",
    "      validation_steps=100)"
   ]
  },
  {
   "cell_type": "code",
   "execution_count": 64,
   "metadata": {
    "scrolled": true
   },
   "outputs": [
    {
     "name": "stdout",
     "output_type": "stream",
     "text": [
      "D:\\mul_cnn\n"
     ]
    }
   ],
   "source": [
    "%pwd\n",
    "%cd D:\\mul_cnn\n",
    "model.save('wound_burn_b20_s300.h5')"
   ]
  },
  {
   "cell_type": "markdown",
   "metadata": {},
   "source": [
    "## 모델 평가하기"
   ]
  },
  {
   "cell_type": "code",
   "execution_count": 26,
   "metadata": {},
   "outputs": [
    {
     "data": {
      "image/png": "[encoded data removed]",
      "text/plain": [
       "<Figure size 640x480 with 1 Axes>"
      ]
     },
     "metadata": {},
     "output_type": "display_data"
    },
    {
     "data": {
      "image/png": "[encoded data removed]",
      "text/plain": [
       "<Figure size 640x480 with 1 Axes>"
      ]
     },
     "metadata": {},
     "output_type": "display_data"
    }
   ],
   "source": [
    "import matplotlib.pyplot as plt\n",
    "\n",
    "acc = history.history['acc']\n",
    "val_acc = history.history['val_acc']\n",
    "loss = history.history['loss']\n",
    "val_loss = history.history['val_loss']\n",
    "\n",
    "epochs = range(len(acc))\n",
    "\n",
    "plt.plot(epochs, acc, 'bo', label='Training acc')\n",
    "plt.plot(epochs, val_acc, 'b', label='Validation acc')\n",
    "plt.title('Training and validation accuracy')\n",
    "plt.legend()\n",
    "\n",
    "plt.figure()\n",
    "\n",
    "plt.plot(epochs, loss, 'bo', label='Training loss')\n",
    "plt.plot(epochs, val_loss, 'b', label='Validation loss')\n",
    "plt.title('Training and validation loss')\n",
    "plt.legend()\n",
    "\n",
    "plt.show()"
   ]
  },
  {
   "cell_type": "code",
   "execution_count": 67,
   "metadata": {
    "scrolled": true
   },
   "outputs": [
    {
     "name": "stderr",
     "output_type": "stream",
     "text": [
      "C:\\Users\\pc\\AppData\\Local\\Temp\\ipykernel_9744\\2069313489.py:1: UserWarning: `Model.evaluate_generator` is deprecated and will be removed in a future version. Please use `Model.evaluate`, which supports generators.\n",
      "  scores = model.evaluate_generator(validation_generator, steps=5)\n"
     ]
    },
    {
     "name": "stdout",
     "output_type": "stream",
     "text": [
      "acc: 90.00%\n"
     ]
    }
   ],
   "source": [
    "scores = model.evaluate_generator(validation_generator, steps=5)\n",
    "print(\"%s: %.2f%%\" %(model.metrics_names[1], scores[1]*100))"
   ]
  },
  {
   "cell_type": "code",
   "execution_count": 37,
   "metadata": {},
   "outputs": [
    {
     "name": "stdout",
     "output_type": "stream",
     "text": [
      "-- Predict --\n"
     ]
    },
    {
     "name": "stderr",
     "output_type": "stream",
     "text": [
      "C:\\Users\\pc\\AppData\\Local\\Temp\\ipykernel_9744\\2625220887.py:3: UserWarning: `Model.predict_generator` is deprecated and will be removed in a future version. Please use `Model.predict`, which supports generators.\n",
      "  output = model.predict_generator(validation_generator, steps=5)\n"
     ]
    },
    {
     "name": "stdout",
     "output_type": "stream",
     "text": [
      "{'burn': 0, 'wound': 1}\n",
      "[[0.003]\n",
      " [0.956]\n",
      " [0.995]\n",
      " [0.031]\n",
      " [0.939]\n",
      " [1.000]\n",
      " [0.033]\n",
      " [1.000]\n",
      " [1.000]\n",
      " [0.995]\n",
      " [0.276]\n",
      " [0.947]\n",
      " [0.253]\n",
      " [0.131]\n",
      " [0.999]\n",
      " [0.152]\n",
      " [0.183]\n",
      " [0.993]\n",
      " [0.004]\n",
      " [0.950]\n",
      " [1.000]\n",
      " [0.289]\n",
      " [0.763]\n",
      " [0.611]\n",
      " [0.492]\n",
      " [0.954]\n",
      " [0.063]\n",
      " [0.996]\n",
      " [0.064]\n",
      " [0.239]\n",
      " [0.124]\n",
      " [0.979]\n",
      " [0.156]\n",
      " [0.009]\n",
      " [0.629]\n",
      " [0.083]\n",
      " [0.992]\n",
      " [1.000]\n",
      " [0.981]\n",
      " [0.988]\n",
      " [0.298]\n",
      " [0.665]\n",
      " [0.998]\n",
      " [0.362]\n",
      " [0.078]\n",
      " [0.858]\n",
      " [0.999]\n",
      " [0.083]\n",
      " [0.823]\n",
      " [0.995]\n",
      " [0.985]\n",
      " [0.846]\n",
      " [0.280]\n",
      " [0.999]\n",
      " [0.997]\n",
      " [0.994]\n",
      " [0.986]\n",
      " [0.999]\n",
      " [0.021]\n",
      " [0.622]\n",
      " [0.066]\n",
      " [1.000]\n",
      " [0.538]\n",
      " [0.076]\n",
      " [0.050]\n",
      " [0.643]\n",
      " [0.135]\n",
      " [0.817]\n",
      " [0.313]\n",
      " [0.093]\n",
      " [0.245]\n",
      " [1.000]\n",
      " [0.848]\n",
      " [0.982]\n",
      " [0.996]\n",
      " [0.999]\n",
      " [0.118]\n",
      " [1.000]\n",
      " [0.022]\n",
      " [0.443]\n",
      " [0.467]\n",
      " [1.000]\n",
      " [0.000]\n",
      " [0.557]\n",
      " [0.157]\n",
      " [0.232]\n",
      " [0.011]\n",
      " [0.160]\n",
      " [0.990]\n",
      " [0.211]\n",
      " [0.956]\n",
      " [0.618]\n",
      " [0.888]\n",
      " [0.005]\n",
      " [0.931]\n",
      " [0.577]\n",
      " [0.091]\n",
      " [0.020]\n",
      " [0.919]\n",
      " [1.000]]\n"
     ]
    }
   ],
   "source": [
    "import numpy as np\n",
    "print(\"-- Predict --\")\n",
    "output = model.predict_generator(validation_generator, steps=5)\n",
    "np.set_printoptions(formatter={'float': lambda x: \"{0:0.3f}\".format(x)})\n",
    "print(validation_generator.class_indices)\n",
    "print(output)"
   ]
  },
  {
   "cell_type": "code",
   "execution_count": null,
   "metadata": {},
   "outputs": [],
   "source": [
    "# 데이터 증강\n",
    "# 이미 증강한 이미지 가져온 거면 안 해도 괜찮음\n",
    "\n",
    "# datagen = ImageDataGenerator(\n",
    "#       rotation_range=40,\n",
    "#       width_shift_range=0.2,\n",
    "#       height_shift_range=0.2,\n",
    "#       shear_range=0.2,\n",
    "#       zoom_range=0.2,\n",
    "#       horizontal_flip=True,\n",
    "#       fill_mode='nearest')\n",
    "\n",
    "# # This is module with image preprocessing utilities\n",
    "# from keras.preprocessing import image\n",
    "\n",
    "# fnames = [os.path.join(train_cats_dir, fname) for fname in os.listdir(train_cats_dir)]\n",
    "\n",
    "# # We pick one image to \"augment\"\n",
    "# img_path = fnames[3]\n",
    "\n",
    "# # Read the image and resize it\n",
    "# img = image.load_img(img_path, target_size=(150, 150))\n",
    "\n",
    "# # Convert it to a Numpy array with shape (150, 150, 3)\n",
    "# x = image.img_to_array(img)\n",
    "\n",
    "# # Reshape it to (1, 150, 150, 3)\n",
    "# x = x.reshape((1,) + x.shape)\n",
    "\n",
    "# # The .flow() command below generates batches of randomly transformed images.\n",
    "# # It will loop indefinitely, so we need to `break` the loop at some point!\n",
    "# i = 0\n",
    "# for batch in datagen.flow(x, batch_size=1):\n",
    "#     plt.figure(i)\n",
    "#     imgplot = plt.imshow(image.array_to_img(batch[0]))\n",
    "#     i += 1\n",
    "#     if i % 4 == 0:\n",
    "#         break\n",
    "\n",
    "# plt.show()\n",
    "\n",
    "# train_datagen = ImageDataGenerator(\n",
    "#     rescale=1./255,\n",
    "#     rotation_range=40,\n",
    "#     width_shift_range=0.2,\n",
    "#     height_shift_range=0.2,\n",
    "#     shear_range=0.2,\n",
    "#     zoom_range=0.2,\n",
    "#     horizontal_flip=True,)\n",
    "\n",
    "# # Note that the validation data should not be augmented!\n",
    "# test_datagen = ImageDataGenerator(rescale=1./255)\n",
    "\n",
    "# train_generator = train_datagen.flow_from_directory(\n",
    "#         # This is the target directory\n",
    "#         train_dir,\n",
    "#         # All images will be resized to 150x150\n",
    "#         target_size=(150, 150),\n",
    "#         batch_size=32,\n",
    "#         # Since we use binary_crossentropy loss, we need binary labels\n",
    "#         class_mode='binary')\n",
    "\n",
    "# validation_generator = test_datagen.flow_from_directory(\n",
    "#         validation_dir,\n",
    "#         target_size=(150, 150),\n",
    "#         batch_size=32,\n",
    "#         class_mode='binary')\n",
    "\n",
    "# history = model.fit_generator(\n",
    "#       train_generator,\n",
    "#       steps_per_epoch=100,\n",
    "#       epochs=100,\n",
    "#       validation_data=validation_generator,\n",
    "#       validation_steps=50)"
   ]
  }
 ],
 "metadata": {
  "kernelspec": {
   "display_name": "convlstm2d",
   "language": "python",
   "name": "convlstm2d"
  },
  "language_info": {
   "codemirror_mode": {
    "name": "ipython",
    "version": 3
   },
   "file_extension": ".py",
   "mimetype": "text/x-python",
   "name": "python",
   "nbconvert_exporter": "python",
   "pygments_lexer": "ipython3",
   "version": "3.10.8"
  }
 },
 "nbformat": 4,
 "nbformat_minor": 2
}
