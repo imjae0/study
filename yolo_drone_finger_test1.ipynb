{
 "cells": [
  {
   "cell_type": "code",
   "execution_count": 1,
   "id": "4636293a",
   "metadata": {
    "scrolled": true
   },
   "outputs": [
    {
     "name": "stdout",
     "output_type": "stream",
     "text": [
      "/home/dlawodud0484/anaconda3/envs/test4/bin/python\n",
      "['/home/dlawodud0484', '/home/dlawodud0484/anaconda3/envs/test4/lib/python310.zip', '/home/dlawodud0484/anaconda3/envs/test4/lib/python3.10', '/home/dlawodud0484/anaconda3/envs/test4/lib/python3.10/lib-dynload', '', '/home/dlawodud0484/anaconda3/envs/test4/lib/python3.10/site-packages']\n"
     ]
    }
   ],
   "source": [
    "# 현재 가상환경 커널 디렉토리 파악\n",
    "import sys\n",
    "\n",
    "print(sys.executable)\n",
    "print(sys.path)"
   ]
  },
  {
   "cell_type": "code",
   "execution_count": 2,
   "id": "af6e84b3",
   "metadata": {},
   "outputs": [
    {
     "data": {
      "text/plain": [
       "'utf-8'"
      ]
     },
     "execution_count": 2,
     "metadata": {},
     "output_type": "execute_result"
    }
   ],
   "source": [
    "# 현재 기본 인코딩 확인\n",
    "import sys\n",
    "sys.stdin.encoding"
   ]
  },
  {
   "cell_type": "code",
   "execution_count": 3,
   "id": "91eece6e",
   "metadata": {
    "scrolled": true
   },
   "outputs": [
    {
     "name": "stdout",
     "output_type": "stream",
     "text": [
      "# conda environments:\n",
      "#\n",
      "base                     /home/dlawodud0484/anaconda3\n",
      "YOLOv5_test              /home/dlawodud0484/anaconda3/envs/YOLOv5_test\n",
      "Yo                       /home/dlawodud0484/anaconda3/envs/Yo\n",
      "test                     /home/dlawodud0484/anaconda3/envs/test\n",
      "test2                    /home/dlawodud0484/anaconda3/envs/test2\n",
      "test3                    /home/dlawodud0484/anaconda3/envs/test3\n",
      "test4                    /home/dlawodud0484/anaconda3/envs/test4\n",
      "yo                       /home/dlawodud0484/anaconda3/envs/yo\n",
      "\n",
      "\n",
      "Note: you may need to restart the kernel to use updated packages.\n"
     ]
    }
   ],
   "source": [
    "conda info -e"
   ]
  },
  {
   "cell_type": "code",
   "execution_count": 4,
   "id": "54702785",
   "metadata": {
    "scrolled": false
   },
   "outputs": [
    {
     "name": "stdout",
     "output_type": "stream",
     "text": [
      "Available kernels:\r\n",
      "  python3    /home/dlawodud0484/.local/share/jupyter/kernels/python3\r\n",
      "  test       /home/dlawodud0484/.local/share/jupyter/kernels/test\r\n",
      "  test2      /home/dlawodud0484/.local/share/jupyter/kernels/test2\r\n",
      "  test3      /home/dlawodud0484/.local/share/jupyter/kernels/test3\r\n",
      "  test4      /home/dlawodud0484/.local/share/jupyter/kernels/test4\r\n",
      "  yo         /home/dlawodud0484/.local/share/jupyter/kernels/yo\r\n"
     ]
    }
   ],
   "source": [
    "# 현재 활성화되어있는 주피터 커널 확인\n",
    "!jupyter kernelspec list"
   ]
  },
  {
   "cell_type": "code",
   "execution_count": 5,
   "id": "ef3457d0",
   "metadata": {
    "scrolled": true
   },
   "outputs": [
    {
     "data": {
      "text/plain": [
       "'/home/dlawodud0484'"
      ]
     },
     "execution_count": 5,
     "metadata": {},
     "output_type": "execute_result"
    }
   ],
   "source": [
    "# 현재 디렉토리 확인\n",
    "%pwd"
   ]
  },
  {
   "cell_type": "code",
   "execution_count": 6,
   "id": "d33be5f7",
   "metadata": {
    "scrolled": true
   },
   "outputs": [
    {
     "name": "stdout",
     "output_type": "stream",
     "text": [
      "/home/dlawodud0484/drone_study_ready/yolov5-master\n"
     ]
    }
   ],
   "source": [
    "# 디렉토리 이동\n",
    "%cd drone_study_ready/yolov5-master"
   ]
  },
  {
   "cell_type": "code",
   "execution_count": 8,
   "id": "3ffc854d",
   "metadata": {
    "scrolled": true
   },
   "outputs": [
    {
     "name": "stdout",
     "output_type": "stream",
     "text": [
      "Requirement already satisfied: gitpython in /home/dlawodud0484/anaconda3/envs/test4/lib/python3.10/site-packages (from -r requirements.txt (line 5)) (3.1.30)\n",
      "Requirement already satisfied: ipython in /home/dlawodud0484/anaconda3/envs/test4/lib/python3.10/site-packages (from -r requirements.txt (line 6)) (8.7.0)\n",
      "Requirement already satisfied: matplotlib>=3.2.2 in /home/dlawodud0484/anaconda3/envs/test4/lib/python3.10/site-packages (from -r requirements.txt (line 7)) (3.6.2)\n",
      "Requirement already satisfied: numpy>=1.18.5 in /home/dlawodud0484/anaconda3/envs/test4/lib/python3.10/site-packages (from -r requirements.txt (line 8)) (1.24.1)\n",
      "Requirement already satisfied: opencv-python>=4.1.1 in /home/dlawodud0484/anaconda3/envs/test4/lib/python3.10/site-packages (from -r requirements.txt (line 9)) (4.7.0.68)\n",
      "Requirement already satisfied: Pillow>=7.1.2 in /home/dlawodud0484/anaconda3/envs/test4/lib/python3.10/site-packages (from -r requirements.txt (line 10)) (9.4.0)\n",
      "Requirement already satisfied: psutil in /home/dlawodud0484/anaconda3/envs/test4/lib/python3.10/site-packages (from -r requirements.txt (line 11)) (5.9.0)\n",
      "Requirement already satisfied: PyYAML>=5.3.1 in /home/dlawodud0484/anaconda3/envs/test4/lib/python3.10/site-packages (from -r requirements.txt (line 12)) (6.0)\n",
      "Requirement already satisfied: requests>=2.23.0 in /home/dlawodud0484/anaconda3/envs/test4/lib/python3.10/site-packages (from -r requirements.txt (line 13)) (2.28.1)\n",
      "Requirement already satisfied: scipy>=1.4.1 in /home/dlawodud0484/anaconda3/envs/test4/lib/python3.10/site-packages (from -r requirements.txt (line 14)) (1.10.0)\n",
      "Requirement already satisfied: thop>=0.1.1 in /home/dlawodud0484/anaconda3/envs/test4/lib/python3.10/site-packages (from -r requirements.txt (line 15)) (0.1.1.post2209072238)\n",
      "Requirement already satisfied: torch>=1.7.0 in /home/dlawodud0484/anaconda3/envs/test4/lib/python3.10/site-packages (from -r requirements.txt (line 16)) (1.13.1)\n",
      "Requirement already satisfied: torchvision>=0.8.1 in /home/dlawodud0484/anaconda3/envs/test4/lib/python3.10/site-packages (from -r requirements.txt (line 17)) (0.14.1)\n",
      "Requirement already satisfied: tqdm>=4.64.0 in /home/dlawodud0484/anaconda3/envs/test4/lib/python3.10/site-packages (from -r requirements.txt (line 18)) (4.64.1)\n",
      "Requirement already satisfied: tensorboard>=2.4.1 in /home/dlawodud0484/anaconda3/envs/test4/lib/python3.10/site-packages (from -r requirements.txt (line 22)) (2.11.0)\n",
      "Requirement already satisfied: pandas>=1.1.4 in /home/dlawodud0484/anaconda3/envs/test4/lib/python3.10/site-packages (from -r requirements.txt (line 27)) (1.5.2)\n",
      "Requirement already satisfied: seaborn>=0.11.0 in /home/dlawodud0484/anaconda3/envs/test4/lib/python3.10/site-packages (from -r requirements.txt (line 28)) (0.12.2)\n",
      "Requirement already satisfied: gitdb<5,>=4.0.1 in /home/dlawodud0484/anaconda3/envs/test4/lib/python3.10/site-packages (from gitpython->-r requirements.txt (line 5)) (4.0.10)\n",
      "Requirement already satisfied: stack-data in /home/dlawodud0484/anaconda3/envs/test4/lib/python3.10/site-packages (from ipython->-r requirements.txt (line 6)) (0.2.0)\n",
      "Requirement already satisfied: backcall in /home/dlawodud0484/anaconda3/envs/test4/lib/python3.10/site-packages (from ipython->-r requirements.txt (line 6)) (0.2.0)\n",
      "Requirement already satisfied: pexpect>4.3 in /home/dlawodud0484/anaconda3/envs/test4/lib/python3.10/site-packages (from ipython->-r requirements.txt (line 6)) (4.8.0)\n",
      "Requirement already satisfied: prompt-toolkit<3.1.0,>=3.0.11 in /home/dlawodud0484/anaconda3/envs/test4/lib/python3.10/site-packages (from ipython->-r requirements.txt (line 6)) (3.0.36)\n",
      "Requirement already satisfied: traitlets>=5 in /home/dlawodud0484/anaconda3/envs/test4/lib/python3.10/site-packages (from ipython->-r requirements.txt (line 6)) (5.7.1)\n",
      "Requirement already satisfied: matplotlib-inline in /home/dlawodud0484/anaconda3/envs/test4/lib/python3.10/site-packages (from ipython->-r requirements.txt (line 6)) (0.1.6)\n",
      "Requirement already satisfied: decorator in /home/dlawodud0484/anaconda3/envs/test4/lib/python3.10/site-packages (from ipython->-r requirements.txt (line 6)) (5.1.1)\n",
      "Requirement already satisfied: pygments>=2.4.0 in /home/dlawodud0484/anaconda3/envs/test4/lib/python3.10/site-packages (from ipython->-r requirements.txt (line 6)) (2.11.2)\n",
      "Requirement already satisfied: jedi>=0.16 in /home/dlawodud0484/anaconda3/envs/test4/lib/python3.10/site-packages (from ipython->-r requirements.txt (line 6)) (0.18.1)\n",
      "Requirement already satisfied: pickleshare in /home/dlawodud0484/anaconda3/envs/test4/lib/python3.10/site-packages (from ipython->-r requirements.txt (line 6)) (0.7.5)\n",
      "Requirement already satisfied: fonttools>=4.22.0 in /home/dlawodud0484/anaconda3/envs/test4/lib/python3.10/site-packages (from matplotlib>=3.2.2->-r requirements.txt (line 7)) (4.38.0)\n",
      "Requirement already satisfied: python-dateutil>=2.7 in /home/dlawodud0484/anaconda3/envs/test4/lib/python3.10/site-packages (from matplotlib>=3.2.2->-r requirements.txt (line 7)) (2.8.2)\n",
      "Requirement already satisfied: cycler>=0.10 in /home/dlawodud0484/anaconda3/envs/test4/lib/python3.10/site-packages (from matplotlib>=3.2.2->-r requirements.txt (line 7)) (0.11.0)\n",
      "Requirement already satisfied: packaging>=20.0 in /home/dlawodud0484/anaconda3/envs/test4/lib/python3.10/site-packages (from matplotlib>=3.2.2->-r requirements.txt (line 7)) (20.9)\n",
      "Requirement already satisfied: pyparsing>=2.2.1 in /home/dlawodud0484/anaconda3/envs/test4/lib/python3.10/site-packages (from matplotlib>=3.2.2->-r requirements.txt (line 7)) (3.0.9)\n",
      "Requirement already satisfied: contourpy>=1.0.1 in /home/dlawodud0484/anaconda3/envs/test4/lib/python3.10/site-packages (from matplotlib>=3.2.2->-r requirements.txt (line 7)) (1.0.6)\n",
      "Requirement already satisfied: kiwisolver>=1.0.1 in /home/dlawodud0484/anaconda3/envs/test4/lib/python3.10/site-packages (from matplotlib>=3.2.2->-r requirements.txt (line 7)) (1.4.4)\n",
      "Requirement already satisfied: idna<4,>=2.5 in /home/dlawodud0484/anaconda3/envs/test4/lib/python3.10/site-packages (from requests>=2.23.0->-r requirements.txt (line 13)) (3.4)\n",
      "Requirement already satisfied: certifi>=2017.4.17 in /home/dlawodud0484/anaconda3/envs/test4/lib/python3.10/site-packages (from requests>=2.23.0->-r requirements.txt (line 13)) (2022.12.7)\n",
      "Requirement already satisfied: urllib3<1.27,>=1.21.1 in /home/dlawodud0484/anaconda3/envs/test4/lib/python3.10/site-packages (from requests>=2.23.0->-r requirements.txt (line 13)) (1.26.13)\n",
      "Requirement already satisfied: charset-normalizer<3,>=2 in /home/dlawodud0484/anaconda3/envs/test4/lib/python3.10/site-packages (from requests>=2.23.0->-r requirements.txt (line 13)) (2.1.1)\n",
      "Requirement already satisfied: nvidia-cuda-nvrtc-cu11==11.7.99 in /home/dlawodud0484/anaconda3/envs/test4/lib/python3.10/site-packages (from torch>=1.7.0->-r requirements.txt (line 16)) (11.7.99)\n",
      "Requirement already satisfied: nvidia-cuda-runtime-cu11==11.7.99 in /home/dlawodud0484/anaconda3/envs/test4/lib/python3.10/site-packages (from torch>=1.7.0->-r requirements.txt (line 16)) (11.7.99)\n",
      "Requirement already satisfied: typing-extensions in /home/dlawodud0484/anaconda3/envs/test4/lib/python3.10/site-packages (from torch>=1.7.0->-r requirements.txt (line 16)) (4.4.0)\n",
      "Requirement already satisfied: nvidia-cudnn-cu11==8.5.0.96 in /home/dlawodud0484/anaconda3/envs/test4/lib/python3.10/site-packages (from torch>=1.7.0->-r requirements.txt (line 16)) (8.5.0.96)\n",
      "Requirement already satisfied: nvidia-cublas-cu11==11.10.3.66 in /home/dlawodud0484/anaconda3/envs/test4/lib/python3.10/site-packages (from torch>=1.7.0->-r requirements.txt (line 16)) (11.10.3.66)\n",
      "Requirement already satisfied: wheel in /home/dlawodud0484/anaconda3/envs/test4/lib/python3.10/site-packages (from nvidia-cublas-cu11==11.10.3.66->torch>=1.7.0->-r requirements.txt (line 16)) (0.37.1)\n",
      "Requirement already satisfied: setuptools in /home/dlawodud0484/anaconda3/envs/test4/lib/python3.10/site-packages (from nvidia-cublas-cu11==11.10.3.66->torch>=1.7.0->-r requirements.txt (line 16)) (65.5.0)\n",
      "Requirement already satisfied: werkzeug>=1.0.1 in /home/dlawodud0484/anaconda3/envs/test4/lib/python3.10/site-packages (from tensorboard>=2.4.1->-r requirements.txt (line 22)) (2.2.2)\n",
      "Requirement already satisfied: grpcio>=1.24.3 in /home/dlawodud0484/anaconda3/envs/test4/lib/python3.10/site-packages (from tensorboard>=2.4.1->-r requirements.txt (line 22)) (1.51.1)\n",
      "Requirement already satisfied: markdown>=2.6.8 in /home/dlawodud0484/anaconda3/envs/test4/lib/python3.10/site-packages (from tensorboard>=2.4.1->-r requirements.txt (line 22)) (3.4.1)\n",
      "Requirement already satisfied: absl-py>=0.4 in /home/dlawodud0484/anaconda3/envs/test4/lib/python3.10/site-packages (from tensorboard>=2.4.1->-r requirements.txt (line 22)) (1.3.0)\n",
      "Requirement already satisfied: google-auth-oauthlib<0.5,>=0.4.1 in /home/dlawodud0484/anaconda3/envs/test4/lib/python3.10/site-packages (from tensorboard>=2.4.1->-r requirements.txt (line 22)) (0.4.6)\n",
      "Requirement already satisfied: google-auth<3,>=1.6.3 in /home/dlawodud0484/anaconda3/envs/test4/lib/python3.10/site-packages (from tensorboard>=2.4.1->-r requirements.txt (line 22)) (2.15.0)\n",
      "Requirement already satisfied: protobuf<4,>=3.9.2 in /home/dlawodud0484/anaconda3/envs/test4/lib/python3.10/site-packages (from tensorboard>=2.4.1->-r requirements.txt (line 22)) (3.19.6)\n",
      "Requirement already satisfied: tensorboard-data-server<0.7.0,>=0.6.0 in /home/dlawodud0484/anaconda3/envs/test4/lib/python3.10/site-packages (from tensorboard>=2.4.1->-r requirements.txt (line 22)) (0.6.1)\n",
      "Requirement already satisfied: tensorboard-plugin-wit>=1.6.0 in /home/dlawodud0484/anaconda3/envs/test4/lib/python3.10/site-packages (from tensorboard>=2.4.1->-r requirements.txt (line 22)) (1.8.1)\n",
      "Requirement already satisfied: pytz>=2020.1 in /home/dlawodud0484/anaconda3/envs/test4/lib/python3.10/site-packages (from pandas>=1.1.4->-r requirements.txt (line 27)) (2022.7)\n"
     ]
    },
    {
     "name": "stdout",
     "output_type": "stream",
     "text": [
      "Requirement already satisfied: smmap<6,>=3.0.1 in /home/dlawodud0484/anaconda3/envs/test4/lib/python3.10/site-packages (from gitdb<5,>=4.0.1->gitpython->-r requirements.txt (line 5)) (5.0.0)\n",
      "Requirement already satisfied: rsa<5,>=3.1.4 in /home/dlawodud0484/anaconda3/envs/test4/lib/python3.10/site-packages (from google-auth<3,>=1.6.3->tensorboard>=2.4.1->-r requirements.txt (line 22)) (4.9)\n",
      "Requirement already satisfied: six>=1.9.0 in /home/dlawodud0484/anaconda3/envs/test4/lib/python3.10/site-packages (from google-auth<3,>=1.6.3->tensorboard>=2.4.1->-r requirements.txt (line 22)) (1.16.0)\n",
      "Requirement already satisfied: pyasn1-modules>=0.2.1 in /home/dlawodud0484/anaconda3/envs/test4/lib/python3.10/site-packages (from google-auth<3,>=1.6.3->tensorboard>=2.4.1->-r requirements.txt (line 22)) (0.2.8)\n",
      "Requirement already satisfied: cachetools<6.0,>=2.0.0 in /home/dlawodud0484/anaconda3/envs/test4/lib/python3.10/site-packages (from google-auth<3,>=1.6.3->tensorboard>=2.4.1->-r requirements.txt (line 22)) (5.2.0)\n",
      "Requirement already satisfied: requests-oauthlib>=0.7.0 in /home/dlawodud0484/anaconda3/envs/test4/lib/python3.10/site-packages (from google-auth-oauthlib<0.5,>=0.4.1->tensorboard>=2.4.1->-r requirements.txt (line 22)) (1.3.1)\n",
      "Requirement already satisfied: parso<0.9.0,>=0.8.0 in /home/dlawodud0484/anaconda3/envs/test4/lib/python3.10/site-packages (from jedi>=0.16->ipython->-r requirements.txt (line 6)) (0.8.3)\n",
      "Requirement already satisfied: ptyprocess>=0.5 in /home/dlawodud0484/anaconda3/envs/test4/lib/python3.10/site-packages (from pexpect>4.3->ipython->-r requirements.txt (line 6)) (0.7.0)\n",
      "Requirement already satisfied: wcwidth in /home/dlawodud0484/anaconda3/envs/test4/lib/python3.10/site-packages (from prompt-toolkit<3.1.0,>=3.0.11->ipython->-r requirements.txt (line 6)) (0.2.5)\n",
      "Requirement already satisfied: MarkupSafe>=2.1.1 in /home/dlawodud0484/anaconda3/envs/test4/lib/python3.10/site-packages (from werkzeug>=1.0.1->tensorboard>=2.4.1->-r requirements.txt (line 22)) (2.1.1)\n",
      "Requirement already satisfied: executing in /home/dlawodud0484/anaconda3/envs/test4/lib/python3.10/site-packages (from stack-data->ipython->-r requirements.txt (line 6)) (0.8.3)\n",
      "Requirement already satisfied: asttokens in /home/dlawodud0484/anaconda3/envs/test4/lib/python3.10/site-packages (from stack-data->ipython->-r requirements.txt (line 6)) (2.0.5)\n",
      "Requirement already satisfied: pure-eval in /home/dlawodud0484/anaconda3/envs/test4/lib/python3.10/site-packages (from stack-data->ipython->-r requirements.txt (line 6)) (0.2.2)\n",
      "Requirement already satisfied: pyasn1<0.5.0,>=0.4.6 in /home/dlawodud0484/anaconda3/envs/test4/lib/python3.10/site-packages (from pyasn1-modules>=0.2.1->google-auth<3,>=1.6.3->tensorboard>=2.4.1->-r requirements.txt (line 22)) (0.4.8)\n",
      "Requirement already satisfied: oauthlib>=3.0.0 in /home/dlawodud0484/anaconda3/envs/test4/lib/python3.10/site-packages (from requests-oauthlib>=0.7.0->google-auth-oauthlib<0.5,>=0.4.1->tensorboard>=2.4.1->-r requirements.txt (line 22)) (3.2.2)\n"
     ]
    }
   ],
   "source": [
    "# 패키지 txt파일로 일괄 다운\n",
    "# txt 파일 인코딩 주의\n",
    "# 설치 경로 주의\n",
    "! /home/dlawodud0484/anaconda3/envs/test4/bin/python -m pip install -r requirements.txt"
   ]
  },
  {
   "cell_type": "code",
   "execution_count": 96,
   "id": "f74acf85",
   "metadata": {},
   "outputs": [
    {
     "name": "stderr",
     "output_type": "stream",
     "text": [
      "2023-01-06 08:46:02.719757: I tensorflow/core/common_runtime/gpu/gpu_device.cc:1613] Created device /job:localhost/replica:0/task:0/device:GPU:0 with 2433 MB memory:  -> device: 0, name: NVIDIA A100 80GB PCIe, pci bus id: 0000:b3:00.0, compute capability: 8.0\n"
     ]
    }
   ],
   "source": [
    "# Gpu사용량 설정\n",
    "import tensorflow.compat.v1 as tf1\n",
    "import os\n",
    "\n",
    "os.environ['CUDA_VISIBLE_DEVICES'] = \"1\"\n",
    "config = tf1.ConfigProto()\n",
    "config.gpu_options.per_process_gpu_memory_fraction = 0.03\n",
    "session = tf1.Session(config=config)"
   ]
  },
  {
   "cell_type": "code",
   "execution_count": 9,
   "id": "7124cb23",
   "metadata": {},
   "outputs": [],
   "source": [
    "# yaml 내용 수정 중 경로를 불러오기 위해 사용될 glob import\n",
    "from glob import glob"
   ]
  },
  {
   "cell_type": "code",
   "execution_count": 12,
   "id": "73adda22",
   "metadata": {
    "scrolled": true
   },
   "outputs": [
    {
     "name": "stdout",
     "output_type": "stream",
     "text": [
      "10365\n"
     ]
    }
   ],
   "source": [
    "# 이미지 경로 가져오기\n",
    "img_list = glob(\"/home/dlawodud0484/drone_study_ready/train/images/*.jpg\")\n",
    "print(len(img_list))"
   ]
  },
  {
   "cell_type": "code",
   "execution_count": 13,
   "id": "1315ab8b",
   "metadata": {
    "scrolled": true
   },
   "outputs": [
    {
     "name": "stdout",
     "output_type": "stream",
     "text": [
      "8292 2073\n"
     ]
    }
   ],
   "source": [
    "#테스트, 검증 이미지 나누기\n",
    "\n",
    "from sklearn.model_selection import train_test_split\n",
    "train_list, val_list = train_test_split(img_list, test_size = 0.2, random_state=119)\n",
    "print(len(train_list), len(val_list))"
   ]
  },
  {
   "cell_type": "code",
   "execution_count": 14,
   "id": "492c793a",
   "metadata": {},
   "outputs": [],
   "source": [
    "#테스트, 검증 이미지 경로 txt로 저장\n",
    "\n",
    "with open(\"/home/dlawodud0484/drone_study_ready/train.txt\", \"w\") as f:\n",
    "    f.write(\"\\n\".join(train_list) + \"\\n\")\n",
    "\n",
    "with open(\"/home/dlawodud0484/drone_study_ready/val.txt\", \"w\") as f:\n",
    "    f.write(\"\\n\".join(val_list) + \"\\n\")"
   ]
  },
  {
   "cell_type": "code",
   "execution_count": 16,
   "id": "5abcbc4d",
   "metadata": {},
   "outputs": [],
   "source": [
    "# yaml 불러오기\n",
    "import yaml"
   ]
  },
  {
   "cell_type": "code",
   "execution_count": 17,
   "id": "3eedca76",
   "metadata": {},
   "outputs": [
    {
     "name": "stdout",
     "output_type": "stream",
     "text": [
      "{'train': '../train/images', 'val': '../valid/images', 'test': '../test/images', 'nc': 10, 'names': ['number 0', 'number 1', 'number 2', 'number 3', 'number 4', 'number 5', 'number 6', 'number 7', 'number 8', 'number 9'], 'roboflow': {'workspace': 'handproject', 'project': 'hands-signal-numbers-0-to-9-size-220', 'version': 3, 'license': 'CC BY 4.0', 'url': 'https://universe.roboflow.com/handproject/hands-signal-numbers-0-to-9-size-220/dataset/3'}}\n"
     ]
    }
   ],
   "source": [
    "# data.yaml 불러오기\n",
    "with open(\"/home/dlawodud0484/drone_study_ready/data.yaml\",\"r\") as f:\n",
    "    data = yaml.full_load(f)\n",
    "\n",
    "print(data)"
   ]
  },
  {
   "cell_type": "code",
   "execution_count": 18,
   "id": "b445c4fc",
   "metadata": {},
   "outputs": [
    {
     "name": "stdout",
     "output_type": "stream",
     "text": [
      "{'train': '/home/dlawodud0484/drone_study_ready/train.txt', 'val': '/home/dlawodud0484/drone_study_ready/val.txt', 'test': '../test/images', 'nc': 10, 'names': ['number 0', 'number 1', 'number 2', 'number 3', 'number 4', 'number 5', 'number 6', 'number 7', 'number 8', 'number 9'], 'roboflow': {'workspace': 'handproject', 'project': 'hands-signal-numbers-0-to-9-size-220', 'version': 3, 'license': 'CC BY 4.0', 'url': 'https://universe.roboflow.com/handproject/hands-signal-numbers-0-to-9-size-220/dataset/3'}}\n"
     ]
    }
   ],
   "source": [
    "# data.yaml에 테스트 검증 이미지 주소 넣어주기\n",
    "data[\"train\"] = \"/home/dlawodud0484/drone_study_ready/train.txt\"\n",
    "data[\"val\"] = \"/home/dlawodud0484/drone_study_ready/val.txt\"\n",
    "\n",
    "with open(\"/home/dlawodud0484/drone_study_ready/data.yaml\", \"w\") as f:\n",
    "    yaml.dump(data,f)\n",
    "print(data)"
   ]
  },
  {
   "cell_type": "code",
   "execution_count": 19,
   "id": "142e3793",
   "metadata": {
    "scrolled": true
   },
   "outputs": [
    {
     "name": "stdout",
     "output_type": "stream",
     "text": [
      "\u001b[34m\u001b[1mtrain: \u001b[0mweights=yolov5s.pt, cfg=./models/yolov5s.yaml, data=/home/dlawodud0484/drone_study_ready/data.yaml, hyp=data/hyps/hyp.scratch-low.yaml, epochs=50, batch_size=4, imgsz=416, rect=False, resume=False, nosave=False, noval=False, noautoanchor=False, noplots=False, evolve=None, bucket=, cache=None, image_weights=False, device=, multi_scale=False, single_cls=False, optimizer=SGD, sync_bn=False, workers=8, project=runs/train, name=drone_study_ready_result, exist_ok=False, quad=False, cos_lr=False, label_smoothing=0.0, patience=100, freeze=[0], save_period=-1, seed=0, local_rank=-1, entity=None, upload_dataset=False, bbox_interval=-1, artifact_alias=latest\n",
      "\u001b[34m\u001b[1mgithub: \u001b[0mskipping check (not a git repository), for updates see https://github.com/ultralytics/yolov5\n",
      "YOLOv5 🚀 2023-1-25 Python-3.8.10 torch-1.9.0+cu111 CUDA:0 (NVIDIA A100 80GB PCIe, 81112MiB)\n",
      "\n",
      "\u001b[34m\u001b[1mhyperparameters: \u001b[0mlr0=0.01, lrf=0.01, momentum=0.937, weight_decay=0.0005, warmup_epochs=3.0, warmup_momentum=0.8, warmup_bias_lr=0.1, box=0.05, cls=0.5, cls_pw=1.0, obj=1.0, obj_pw=1.0, iou_t=0.2, anchor_t=4.0, fl_gamma=0.0, hsv_h=0.015, hsv_s=0.7, hsv_v=0.4, degrees=0.0, translate=0.1, scale=0.5, shear=0.0, perspective=0.0, flipud=0.0, fliplr=0.5, mosaic=1.0, mixup=0.0, copy_paste=0.0\n",
      "\u001b[34m\u001b[1mClearML: \u001b[0mrun 'pip install clearml' to automatically track, visualize and remotely train YOLOv5 🚀 in ClearML\n",
      "\u001b[34m\u001b[1mComet: \u001b[0mrun 'pip install comet_ml' to automatically track and visualize YOLOv5 🚀 runs in Comet\n",
      "\u001b[34m\u001b[1mTensorBoard: \u001b[0mStart with 'tensorboard --logdir runs/train', view at http://localhost:6006/\n",
      "2023-01-25 07:36:49.228806: I tensorflow/core/platform/cpu_feature_guard.cc:193] This TensorFlow binary is optimized with oneAPI Deep Neural Network Library (oneDNN) to use the following CPU instructions in performance-critical operations:  AVX2 AVX512F AVX512_VNNI FMA\n",
      "To enable them in other operations, rebuild TensorFlow with the appropriate compiler flags.\n",
      "2023-01-25 07:36:49.453015: I tensorflow/core/util/port.cc:104] oneDNN custom operations are on. You may see slightly different numerical results due to floating-point round-off errors from different computation orders. To turn them off, set the environment variable `TF_ENABLE_ONEDNN_OPTS=0`.\n",
      "2023-01-25 07:36:50.445781: W tensorflow/compiler/xla/stream_executor/platform/default/dso_loader.cc:64] Could not load dynamic library 'libnvinfer.so.7'; dlerror: libnvinfer.so.7: cannot open shared object file: No such file or directory; LD_LIBRARY_PATH: /home/dlawodud0484/.local/lib/python3.8/site-packages/cv2/../../lib64:\n",
      "2023-01-25 07:36:50.445867: W tensorflow/compiler/xla/stream_executor/platform/default/dso_loader.cc:64] Could not load dynamic library 'libnvinfer_plugin.so.7'; dlerror: libnvinfer_plugin.so.7: cannot open shared object file: No such file or directory; LD_LIBRARY_PATH: /home/dlawodud0484/.local/lib/python3.8/site-packages/cv2/../../lib64:\n",
      "2023-01-25 07:36:50.445877: W tensorflow/compiler/tf2tensorrt/utils/py_utils.cc:38] TF-TRT Warning: Cannot dlopen some TensorRT libraries. If you would like to use Nvidia GPU with TensorRT, please make sure the missing libraries mentioned above are installed properly.\n",
      "Downloading https://github.com/ultralytics/yolov5/releases/download/v7.0/yolov5s.pt to yolov5s.pt...\n",
      "100%|██████████████████████████████████████| 14.1M/14.1M [00:01<00:00, 11.4MB/s]\n",
      "\n",
      "Overriding model.yaml nc=80 with nc=10\n",
      "\n",
      "                 from  n    params  module                                  arguments                     \n",
      "  0                -1  1      3520  models.common.Conv                      [3, 32, 6, 2, 2]              \n",
      "  1                -1  1     18560  models.common.Conv                      [32, 64, 3, 2]                \n",
      "  2                -1  1     18816  models.common.C3                        [64, 64, 1]                   \n",
      "  3                -1  1     73984  models.common.Conv                      [64, 128, 3, 2]               \n",
      "  4                -1  2    115712  models.common.C3                        [128, 128, 2]                 \n",
      "  5                -1  1    295424  models.common.Conv                      [128, 256, 3, 2]              \n",
      "  6                -1  3    625152  models.common.C3                        [256, 256, 3]                 \n",
      "  7                -1  1   1180672  models.common.Conv                      [256, 512, 3, 2]              \n",
      "  8                -1  1   1182720  models.common.C3                        [512, 512, 1]                 \n",
      "  9                -1  1    656896  models.common.SPPF                      [512, 512, 5]                 \n",
      " 10                -1  1    131584  models.common.Conv                      [512, 256, 1, 1]              \n",
      " 11                -1  1         0  torch.nn.modules.upsampling.Upsample    [None, 2, 'nearest']          \n",
      " 12           [-1, 6]  1         0  models.common.Concat                    [1]                           \n",
      " 13                -1  1    361984  models.common.C3                        [512, 256, 1, False]          \n",
      " 14                -1  1     33024  models.common.Conv                      [256, 128, 1, 1]              \n",
      " 15                -1  1         0  torch.nn.modules.upsampling.Upsample    [None, 2, 'nearest']          \n",
      " 16           [-1, 4]  1         0  models.common.Concat                    [1]                           \n",
      " 17                -1  1     90880  models.common.C3                        [256, 128, 1, False]          \n",
      " 18                -1  1    147712  models.common.Conv                      [128, 128, 3, 2]              \n",
      " 19          [-1, 14]  1         0  models.common.Concat                    [1]                           \n",
      " 20                -1  1    296448  models.common.C3                        [256, 256, 1, False]          \n",
      " 21                -1  1    590336  models.common.Conv                      [256, 256, 3, 2]              \n",
      " 22          [-1, 10]  1         0  models.common.Concat                    [1]                           \n",
      " 23                -1  1   1182720  models.common.C3                        [512, 512, 1, False]          \n",
      " 24      [17, 20, 23]  1     40455  models.yolo.Detect                      [10, [[10, 13, 16, 30, 33, 23], [30, 61, 62, 45, 59, 119], [116, 90, 156, 198, 373, 326]], [128, 256, 512]]\n",
      "YOLOv5s summary: 214 layers, 7046599 parameters, 7046599 gradients, 16.0 GFLOPs\n",
      "\n",
      "Transferred 342/349 items from yolov5s.pt\n",
      "\u001b[34m\u001b[1mAMP: \u001b[0mchecks passed ✅\n",
      "\u001b[34m\u001b[1moptimizer:\u001b[0m SGD(lr=0.01) with parameter groups 57 weight(decay=0.0), 60 weight(decay=0.0005), 60 bias\n",
      "WARNING ⚠️ DP not recommended, use torch.distributed.run for best DDP Multi-GPU results.\n",
      "See Multi-GPU Tutorial at https://github.com/ultralytics/yolov5/issues/475 to get started.\n",
      "\u001b[34m\u001b[1mtrain: \u001b[0mScanning /home/dlawodud0484/drone_study_ready/train... 8292 images, 0 bac\u001b[0m\n",
      "\u001b[34m\u001b[1mtrain: \u001b[0mNew cache created: /home/dlawodud0484/drone_study_ready/train.cache\n",
      "\u001b[34m\u001b[1mval: \u001b[0mScanning /home/dlawodud0484/drone_study_ready/val... 2073 images, 0 backgro\u001b[0m\n",
      "\u001b[34m\u001b[1mval: \u001b[0mNew cache created: /home/dlawodud0484/drone_study_ready/val.cache\n",
      "[W pthreadpool-cpp.cc:90] Warning: Leaking Caffe2 thread-pool after fork. (function pthreadpool)\n",
      "[W pthreadpool-cpp.cc:90] Warning: Leaking Caffe2 thread-pool after fork. (function pthreadpool)\n",
      "[W pthreadpool-cpp.cc:90] Warning: Leaking Caffe2 thread-pool after fork. (function pthreadpool)\n",
      "[W pthreadpool-cpp.cc:90] Warning: Leaking Caffe2 thread-pool after fork. (function pthreadpool)\n",
      "[W pthreadpool-cpp.cc:90] Warning: Leaking Caffe2 thread-pool after fork. (function pthreadpool)\n",
      "[W pthreadpool-cpp.cc:90] Warning: Leaking Caffe2 thread-pool after fork. (function pthreadpool)\n",
      "[W pthreadpool-cpp.cc:90] Warning: Leaking Caffe2 thread-pool after fork. (function pthreadpool)\n",
      "[W pthreadpool-cpp.cc:90] Warning: Leaking Caffe2 thread-pool after fork. (function pthreadpool)\n",
      "\n",
      "\u001b[34m\u001b[1mAutoAnchor: \u001b[0m3.05 anchors/target, 1.000 Best Possible Recall (BPR). Current anchors are a good fit to dataset ✅\n",
      "Plotting labels to runs/train/drone_study_ready_result/labels.jpg... \n",
      "Image sizes 416 train, 416 val\n",
      "Using 4 dataloader workers\n",
      "Logging results to \u001b[1mruns/train/drone_study_ready_result\u001b[0m\n",
      "Starting training for 50 epochs...\n",
      "\n",
      "      Epoch    GPU_mem   box_loss   obj_loss   cls_loss  Instances       Size\n"
     ]
    },
    {
     "name": "stdout",
     "output_type": "stream",
     "text": [
      "       0/49     0.304G    0.04167    0.01889    0.04962         12        416: 1\n",
      "                 Class     Images  Instances          P          R      mAP50   \n",
      "                   all       2073       2073      0.106      0.885      0.219      0.145\n",
      "\n",
      "      Epoch    GPU_mem   box_loss   obj_loss   cls_loss  Instances       Size\n",
      "       1/49     0.398G    0.02695    0.01382    0.04558         14        416: 1\n",
      "                 Class     Images  Instances          P          R      mAP50   \n",
      "                   all       2073       2073      0.295      0.708      0.383      0.233\n",
      "\n",
      "      Epoch    GPU_mem   box_loss   obj_loss   cls_loss  Instances       Size\n",
      "       2/49     0.398G    0.02549    0.01289    0.04121         12        416: 1\n",
      "                 Class     Images  Instances          P          R      mAP50   \n",
      "                   all       2073       2073      0.355      0.816      0.564      0.405\n",
      "\n",
      "      Epoch    GPU_mem   box_loss   obj_loss   cls_loss  Instances       Size\n",
      "       3/49     0.398G    0.02308    0.01243    0.03768         15        416: 1\n",
      "                 Class     Images  Instances          P          R      mAP50   \n",
      "                   all       2073       2073      0.595      0.851      0.775      0.603\n",
      "\n",
      "      Epoch    GPU_mem   box_loss   obj_loss   cls_loss  Instances       Size\n",
      "       4/49     0.398G    0.02147    0.01202    0.03361         13        416: 1\n",
      "                 Class     Images  Instances          P          R      mAP50   \n",
      "                   all       2073       2073      0.872      0.929      0.922      0.715\n",
      "\n",
      "      Epoch    GPU_mem   box_loss   obj_loss   cls_loss  Instances       Size\n",
      "       5/49     0.398G    0.02035    0.01185    0.03001          9        416: 1\n",
      "                 Class     Images  Instances          P          R      mAP50   \n",
      "                   all       2073       2073      0.937      0.938      0.981      0.762\n",
      "\n",
      "      Epoch    GPU_mem   box_loss   obj_loss   cls_loss  Instances       Size\n",
      "       6/49     0.398G    0.01987    0.01155    0.02761         15        416: 1\n",
      "                 Class     Images  Instances          P          R      mAP50   \n",
      "                   all       2073       2073       0.97      0.976      0.991      0.781\n",
      "\n",
      "      Epoch    GPU_mem   box_loss   obj_loss   cls_loss  Instances       Size\n",
      "       7/49     0.398G    0.01898    0.01118    0.02551          9        416: 1\n",
      "                 Class     Images  Instances          P          R      mAP50   \n",
      "                   all       2073       2073      0.985      0.986      0.993      0.789\n",
      "\n",
      "      Epoch    GPU_mem   box_loss   obj_loss   cls_loss  Instances       Size\n",
      "       8/49     0.398G     0.0185    0.01114     0.0249         11        416: 1\n",
      "                 Class     Images  Instances          P          R      mAP50   \n",
      "                   all       2073       2073      0.984      0.988      0.994      0.784\n",
      "\n",
      "      Epoch    GPU_mem   box_loss   obj_loss   cls_loss  Instances       Size\n",
      "       9/49     0.398G    0.01863    0.01096    0.02502          8        416: 1\n",
      "                 Class     Images  Instances          P          R      mAP50   \n",
      "                   all       2073       2073      0.989      0.988      0.994       0.81\n",
      "\n",
      "      Epoch    GPU_mem   box_loss   obj_loss   cls_loss  Instances       Size\n",
      "      10/49     0.398G    0.01783    0.01078    0.02306         11        416: 1\n",
      "                 Class     Images  Instances          P          R      mAP50   \n",
      "                   all       2073       2073      0.985       0.99      0.993        0.8\n",
      "\n",
      "      Epoch    GPU_mem   box_loss   obj_loss   cls_loss  Instances       Size\n",
      "      11/49     0.398G    0.01763    0.01075    0.02312         11        416: 1\n",
      "                 Class     Images  Instances          P          R      mAP50   \n",
      "                   all       2073       2073      0.989      0.988      0.994      0.831\n",
      "\n",
      "      Epoch    GPU_mem   box_loss   obj_loss   cls_loss  Instances       Size\n",
      "      12/49     0.398G    0.01726    0.01053    0.02245         12        416: 1\n",
      "                 Class     Images  Instances          P          R      mAP50   \n",
      "                   all       2073       2073      0.991      0.995      0.994      0.824\n",
      "\n",
      "      Epoch    GPU_mem   box_loss   obj_loss   cls_loss  Instances       Size\n",
      "      13/49     0.398G    0.01713    0.01048    0.02219          6        416: 1\n",
      "                 Class     Images  Instances          P          R      mAP50   \n",
      "                   all       2073       2073      0.989      0.992      0.994       0.83\n",
      "\n",
      "      Epoch    GPU_mem   box_loss   obj_loss   cls_loss  Instances       Size\n",
      "      14/49     0.398G    0.01659     0.0104    0.02141         11        416: 1\n",
      "                 Class     Images  Instances          P          R      mAP50   \n",
      "                   all       2073       2073      0.992      0.995      0.994      0.801\n",
      "\n",
      "      Epoch    GPU_mem   box_loss   obj_loss   cls_loss  Instances       Size\n",
      "      15/49     0.398G    0.01662     0.0103    0.02123          8        416: 1\n",
      "                 Class     Images  Instances          P          R      mAP50   \n",
      "                   all       2073       2073      0.991      0.994      0.994      0.845\n",
      "\n",
      "      Epoch    GPU_mem   box_loss   obj_loss   cls_loss  Instances       Size\n",
      "      16/49     0.398G    0.01628    0.01031    0.02101         15        416: 1\n",
      "                 Class     Images  Instances          P          R      mAP50   \n",
      "                   all       2073       2073      0.994      0.996      0.995      0.849\n",
      "\n",
      "      Epoch    GPU_mem   box_loss   obj_loss   cls_loss  Instances       Size\n",
      "      17/49     0.398G    0.01597    0.01007    0.02067         14        416: 1\n",
      "                 Class     Images  Instances          P          R      mAP50   \n",
      "                   all       2073       2073      0.994      0.993      0.994      0.837\n",
      "\n",
      "      Epoch    GPU_mem   box_loss   obj_loss   cls_loss  Instances       Size\n",
      "      18/49     0.398G    0.01575    0.01008     0.0205         13        416: 1\n",
      "                 Class     Images  Instances          P          R      mAP50   \n",
      "                   all       2073       2073      0.995      0.996      0.994      0.842\n",
      "\n",
      "      Epoch    GPU_mem   box_loss   obj_loss   cls_loss  Instances       Size\n",
      "      19/49     0.398G    0.01562       0.01    0.01999         10        416: 1\n",
      "                 Class     Images  Instances          P          R      mAP50   \n",
      "                   all       2073       2073      0.994      0.993      0.994      0.847\n",
      "\n",
      "      Epoch    GPU_mem   box_loss   obj_loss   cls_loss  Instances       Size\n",
      "      20/49     0.398G    0.01541    0.00988    0.01938          9        416: 1\n",
      "                 Class     Images  Instances          P          R      mAP50   \n",
      "                   all       2073       2073      0.994      0.995      0.994      0.857\n",
      "\n",
      "      Epoch    GPU_mem   box_loss   obj_loss   cls_loss  Instances       Size\n",
      "      21/49     0.398G    0.01526   0.009843    0.01965         13        416: 1\n",
      "                 Class     Images  Instances          P          R      mAP50   \n",
      "                   all       2073       2073      0.993      0.995      0.995       0.86\n",
      "\n",
      "      Epoch    GPU_mem   box_loss   obj_loss   cls_loss  Instances       Size\n",
      "      22/49     0.398G    0.01531   0.009793     0.0195         11        416: 1\n",
      "                 Class     Images  Instances          P          R      mAP50   \n",
      "                   all       2073       2073      0.996      0.994      0.994      0.859\n",
      "\n",
      "      Epoch    GPU_mem   box_loss   obj_loss   cls_loss  Instances       Size\n",
      "      23/49     0.398G    0.01512   0.009655    0.01947         15        416: 1\n",
      "                 Class     Images  Instances          P          R      mAP50   \n",
      "                   all       2073       2073      0.995      0.996      0.995      0.854\n",
      "\n",
      "      Epoch    GPU_mem   box_loss   obj_loss   cls_loss  Instances       Size\n",
      "      24/49     0.398G    0.01488   0.009789    0.01911          8        416: 1\n",
      "                 Class     Images  Instances          P          R      mAP50   \n",
      "                   all       2073       2073      0.994      0.996      0.995      0.855\n",
      "\n",
      "      Epoch    GPU_mem   box_loss   obj_loss   cls_loss  Instances       Size\n"
     ]
    },
    {
     "name": "stdout",
     "output_type": "stream",
     "text": [
      "      25/49     0.398G    0.01472   0.009666    0.01863          6        416: 1\n",
      "                 Class     Images  Instances          P          R      mAP50   \n",
      "                   all       2073       2073      0.995      0.996      0.995      0.856\n",
      "\n",
      "      Epoch    GPU_mem   box_loss   obj_loss   cls_loss  Instances       Size\n",
      "      26/49     0.398G    0.01432   0.009477    0.01826         11        416: 1\n",
      "                 Class     Images  Instances          P          R      mAP50   \n",
      "                   all       2073       2073      0.996      0.995      0.994      0.855\n",
      "\n",
      "      Epoch    GPU_mem   box_loss   obj_loss   cls_loss  Instances       Size\n",
      "      27/49     0.398G    0.01417   0.009561      0.018         16        416: 1\n",
      "                 Class     Images  Instances          P          R      mAP50   \n",
      "                   all       2073       2073      0.995      0.997      0.994      0.861\n",
      "\n",
      "      Epoch    GPU_mem   box_loss   obj_loss   cls_loss  Instances       Size\n",
      "      28/49     0.398G    0.01418   0.009381    0.01796         11        416: 1\n",
      "                 Class     Images  Instances          P          R      mAP50   \n",
      "                   all       2073       2073      0.996      0.998      0.994      0.866\n",
      "\n",
      "      Epoch    GPU_mem   box_loss   obj_loss   cls_loss  Instances       Size\n",
      "      29/49     0.398G    0.01407   0.009407    0.01785         10        416: 1\n",
      "                 Class     Images  Instances          P          R      mAP50   \n",
      "                   all       2073       2073      0.996      0.999      0.995      0.877\n",
      "\n",
      "      Epoch    GPU_mem   box_loss   obj_loss   cls_loss  Instances       Size\n",
      "      30/49     0.398G    0.01395   0.009288    0.01753         14        416: 1\n",
      "                 Class     Images  Instances          P          R      mAP50   \n",
      "                   all       2073       2073      0.997      0.998      0.995      0.864\n",
      "\n",
      "      Epoch    GPU_mem   box_loss   obj_loss   cls_loss  Instances       Size\n",
      "      31/49     0.398G    0.01385   0.009276    0.01781         12        416: 1\n",
      "                 Class     Images  Instances          P          R      mAP50   \n",
      "                   all       2073       2073      0.996      0.998      0.995      0.883\n",
      "\n",
      "      Epoch    GPU_mem   box_loss   obj_loss   cls_loss  Instances       Size\n",
      "      32/49     0.398G     0.0135   0.009174     0.0174          9        416: 1\n",
      "                 Class     Images  Instances          P          R      mAP50   \n",
      "                   all       2073       2073      0.996      0.997      0.994      0.881\n",
      "\n",
      "      Epoch    GPU_mem   box_loss   obj_loss   cls_loss  Instances       Size\n",
      "      33/49     0.398G    0.01334   0.009169    0.01742          8        416: 1\n",
      "                 Class     Images  Instances          P          R      mAP50   \n",
      "                   all       2073       2073      0.997      0.998      0.995      0.875\n",
      "\n",
      "      Epoch    GPU_mem   box_loss   obj_loss   cls_loss  Instances       Size\n",
      "      34/49     0.398G    0.01344   0.009181    0.01721          5        416: 1\n",
      "                 Class     Images  Instances          P          R      mAP50   \n",
      "                   all       2073       2073      0.996      0.996      0.995      0.873\n",
      "\n",
      "      Epoch    GPU_mem   box_loss   obj_loss   cls_loss  Instances       Size\n",
      "      35/49     0.398G    0.01324   0.009153    0.01703          9        416: 1\n",
      "                 Class     Images  Instances          P          R      mAP50   \n",
      "                   all       2073       2073      0.996      0.998      0.995      0.889\n",
      "\n",
      "      Epoch    GPU_mem   box_loss   obj_loss   cls_loss  Instances       Size\n",
      "      36/49     0.398G    0.01298   0.009026    0.01643          9        416: 1\n",
      "                 Class     Images  Instances          P          R      mAP50   \n",
      "                   all       2073       2073      0.995      0.997      0.995      0.889\n",
      "\n",
      "      Epoch    GPU_mem   box_loss   obj_loss   cls_loss  Instances       Size\n",
      "      37/49     0.398G    0.01296   0.008955    0.01644         10        416: 1\n",
      "                 Class     Images  Instances          P          R      mAP50   \n",
      "                   all       2073       2073      0.997      0.998      0.995       0.89\n",
      "\n",
      "      Epoch    GPU_mem   box_loss   obj_loss   cls_loss  Instances       Size\n",
      "      38/49     0.398G    0.01281   0.008872    0.01634         13        416: 1\n",
      "                 Class     Images  Instances          P          R      mAP50   \n",
      "                   all       2073       2073      0.997      0.998      0.995      0.896\n",
      "\n",
      "      Epoch    GPU_mem   box_loss   obj_loss   cls_loss  Instances       Size\n",
      "      39/49     0.398G    0.01272   0.008871    0.01612         11        416: 1\n",
      "                 Class     Images  Instances          P          R      mAP50   \n",
      "                   all       2073       2073      0.997      0.998      0.995      0.892\n",
      "\n",
      "      Epoch    GPU_mem   box_loss   obj_loss   cls_loss  Instances       Size\n",
      "      40/49     0.398G    0.01241   0.008807    0.01614         10        416: 1\n",
      "                 Class     Images  Instances          P          R      mAP50   \n",
      "                   all       2073       2073      0.996      0.998      0.995        0.9\n",
      "\n",
      "      Epoch    GPU_mem   box_loss   obj_loss   cls_loss  Instances       Size\n",
      "      41/49     0.398G    0.01218    0.00867     0.0156         12        416: 1\n",
      "                 Class     Images  Instances          P          R      mAP50   \n",
      "                   all       2073       2073      0.997      0.998      0.995      0.897\n",
      "\n",
      "      Epoch    GPU_mem   box_loss   obj_loss   cls_loss  Instances       Size\n",
      "      42/49     0.398G    0.01227   0.008711    0.01595         14        416: 1\n",
      "                 Class     Images  Instances          P          R      mAP50   \n",
      "                   all       2073       2073      0.997      0.998      0.995      0.902\n",
      "\n",
      "      Epoch    GPU_mem   box_loss   obj_loss   cls_loss  Instances       Size\n",
      "      43/49     0.398G     0.0119   0.008573    0.01528          7        416: 1\n",
      "                 Class     Images  Instances          P          R      mAP50   \n",
      "                   all       2073       2073      0.997      0.998      0.995      0.901\n",
      "\n",
      "      Epoch    GPU_mem   box_loss   obj_loss   cls_loss  Instances       Size\n",
      "      44/49     0.398G    0.01194   0.008592     0.0155         11        416: 1\n",
      "                 Class     Images  Instances          P          R      mAP50   \n",
      "                   all       2073       2073      0.996      0.997      0.995        0.9\n",
      "\n",
      "      Epoch    GPU_mem   box_loss   obj_loss   cls_loss  Instances       Size\n",
      "      45/49     0.398G    0.01188   0.008574    0.01507         10        416: 1\n",
      "                 Class     Images  Instances          P          R      mAP50   \n",
      "                   all       2073       2073      0.997      0.998      0.995      0.902\n",
      "\n",
      "      Epoch    GPU_mem   box_loss   obj_loss   cls_loss  Instances       Size\n",
      "      46/49     0.398G    0.01186   0.008574    0.01559          8        416: 1\n",
      "                 Class     Images  Instances          P          R      mAP50   \n",
      "                   all       2073       2073      0.997      0.998      0.995      0.903\n",
      "\n",
      "      Epoch    GPU_mem   box_loss   obj_loss   cls_loss  Instances       Size\n",
      "      47/49     0.398G     0.0115   0.008373      0.015         10        416: 1\n",
      "                 Class     Images  Instances          P          R      mAP50   \n",
      "                   all       2073       2073      0.997      0.998      0.995      0.904\n",
      "\n",
      "      Epoch    GPU_mem   box_loss   obj_loss   cls_loss  Instances       Size\n",
      "      48/49     0.398G    0.01149   0.008386     0.0145          9        416: 1\n",
      "                 Class     Images  Instances          P          R      mAP50   \n",
      "                   all       2073       2073      0.997      0.998      0.995      0.907\n",
      "\n",
      "      Epoch    GPU_mem   box_loss   obj_loss   cls_loss  Instances       Size\n",
      "      49/49     0.398G    0.01116   0.008282    0.01426         12        416: 1\n",
      "                 Class     Images  Instances          P          R      mAP50   \n",
      "                   all       2073       2073      0.997      0.998      0.995      0.908\n",
      "\n",
      "50 epochs completed in 3.562 hours.\n"
     ]
    },
    {
     "name": "stdout",
     "output_type": "stream",
     "text": [
      "Optimizer stripped from runs/train/drone_study_ready_result/weights/last.pt, 14.4MB\n",
      "Optimizer stripped from runs/train/drone_study_ready_result/weights/best.pt, 14.4MB\n",
      "\n",
      "Validating runs/train/drone_study_ready_result/weights/best.pt...\n",
      "Fusing layers... \n",
      "YOLOv5s summary: 157 layers, 7037095 parameters, 0 gradients, 15.8 GFLOPs\n",
      "                 Class     Images  Instances          P          R      mAP50   \n",
      "                   all       2073       2073      0.997      0.998      0.995      0.908\n",
      "              number 0       2073        194      0.994          1      0.995      0.861\n",
      "              number 1       2073        196          1      0.996      0.995      0.913\n",
      "              number 2       2073        209      0.999      0.995      0.995      0.917\n",
      "              number 3       2073        235      0.995      0.991      0.994      0.936\n",
      "              number 4       2073        214          1      0.996      0.995      0.931\n",
      "              number 5       2073        204      0.999          1      0.995      0.907\n",
      "              number 6       2073        218      0.995          1      0.994      0.904\n",
      "              number 7       2073        195      0.989          1      0.993      0.893\n",
      "              number 8       2073        206      0.999          1      0.995      0.902\n",
      "              number 9       2073        202      0.999          1      0.995      0.914\n",
      "Results saved to \u001b[1mruns/train/drone_study_ready_result\u001b[0m\n"
     ]
    }
   ],
   "source": [
    "# yolo 돌리기\n",
    "!python3 train.py --img 416 --batch 4 --epoch 50 --data /home/dlawodud0484/drone_study_ready/data.yaml --cfg ./models/yolov5s.yaml --weights yolov5s.pt  --name drone_study_ready_result"
   ]
  },
  {
   "cell_type": "code",
   "execution_count": 29,
   "id": "7b97642e",
   "metadata": {},
   "outputs": [
    {
     "data": {
      "text/plain": [
       "'/home/dlawodud0484/drone_study_ready/yolov5-master'"
      ]
     },
     "execution_count": 29,
     "metadata": {},
     "output_type": "execute_result"
    }
   ],
   "source": [
    "%pwd"
   ]
  },
  {
   "cell_type": "code",
   "execution_count": 31,
   "id": "316e1542",
   "metadata": {},
   "outputs": [
    {
     "name": "stdout",
     "output_type": "stream",
     "text": [
      "\u001b[34m\u001b[1mdetect: \u001b[0mweights=['/home/dlawodud0484/drone_study_ready/yolov5-master/runs/train/drone_study_ready_result/weights/best.pt'], source=/home/dlawodud0484/drone_study_ready/train/images/IMG_5632_JPG_jpg.rf.b19158897c6b825d0670eb4f295698f2.jpg, data=data/coco128.yaml, imgsz=[416, 416], conf_thres=0.6, iou_thres=0.45, max_det=1000, device=, view_img=False, save_txt=False, save_conf=False, save_crop=False, nosave=False, classes=None, agnostic_nms=False, augment=False, visualize=False, update=False, project=runs/detect, name=exp, exist_ok=False, line_thickness=3, hide_labels=False, hide_conf=False, half=False, dnn=False, vid_stride=1\n",
      "YOLOv5 🚀 2023-1-25 Python-3.8.10 torch-1.9.0+cu111 CUDA:0 (NVIDIA A100 80GB PCIe, 81112MiB)\n",
      "\n",
      "Fusing layers... \n",
      "YOLOv5s summary: 157 layers, 7037095 parameters, 0 gradients, 15.8 GFLOPs\n",
      "image 1/1 /home/dlawodud0484/drone_study_ready/train/images/IMG_5632_JPG_jpg.rf.b19158897c6b825d0670eb4f295698f2.jpg: 416x416 1 number 7, 6.3ms\n",
      "Speed: 0.2ms pre-process, 6.3ms inference, 1.0ms NMS per image at shape (1, 3, 416, 416)\n",
      "Results saved to \u001b[1mruns/detect/exp2\u001b[0m\n"
     ]
    }
   ],
   "source": [
    "# 결과 확인\n",
    "\n",
    "from IPython.display import Image\n",
    "import os\n",
    "\n",
    "val_img_path = val_list[20]\n",
    "\n",
    "!python3 detect.py --weights /home/dlawodud0484/drone_study_ready/yolov5-master/runs/train/drone_study_ready_result/weights/best.pt  --img 416  --conf 0.6  --source \"{val_img_path}\""
   ]
  }
 ],
 "metadata": {
  "kernelspec": {
   "display_name": "test4",
   "language": "python",
   "name": "test4"
  },
  "language_info": {
   "codemirror_mode": {
    "name": "ipython",
    "version": 3
   },
   "file_extension": ".py",
   "mimetype": "text/x-python",
   "name": "python",
   "nbconvert_exporter": "python",
   "pygments_lexer": "ipython3",
   "version": "3.10.8"
  }
 },
 "nbformat": 4,
 "nbformat_minor": 5
}
