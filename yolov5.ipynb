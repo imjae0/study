{
 "cells": [
  {
   "cell_type": "code",
   "execution_count": 1,
   "id": "4636293a",
   "metadata": {
    "scrolled": true
   },
   "outputs": [
    {
     "name": "stdout",
     "output_type": "stream",
     "text": [
      "/home/dlawodud0484/anaconda3/envs/yolov5_test/bin/python\n",
      "['/home/dlawodud0484', '/home/dlawodud0484/anaconda3/envs/yolov5_test/lib/python37.zip', '/home/dlawodud0484/anaconda3/envs/yolov5_test/lib/python3.7', '/home/dlawodud0484/anaconda3/envs/yolov5_test/lib/python3.7/lib-dynload', '', '/home/dlawodud0484/anaconda3/envs/yolov5_test/lib/python3.7/site-packages', '/home/dlawodud0484/anaconda3/envs/yolov5_test/lib/python3.7/site-packages/IPython/extensions', '/home/dlawodud0484/.ipython']\n"
     ]
    }
   ],
   "source": [
    "# 현재 가상환경 커널 디렉토리 파악\n",
    "import sys\n",
    "\n",
    "print(sys.executable)\n",
    "print(sys.path)"
   ]
  },
  {
   "cell_type": "code",
   "execution_count": 2,
   "id": "af6e84b3",
   "metadata": {},
   "outputs": [
    {
     "data": {
      "text/plain": [
       "'UTF-8'"
      ]
     },
     "execution_count": 2,
     "metadata": {},
     "output_type": "execute_result"
    }
   ],
   "source": [
    "# 현재 기본 인코딩 확인\n",
    "import sys\n",
    "sys.stdin.encoding"
   ]
  },
  {
   "cell_type": "code",
   "execution_count": 3,
   "id": "91eece6e",
   "metadata": {
    "scrolled": true
   },
   "outputs": [
    {
     "name": "stdout",
     "output_type": "stream",
     "text": [
      "# conda environments:\n",
      "#\n",
      "base                     /home/dlawodud0484/anaconda3\n",
      "YOLOv5_test              /home/dlawodud0484/anaconda3/envs/YOLOv5_test\n",
      "yolo7                    /home/dlawodud0484/anaconda3/envs/yolo7\n",
      "yolov5                   /home/dlawodud0484/anaconda3/envs/yolov5\n",
      "yolov5_test              /home/dlawodud0484/anaconda3/envs/yolov5_test\n",
      "yolov7                   /home/dlawodud0484/anaconda3/envs/yolov7\n",
      "yolov7_test              /home/dlawodud0484/anaconda3/envs/yolov7_test\n",
      "\n",
      "\n",
      "Note: you may need to restart the kernel to use updated packages.\n"
     ]
    }
   ],
   "source": [
    "# 현재 만들어진 가상 환경 확인\n",
    "conda info -e"
   ]
  },
  {
   "cell_type": "code",
   "execution_count": 4,
   "id": "54702785",
   "metadata": {
    "scrolled": false
   },
   "outputs": [
    {
     "name": "stdout",
     "output_type": "stream",
     "text": [
      "Available kernels:\r\n",
      "  python3        /home/dlawodud0484/.local/share/jupyter/kernels/python3\r\n",
      "  yolov5         /home/dlawodud0484/.local/share/jupyter/kernels/yolov5\r\n",
      "  yolov5_test    /home/dlawodud0484/.local/share/jupyter/kernels/yolov5_test\r\n",
      "  yolov7         /home/dlawodud0484/.local/share/jupyter/kernels/yolov7\r\n",
      "  yolov7_test    /home/dlawodud0484/.local/share/jupyter/kernels/yolov7_test\r\n"
     ]
    }
   ],
   "source": [
    "# 현재 활성화되어있는 주피터 커널 확인\n",
    "!jupyter kernelspec list"
   ]
  },
  {
   "cell_type": "code",
   "execution_count": 5,
   "id": "ef3457d0",
   "metadata": {
    "scrolled": true
   },
   "outputs": [
    {
     "data": {
      "text/plain": [
       "'/home/dlawodud0484'"
      ]
     },
     "execution_count": 5,
     "metadata": {},
     "output_type": "execute_result"
    }
   ],
   "source": [
    "# 현재 디렉토리 확인\n",
    "%pwd"
   ]
  },
  {
   "cell_type": "code",
   "execution_count": 7,
   "id": "d33be5f7",
   "metadata": {
    "scrolled": true
   },
   "outputs": [
    {
     "name": "stdout",
     "output_type": "stream",
     "text": [
      "/home/dlawodud0484/yolo_bee_detector/yolov5-master\n"
     ]
    }
   ],
   "source": [
    "# 디렉토리 이동\n",
    "%cd /home/dlawodud0484/yolo_bee_detector/yolov5-master"
   ]
  },
  {
   "cell_type": "code",
   "execution_count": 9,
   "id": "3ffc854d",
   "metadata": {
    "collapsed": true
   },
   "outputs": [
    {
     "name": "stdout",
     "output_type": "stream",
     "text": [
      "Requirement already satisfied: gitpython in /home/dlawodud0484/anaconda3/envs/yolov5_test/lib/python3.7/site-packages (from -r requirements.txt (line 5)) (3.1.31)\n",
      "Requirement already satisfied: ipython in /home/dlawodud0484/anaconda3/envs/yolov5_test/lib/python3.7/site-packages (from -r requirements.txt (line 6)) (7.34.0)\n",
      "Requirement already satisfied: matplotlib>=3.2.2 in /home/dlawodud0484/anaconda3/envs/yolov5_test/lib/python3.7/site-packages (from -r requirements.txt (line 7)) (3.5.3)\n",
      "Requirement already satisfied: numpy>=1.18.5 in /home/dlawodud0484/anaconda3/envs/yolov5_test/lib/python3.7/site-packages (from -r requirements.txt (line 8)) (1.21.6)\n",
      "Requirement already satisfied: opencv-python>=4.1.1 in /home/dlawodud0484/anaconda3/envs/yolov5_test/lib/python3.7/site-packages (from -r requirements.txt (line 9)) (4.7.0.72)\n",
      "Requirement already satisfied: Pillow>=7.1.2 in /home/dlawodud0484/anaconda3/envs/yolov5_test/lib/python3.7/site-packages (from -r requirements.txt (line 10)) (9.4.0)\n",
      "Requirement already satisfied: psutil in /home/dlawodud0484/anaconda3/envs/yolov5_test/lib/python3.7/site-packages (from -r requirements.txt (line 11)) (5.9.4)\n",
      "Requirement already satisfied: PyYAML>=5.3.1 in /home/dlawodud0484/anaconda3/envs/yolov5_test/lib/python3.7/site-packages (from -r requirements.txt (line 12)) (6.0)\n",
      "Requirement already satisfied: requests>=2.23.0 in /home/dlawodud0484/anaconda3/envs/yolov5_test/lib/python3.7/site-packages (from -r requirements.txt (line 13)) (2.28.2)\n",
      "Requirement already satisfied: scipy>=1.4.1 in /home/dlawodud0484/anaconda3/envs/yolov5_test/lib/python3.7/site-packages (from -r requirements.txt (line 14)) (1.7.3)\n",
      "Requirement already satisfied: thop>=0.1.1 in /home/dlawodud0484/anaconda3/envs/yolov5_test/lib/python3.7/site-packages (from -r requirements.txt (line 15)) (0.1.1.post2209072238)\n",
      "Requirement already satisfied: torch>=1.7.0 in /home/dlawodud0484/anaconda3/envs/yolov5_test/lib/python3.7/site-packages (from -r requirements.txt (line 16)) (1.13.1)\n",
      "Requirement already satisfied: torchvision>=0.8.1 in /home/dlawodud0484/anaconda3/envs/yolov5_test/lib/python3.7/site-packages (from -r requirements.txt (line 17)) (0.14.1)\n",
      "Requirement already satisfied: tqdm>=4.64.0 in /home/dlawodud0484/anaconda3/envs/yolov5_test/lib/python3.7/site-packages (from -r requirements.txt (line 18)) (4.65.0)\n",
      "Requirement already satisfied: tensorboard>=2.4.1 in /home/dlawodud0484/anaconda3/envs/yolov5_test/lib/python3.7/site-packages (from -r requirements.txt (line 22)) (2.11.2)\n",
      "Requirement already satisfied: pandas>=1.1.4 in /home/dlawodud0484/anaconda3/envs/yolov5_test/lib/python3.7/site-packages (from -r requirements.txt (line 27)) (1.1.5)\n",
      "Requirement already satisfied: seaborn>=0.11.0 in /home/dlawodud0484/anaconda3/envs/yolov5_test/lib/python3.7/site-packages (from -r requirements.txt (line 28)) (0.12.2)\n",
      "Requirement already satisfied: typing-extensions>=3.7.4.3 in /home/dlawodud0484/anaconda3/envs/yolov5_test/lib/python3.7/site-packages (from gitpython->-r requirements.txt (line 5)) (4.5.0)\n",
      "Requirement already satisfied: gitdb<5,>=4.0.1 in /home/dlawodud0484/anaconda3/envs/yolov5_test/lib/python3.7/site-packages (from gitpython->-r requirements.txt (line 5)) (4.0.10)\n",
      "Requirement already satisfied: pygments in /home/dlawodud0484/anaconda3/envs/yolov5_test/lib/python3.7/site-packages (from ipython->-r requirements.txt (line 6)) (2.14.0)\n",
      "Requirement already satisfied: matplotlib-inline in /home/dlawodud0484/anaconda3/envs/yolov5_test/lib/python3.7/site-packages (from ipython->-r requirements.txt (line 6)) (0.1.6)\n",
      "Requirement already satisfied: jedi>=0.16 in /home/dlawodud0484/anaconda3/envs/yolov5_test/lib/python3.7/site-packages (from ipython->-r requirements.txt (line 6)) (0.18.2)\n",
      "Requirement already satisfied: pickleshare in /home/dlawodud0484/anaconda3/envs/yolov5_test/lib/python3.7/site-packages (from ipython->-r requirements.txt (line 6)) (0.7.5)\n",
      "Requirement already satisfied: pexpect>4.3 in /home/dlawodud0484/anaconda3/envs/yolov5_test/lib/python3.7/site-packages (from ipython->-r requirements.txt (line 6)) (4.8.0)\n",
      "Requirement already satisfied: decorator in /home/dlawodud0484/anaconda3/envs/yolov5_test/lib/python3.7/site-packages (from ipython->-r requirements.txt (line 6)) (5.1.1)\n",
      "Requirement already satisfied: traitlets>=4.2 in /home/dlawodud0484/anaconda3/envs/yolov5_test/lib/python3.7/site-packages (from ipython->-r requirements.txt (line 6)) (5.9.0)\n",
      "Requirement already satisfied: setuptools>=18.5 in /home/dlawodud0484/anaconda3/envs/yolov5_test/lib/python3.7/site-packages (from ipython->-r requirements.txt (line 6)) (65.6.3)\n",
      "Requirement already satisfied: prompt-toolkit!=3.0.0,!=3.0.1,<3.1.0,>=2.0.0 in /home/dlawodud0484/anaconda3/envs/yolov5_test/lib/python3.7/site-packages (from ipython->-r requirements.txt (line 6)) (3.0.38)\n",
      "Requirement already satisfied: backcall in /home/dlawodud0484/anaconda3/envs/yolov5_test/lib/python3.7/site-packages (from ipython->-r requirements.txt (line 6)) (0.2.0)\n",
      "Requirement already satisfied: python-dateutil>=2.7 in /home/dlawodud0484/anaconda3/envs/yolov5_test/lib/python3.7/site-packages (from matplotlib>=3.2.2->-r requirements.txt (line 7)) (2.8.2)\n",
      "Requirement already satisfied: fonttools>=4.22.0 in /home/dlawodud0484/anaconda3/envs/yolov5_test/lib/python3.7/site-packages (from matplotlib>=3.2.2->-r requirements.txt (line 7)) (4.38.0)\n",
      "Requirement already satisfied: cycler>=0.10 in /home/dlawodud0484/anaconda3/envs/yolov5_test/lib/python3.7/site-packages (from matplotlib>=3.2.2->-r requirements.txt (line 7)) (0.11.0)\n",
      "Requirement already satisfied: kiwisolver>=1.0.1 in /home/dlawodud0484/anaconda3/envs/yolov5_test/lib/python3.7/site-packages (from matplotlib>=3.2.2->-r requirements.txt (line 7)) (1.4.4)\n",
      "Requirement already satisfied: pyparsing>=2.2.1 in /home/dlawodud0484/anaconda3/envs/yolov5_test/lib/python3.7/site-packages (from matplotlib>=3.2.2->-r requirements.txt (line 7)) (3.0.9)\n",
      "Requirement already satisfied: packaging>=20.0 in /home/dlawodud0484/anaconda3/envs/yolov5_test/lib/python3.7/site-packages (from matplotlib>=3.2.2->-r requirements.txt (line 7)) (23.0)\n",
      "Requirement already satisfied: urllib3<1.27,>=1.21.1 in /home/dlawodud0484/anaconda3/envs/yolov5_test/lib/python3.7/site-packages (from requests>=2.23.0->-r requirements.txt (line 13)) (1.26.15)\n",
      "Requirement already satisfied: certifi>=2017.4.17 in /home/dlawodud0484/anaconda3/envs/yolov5_test/lib/python3.7/site-packages (from requests>=2.23.0->-r requirements.txt (line 13)) (2022.12.7)\n",
      "Requirement already satisfied: charset-normalizer<4,>=2 in /home/dlawodud0484/anaconda3/envs/yolov5_test/lib/python3.7/site-packages (from requests>=2.23.0->-r requirements.txt (line 13)) (3.1.0)\n",
      "Requirement already satisfied: idna<4,>=2.5 in /home/dlawodud0484/anaconda3/envs/yolov5_test/lib/python3.7/site-packages (from requests>=2.23.0->-r requirements.txt (line 13)) (3.4)\n",
      "Requirement already satisfied: nvidia-cuda-nvrtc-cu11==11.7.99 in /home/dlawodud0484/anaconda3/envs/yolov5_test/lib/python3.7/site-packages (from torch>=1.7.0->-r requirements.txt (line 16)) (11.7.99)\n",
      "Requirement already satisfied: nvidia-cuda-runtime-cu11==11.7.99 in /home/dlawodud0484/anaconda3/envs/yolov5_test/lib/python3.7/site-packages (from torch>=1.7.0->-r requirements.txt (line 16)) (11.7.99)\n",
      "Requirement already satisfied: nvidia-cudnn-cu11==8.5.0.96 in /home/dlawodud0484/anaconda3/envs/yolov5_test/lib/python3.7/site-packages (from torch>=1.7.0->-r requirements.txt (line 16)) (8.5.0.96)\n",
      "Requirement already satisfied: nvidia-cublas-cu11==11.10.3.66 in /home/dlawodud0484/anaconda3/envs/yolov5_test/lib/python3.7/site-packages (from torch>=1.7.0->-r requirements.txt (line 16)) (11.10.3.66)\n",
      "Requirement already satisfied: wheel in /home/dlawodud0484/anaconda3/envs/yolov5_test/lib/python3.7/site-packages (from nvidia-cublas-cu11==11.10.3.66->torch>=1.7.0->-r requirements.txt (line 16)) (0.38.4)\n",
      "Requirement already satisfied: tensorboard-data-server<0.7.0,>=0.6.0 in /home/dlawodud0484/anaconda3/envs/yolov5_test/lib/python3.7/site-packages (from tensorboard>=2.4.1->-r requirements.txt (line 22)) (0.6.1)\n",
      "Requirement already satisfied: grpcio>=1.24.3 in /home/dlawodud0484/anaconda3/envs/yolov5_test/lib/python3.7/site-packages (from tensorboard>=2.4.1->-r requirements.txt (line 22)) (1.51.3)\n",
      "Requirement already satisfied: protobuf<4,>=3.9.2 in /home/dlawodud0484/anaconda3/envs/yolov5_test/lib/python3.7/site-packages (from tensorboard>=2.4.1->-r requirements.txt (line 22)) (3.20.3)\n",
      "Requirement already satisfied: markdown>=2.6.8 in /home/dlawodud0484/anaconda3/envs/yolov5_test/lib/python3.7/site-packages (from tensorboard>=2.4.1->-r requirements.txt (line 22)) (3.4.3)\n",
      "Requirement already satisfied: werkzeug>=1.0.1 in /home/dlawodud0484/anaconda3/envs/yolov5_test/lib/python3.7/site-packages (from tensorboard>=2.4.1->-r requirements.txt (line 22)) (2.2.3)\n",
      "Requirement already satisfied: google-auth<3,>=1.6.3 in /home/dlawodud0484/anaconda3/envs/yolov5_test/lib/python3.7/site-packages (from tensorboard>=2.4.1->-r requirements.txt (line 22)) (2.16.2)\n",
      "Requirement already satisfied: tensorboard-plugin-wit>=1.6.0 in /home/dlawodud0484/anaconda3/envs/yolov5_test/lib/python3.7/site-packages (from tensorboard>=2.4.1->-r requirements.txt (line 22)) (1.8.1)\n",
      "Requirement already satisfied: google-auth-oauthlib<0.5,>=0.4.1 in /home/dlawodud0484/anaconda3/envs/yolov5_test/lib/python3.7/site-packages (from tensorboard>=2.4.1->-r requirements.txt (line 22)) (0.4.6)\n",
      "Requirement already satisfied: absl-py>=0.4 in /home/dlawodud0484/anaconda3/envs/yolov5_test/lib/python3.7/site-packages (from tensorboard>=2.4.1->-r requirements.txt (line 22)) (1.4.0)\n",
      "Requirement already satisfied: pytz>=2017.2 in /home/dlawodud0484/anaconda3/envs/yolov5_test/lib/python3.7/site-packages (from pandas>=1.1.4->-r requirements.txt (line 27)) (2022.7.1)\n",
      "Requirement already satisfied: smmap<6,>=3.0.1 in /home/dlawodud0484/anaconda3/envs/yolov5_test/lib/python3.7/site-packages (from gitdb<5,>=4.0.1->gitpython->-r requirements.txt (line 5)) (5.0.0)\n",
      "Requirement already satisfied: pyasn1-modules>=0.2.1 in /home/dlawodud0484/anaconda3/envs/yolov5_test/lib/python3.7/site-packages (from google-auth<3,>=1.6.3->tensorboard>=2.4.1->-r requirements.txt (line 22)) (0.2.8)\n",
      "Requirement already satisfied: cachetools<6.0,>=2.0.0 in /home/dlawodud0484/anaconda3/envs/yolov5_test/lib/python3.7/site-packages (from google-auth<3,>=1.6.3->tensorboard>=2.4.1->-r requirements.txt (line 22)) (5.3.0)\n",
      "Requirement already satisfied: rsa<5,>=3.1.4 in /home/dlawodud0484/anaconda3/envs/yolov5_test/lib/python3.7/site-packages (from google-auth<3,>=1.6.3->tensorboard>=2.4.1->-r requirements.txt (line 22)) (4.9)\n",
      "Requirement already satisfied: six>=1.9.0 in /home/dlawodud0484/anaconda3/envs/yolov5_test/lib/python3.7/site-packages (from google-auth<3,>=1.6.3->tensorboard>=2.4.1->-r requirements.txt (line 22)) (1.16.0)\n",
      "Requirement already satisfied: requests-oauthlib>=0.7.0 in /home/dlawodud0484/anaconda3/envs/yolov5_test/lib/python3.7/site-packages (from google-auth-oauthlib<0.5,>=0.4.1->tensorboard>=2.4.1->-r requirements.txt (line 22)) (1.3.1)\n",
      "Requirement already satisfied: parso<0.9.0,>=0.8.0 in /home/dlawodud0484/anaconda3/envs/yolov5_test/lib/python3.7/site-packages (from jedi>=0.16->ipython->-r requirements.txt (line 6)) (0.8.3)\n",
      "Requirement already satisfied: importlib-metadata>=4.4 in /home/dlawodud0484/anaconda3/envs/yolov5_test/lib/python3.7/site-packages (from markdown>=2.6.8->tensorboard>=2.4.1->-r requirements.txt (line 22)) (6.1.0)\n",
      "Requirement already satisfied: ptyprocess>=0.5 in /home/dlawodud0484/anaconda3/envs/yolov5_test/lib/python3.7/site-packages (from pexpect>4.3->ipython->-r requirements.txt (line 6)) (0.7.0)\n",
      "Requirement already satisfied: wcwidth in /home/dlawodud0484/anaconda3/envs/yolov5_test/lib/python3.7/site-packages (from prompt-toolkit!=3.0.0,!=3.0.1,<3.1.0,>=2.0.0->ipython->-r requirements.txt (line 6)) (0.2.6)\n",
      "Requirement already satisfied: MarkupSafe>=2.1.1 in /home/dlawodud0484/anaconda3/envs/yolov5_test/lib/python3.7/site-packages (from werkzeug>=1.0.1->tensorboard>=2.4.1->-r requirements.txt (line 22)) (2.1.2)\n",
      "Requirement already satisfied: zipp>=0.5 in /home/dlawodud0484/anaconda3/envs/yolov5_test/lib/python3.7/site-packages (from importlib-metadata>=4.4->markdown>=2.6.8->tensorboard>=2.4.1->-r requirements.txt (line 22)) (3.15.0)\n",
      "Requirement already satisfied: pyasn1<0.5.0,>=0.4.6 in /home/dlawodud0484/anaconda3/envs/yolov5_test/lib/python3.7/site-packages (from pyasn1-modules>=0.2.1->google-auth<3,>=1.6.3->tensorboard>=2.4.1->-r requirements.txt (line 22)) (0.4.8)\n",
      "Requirement already satisfied: oauthlib>=3.0.0 in /home/dlawodud0484/anaconda3/envs/yolov5_test/lib/python3.7/site-packages (from requests-oauthlib>=0.7.0->google-auth-oauthlib<0.5,>=0.4.1->tensorboard>=2.4.1->-r requirements.txt (line 22)) (3.2.2)\n"
     ]
    }
   ],
   "source": [
    "# 패키지 txt파일로 일괄 다운\n",
    "# txt 파일 인코딩 주의\n",
    "# 기본경로가 아닌 가상환경에 설치\n",
    "! /home/dlawodud0484/anaconda3/envs/yolov5_test/bin/python -m pip install -r requirements.txt"
   ]
  },
  {
   "cell_type": "code",
   "execution_count": 8,
   "id": "7124cb23",
   "metadata": {},
   "outputs": [],
   "source": [
    "# yaml 내용 수정 중 경로를 불러오기 위해 사용될 glob import\n",
    "from glob import glob"
   ]
  },
  {
   "cell_type": "code",
   "execution_count": 11,
   "id": "8407c18d",
   "metadata": {},
   "outputs": [
    {
     "name": "stdout",
     "output_type": "stream",
     "text": [
      "12614\n"
     ]
    }
   ],
   "source": [
    "# 이미지 경로 가져오기\n",
    "train_list = glob(\"/home/dlawodud0484/yolo_bee_detector/mite/train/images/*.jpg\")\n",
    "print(len(train_list))"
   ]
  },
  {
   "cell_type": "code",
   "execution_count": 12,
   "id": "f411775e",
   "metadata": {},
   "outputs": [
    {
     "name": "stdout",
     "output_type": "stream",
     "text": [
      "790\n"
     ]
    }
   ],
   "source": [
    "# 이미지 경로 가져오기\n",
    "val_list = glob(\"/home/dlawodud0484/yolo_bee_detector/mite/valid/images/*.jpg\")\n",
    "print(len(val_list))"
   ]
  },
  {
   "cell_type": "code",
   "execution_count": 13,
   "id": "492c793a",
   "metadata": {},
   "outputs": [],
   "source": [
    "#테스트, 검증 이미지 경로 txt로 저장\n",
    "\n",
    "with open(\"/home/dlawodud0484/yolo_bee_detector/mite/train.txt\", \"w\") as f:\n",
    "    f.write(\"\\n\".join(train_list) + \"\\n\")\n",
    "\n",
    "with open(\"/home/dlawodud0484/yolo_bee_detector/mite/val.txt\", \"w\") as f:\n",
    "    f.write(\"\\n\".join(val_list) + \"\\n\")"
   ]
  },
  {
   "cell_type": "code",
   "execution_count": 14,
   "id": "5abcbc4d",
   "metadata": {},
   "outputs": [],
   "source": [
    "# yaml 불러오기\n",
    "import yaml"
   ]
  },
  {
   "cell_type": "code",
   "execution_count": 15,
   "id": "3eedca76",
   "metadata": {},
   "outputs": [
    {
     "name": "stdout",
     "output_type": "stream",
     "text": [
      "{'names': ['varroa_mite'], 'nc': 1, 'roboflow': {'license': 'CC BY 4.0', 'project': 'honeybee_varroamite', 'url': 'https://universe.roboflow.com/honeybee/honeybee_varroamite/dataset/5', 'version': 5, 'workspace': 'honeybee'}, 'test': '../test/images', 'train': '/home/dlawodud0484/yolo_bee_detector/mite/train.txt', 'val': '/home/dlawodud0484/yolo_bee_detector/mite/val.txt'}\n"
     ]
    }
   ],
   "source": [
    "# data.yaml 불러오기\n",
    "with open(\"/home/dlawodud0484/yolo_bee_detector/mite/data.yaml\",\"r\") as f:\n",
    "    data = yaml.full_load(f)\n",
    "\n",
    "print(data)"
   ]
  },
  {
   "cell_type": "code",
   "execution_count": 17,
   "id": "b445c4fc",
   "metadata": {
    "scrolled": false
   },
   "outputs": [
    {
     "name": "stdout",
     "output_type": "stream",
     "text": [
      "{'names': ['varroa_mite'], 'nc': 1, 'roboflow': {'license': 'CC BY 4.0', 'project': 'honeybee_varroamite', 'url': 'https://universe.roboflow.com/honeybee/honeybee_varroamite/dataset/5', 'version': 5, 'workspace': 'honeybee'}, 'test': '../test/images', 'train': '/home/dlawodud0484/yolo_bee_detector/mite/train.txt', 'val': '/home/dlawodud0484/yolo_bee_detector/mite/val.txt'}\n"
     ]
    }
   ],
   "source": [
    "# data.yaml에 테스트 검증 이미지 주소 넣어주기\n",
    "data[\"train\"] = \"/home/dlawodud0484/yolo_bee_detector/mite/train.txt\"\n",
    "data[\"val\"] = \"/home/dlawodud0484/yolo_bee_detector/mite/val.txt\"\n",
    "\n",
    "with open(\"/home/dlawodud0484/yolo_bee_detector/mite/data.yaml\", \"w\") as f:\n",
    "    yaml.dump(data,f)\n",
    "print(data)"
   ]
  },
  {
   "cell_type": "code",
   "execution_count": 22,
   "id": "23bdf48d",
   "metadata": {
    "scrolled": true
   },
   "outputs": [
    {
     "name": "stdout",
     "output_type": "stream",
     "text": [
      "/home/dlawodud0484/yolo_bee_detector/yolov5-master\n"
     ]
    }
   ],
   "source": [
    "# 디렉토리 이동\n",
    "%cd /home/dlawodud0484/yolo_bee_detector/yolov5-master"
   ]
  },
  {
   "cell_type": "code",
   "execution_count": 15,
   "id": "d295498c",
   "metadata": {},
   "outputs": [
    {
     "name": "stdout",
     "output_type": "stream",
     "text": [
      "Defaulting to user installation because normal site-packages is not writeable\n",
      "Requirement already satisfied: wandb in /home/dlawodud0484/.local/lib/python3.8/site-packages (0.14.0)\n",
      "Requirement already satisfied: Click!=8.0.0,>=7.0 in /home/dlawodud0484/.local/lib/python3.8/site-packages (from wandb) (8.1.3)\n",
      "Requirement already satisfied: requests<3,>=2.0.0 in /usr/local/lib/python3.8/dist-packages (from wandb) (2.27.1)\n",
      "Requirement already satisfied: PyYAML in /home/dlawodud0484/.local/lib/python3.8/site-packages (from wandb) (6.0)\n",
      "Requirement already satisfied: pathtools in /home/dlawodud0484/.local/lib/python3.8/site-packages (from wandb) (0.1.2)\n",
      "Requirement already satisfied: appdirs>=1.4.3 in /home/dlawodud0484/.local/lib/python3.8/site-packages (from wandb) (1.4.4)\n",
      "Requirement already satisfied: protobuf!=4.21.0,<5,>=3.12.0 in /usr/local/lib/python3.8/dist-packages (from wandb) (3.19.6)\n",
      "Requirement already satisfied: docker-pycreds>=0.4.0 in /home/dlawodud0484/.local/lib/python3.8/site-packages (from wandb) (0.4.0)\n",
      "Requirement already satisfied: GitPython!=3.1.29,>=1.0.0 in /home/dlawodud0484/.local/lib/python3.8/site-packages (from wandb) (3.1.30)\n",
      "Requirement already satisfied: sentry-sdk>=1.0.0 in /home/dlawodud0484/.local/lib/python3.8/site-packages (from wandb) (1.16.0)\n",
      "Requirement already satisfied: setuptools in /home/dlawodud0484/.local/lib/python3.8/site-packages (from wandb) (59.5.0)\n",
      "Requirement already satisfied: typing-extensions in /usr/local/lib/python3.8/dist-packages (from wandb) (3.10.0.2)\n",
      "Requirement already satisfied: setproctitle in /home/dlawodud0484/.local/lib/python3.8/site-packages (from wandb) (1.3.2)\n",
      "Requirement already satisfied: psutil>=5.0.0 in /usr/local/lib/python3.8/dist-packages (from wandb) (5.9.2)\n",
      "Requirement already satisfied: six>=1.4.0 in /usr/local/lib/python3.8/dist-packages (from docker-pycreds>=0.4.0->wandb) (1.15.0)\n",
      "Requirement already satisfied: gitdb<5,>=4.0.1 in /home/dlawodud0484/.local/lib/python3.8/site-packages (from GitPython!=3.1.29,>=1.0.0->wandb) (4.0.10)\n",
      "Requirement already satisfied: certifi>=2017.4.17 in /home/dlawodud0484/.local/lib/python3.8/site-packages (from requests<3,>=2.0.0->wandb) (2021.5.30)\n",
      "Requirement already satisfied: charset-normalizer~=2.0.0 in /usr/local/lib/python3.8/dist-packages (from requests<3,>=2.0.0->wandb) (2.0.12)\n",
      "Requirement already satisfied: urllib3<1.27,>=1.21.1 in /home/dlawodud0484/.local/lib/python3.8/site-packages (from requests<3,>=2.0.0->wandb) (1.26.11)\n",
      "Requirement already satisfied: idna<4,>=2.5 in /home/dlawodud0484/.local/lib/python3.8/site-packages (from requests<3,>=2.0.0->wandb) (2.10)\n",
      "Requirement already satisfied: smmap<6,>=3.0.1 in /home/dlawodud0484/.local/lib/python3.8/site-packages (from gitdb<5,>=4.0.1->GitPython!=3.1.29,>=1.0.0->wandb) (5.0.0)\n"
     ]
    }
   ],
   "source": [
    "# 결과 확인 편의를 위해 wandb 설치\n",
    "!pip3 install wandb"
   ]
  },
  {
   "cell_type": "code",
   "execution_count": 23,
   "id": "142e3793",
   "metadata": {
    "scrolled": true
   },
   "outputs": [
    {
     "name": "stdout",
     "output_type": "stream",
     "text": [
      "\u001b[34m\u001b[1mwandb\u001b[0m: Currently logged in as: \u001b[33mdlawodud0484\u001b[0m. Use \u001b[1m`wandb login --relogin`\u001b[0m to force relogin\n",
      "\u001b[34m\u001b[1mtrain: \u001b[0mweights=yolov5m.pt, cfg=yolov5m.yaml, data=/home/dlawodud0484/yolo_bee_detector/mite/data.yaml, hyp=data/hyps/hyp.scratch-low.yaml, epochs=50, batch_size=4, imgsz=160, rect=False, resume=False, nosave=False, noval=False, noautoanchor=False, noplots=False, evolve=None, bucket=, cache=None, image_weights=False, device=, multi_scale=False, single_cls=False, optimizer=SGD, sync_bn=False, workers=8, project=mite_detector, name=mite_detector_yolov5l_160_50, exist_ok=False, quad=False, cos_lr=False, label_smoothing=0.0, patience=100, freeze=[0], save_period=-1, seed=0, local_rank=-1, entity=None, upload_dataset=False, bbox_interval=-1, artifact_alias=latest\n",
      "\u001b[34m\u001b[1mgithub: \u001b[0mskipping check (not a git repository), for updates see https://github.com/ultralytics/yolov5\n",
      "YOLOv5 🚀 2023-1-25 Python-3.8.10 torch-1.9.0+cu111 CUDA:0 (NVIDIA A100 80GB PCIe, 81112MiB)\n",
      "\n",
      "\u001b[34m\u001b[1mhyperparameters: \u001b[0mlr0=0.01, lrf=0.01, momentum=0.937, weight_decay=0.0005, warmup_epochs=3.0, warmup_momentum=0.8, warmup_bias_lr=0.1, box=0.05, cls=0.5, cls_pw=1.0, obj=1.0, obj_pw=1.0, iou_t=0.2, anchor_t=4.0, fl_gamma=0.0, hsv_h=0.015, hsv_s=0.7, hsv_v=0.4, degrees=0.0, translate=0.1, scale=0.5, shear=0.0, perspective=0.0, flipud=0.0, fliplr=0.5, mosaic=1.0, mixup=0.0, copy_paste=0.0\n",
      "\u001b[34m\u001b[1mClearML: \u001b[0mrun 'pip install clearml' to automatically track, visualize and remotely train YOLOv5 🚀 in ClearML\n",
      "\u001b[34m\u001b[1mComet: \u001b[0mrun 'pip install comet_ml' to automatically track and visualize YOLOv5 🚀 runs in Comet\n",
      "\u001b[34m\u001b[1mTensorBoard: \u001b[0mStart with 'tensorboard --logdir mite_detector', view at http://localhost:6006/\n",
      "2023-04-07 16:47:27.839022: I tensorflow/core/platform/cpu_feature_guard.cc:193] This TensorFlow binary is optimized with oneAPI Deep Neural Network Library (oneDNN) to use the following CPU instructions in performance-critical operations:  AVX2 AVX512F AVX512_VNNI FMA\n",
      "To enable them in other operations, rebuild TensorFlow with the appropriate compiler flags.\n",
      "2023-04-07 16:47:27.959368: I tensorflow/core/util/port.cc:104] oneDNN custom operations are on. You may see slightly different numerical results due to floating-point round-off errors from different computation orders. To turn them off, set the environment variable `TF_ENABLE_ONEDNN_OPTS=0`.\n",
      "Traceback (most recent call last):\n",
      "  File \"/home/dlawodud0484/.local/lib/python3.8/site-packages/tensorboard/compat/__init__.py\", line 42, in tf\n",
      "    from tensorboard.compat import notf  # noqa: F401\n",
      "ImportError: cannot import name 'notf' from 'tensorboard.compat' (/home/dlawodud0484/.local/lib/python3.8/site-packages/tensorboard/compat/__init__.py)\n",
      "\n",
      "During handling of the above exception, another exception occurred:\n",
      "\n",
      "RuntimeError: module compiled against API version 0xe but this version of numpy is 0xd\n",
      "\u001b[34m\u001b[1mwandb\u001b[0m: wandb version 0.14.1 is available!  To upgrade, please run:\n",
      "\u001b[34m\u001b[1mwandb\u001b[0m:  $ pip install wandb --upgrade\n",
      "\u001b[34m\u001b[1mwandb\u001b[0m: Tracking run with wandb version 0.14.0\n",
      "\u001b[34m\u001b[1mwandb\u001b[0m: Run data is saved locally in \u001b[35m\u001b[1m/home/dlawodud0484/yolo_bee_detector/yolov5-master/wandb/run-20230407_164728-s37sr7cd\u001b[0m\n",
      "\u001b[34m\u001b[1mwandb\u001b[0m: Run \u001b[1m`wandb offline`\u001b[0m to turn off syncing.\n",
      "\u001b[34m\u001b[1mwandb\u001b[0m: Syncing run \u001b[33mmite_detector_yolov5l_160_50\u001b[0m\n",
      "\u001b[34m\u001b[1mwandb\u001b[0m: ⭐️ View project at \u001b[34m\u001b[4mhttps://wandb.ai/dlawodud0484/mite_detector\u001b[0m\n",
      "\u001b[34m\u001b[1mwandb\u001b[0m: 🚀 View run at \u001b[34m\u001b[4mhttps://wandb.ai/dlawodud0484/mite_detector/runs/s37sr7cd\u001b[0m\n",
      "Overriding model.yaml nc=80 with nc=1\n",
      "\n",
      "                 from  n    params  module                                  arguments                     \n",
      "  0                -1  1      5280  models.common.Conv                      [3, 48, 6, 2, 2]              \n",
      "  1                -1  1     41664  models.common.Conv                      [48, 96, 3, 2]                \n",
      "  2                -1  2     65280  models.common.C3                        [96, 96, 2]                   \n",
      "  3                -1  1    166272  models.common.Conv                      [96, 192, 3, 2]               \n",
      "  4                -1  4    444672  models.common.C3                        [192, 192, 4]                 \n",
      "  5                -1  1    664320  models.common.Conv                      [192, 384, 3, 2]              \n",
      "  6                -1  6   2512896  models.common.C3                        [384, 384, 6]                 \n",
      "  7                -1  1   2655744  models.common.Conv                      [384, 768, 3, 2]              \n",
      "  8                -1  2   4134912  models.common.C3                        [768, 768, 2]                 \n",
      "  9                -1  1   1476864  models.common.SPPF                      [768, 768, 5]                 \n",
      " 10                -1  1    295680  models.common.Conv                      [768, 384, 1, 1]              \n",
      " 11                -1  1         0  torch.nn.modules.upsampling.Upsample    [None, 2, 'nearest']          \n",
      " 12           [-1, 6]  1         0  models.common.Concat                    [1]                           \n",
      " 13                -1  2   1182720  models.common.C3                        [768, 384, 2, False]          \n",
      " 14                -1  1     74112  models.common.Conv                      [384, 192, 1, 1]              \n",
      " 15                -1  1         0  torch.nn.modules.upsampling.Upsample    [None, 2, 'nearest']          \n",
      " 16           [-1, 4]  1         0  models.common.Concat                    [1]                           \n",
      " 17                -1  2    296448  models.common.C3                        [384, 192, 2, False]          \n",
      " 18                -1  1    332160  models.common.Conv                      [192, 192, 3, 2]              \n",
      " 19          [-1, 14]  1         0  models.common.Concat                    [1]                           \n",
      " 20                -1  2   1035264  models.common.C3                        [384, 384, 2, False]          \n",
      " 21                -1  1   1327872  models.common.Conv                      [384, 384, 3, 2]              \n",
      " 22          [-1, 10]  1         0  models.common.Concat                    [1]                           \n",
      " 23                -1  2   4134912  models.common.C3                        [768, 768, 2, False]          \n",
      " 24      [17, 20, 23]  1     24246  models.yolo.Detect                      [1, [[10, 13, 16, 30, 33, 23], [30, 61, 62, 45, 59, 119], [116, 90, 156, 198, 373, 326]], [192, 384, 768]]\n",
      "YOLOv5m summary: 291 layers, 20871318 parameters, 20871318 gradients, 48.2 GFLOPs\n",
      "\n",
      "Transferred 474/481 items from yolov5m.pt\n",
      "\u001b[34m\u001b[1mAMP: \u001b[0mchecks passed ✅\n",
      "\u001b[34m\u001b[1moptimizer:\u001b[0m SGD(lr=0.01) with parameter groups 79 weight(decay=0.0), 82 weight(decay=0.0005), 82 bias\n",
      "WARNING ⚠️ DP not recommended, use torch.distributed.run for best DDP Multi-GPU results.\n",
      "See Multi-GPU Tutorial at https://github.com/ultralytics/yolov5/issues/475 to get started.\n",
      "\u001b[34m\u001b[1mtrain: \u001b[0mScanning /home/dlawodud0484/yolo_bee_detector/mite/train.cache... 12614 i\u001b[0m\n",
      "\u001b[34m\u001b[1mval: \u001b[0mScanning /home/dlawodud0484/yolo_bee_detector/mite/val.cache... 790 images,\u001b[0m\n",
      "[W pthreadpool-cpp.cc:90] Warning: Leaking Caffe2 thread-pool after fork. (function pthreadpool)\n",
      "[W pthreadpool-cpp.cc:90] Warning: Leaking Caffe2 thread-pool after fork. (function pthreadpool)\n",
      "[W pthreadpool-cpp.cc:90] Warning: Leaking Caffe2 thread-pool after fork. (function pthreadpool)\n",
      "[W pthreadpool-cpp.cc:90] Warning: Leaking Caffe2 thread-pool after fork. (function pthreadpool)\n",
      "[W pthreadpool-cpp.cc:90] Warning: Leaking Caffe2 thread-pool after fork. (function pthreadpool)\n",
      "[W pthreadpool-cpp.cc:90] Warning: Leaking Caffe2 thread-pool after fork. (function pthreadpool)\n",
      "[W pthreadpool-cpp.cc:90] Warning: Leaking Caffe2 thread-pool after fork. (function pthreadpool)\n",
      "[W pthreadpool-cpp.cc:90] Warning: Leaking Caffe2 thread-pool after fork. (function pthreadpool)\n",
      "\n",
      "\u001b[34m\u001b[1mAutoAnchor: \u001b[0m5.75 anchors/target, 0.991 Best Possible Recall (BPR). Current anchors are a good fit to dataset ✅\n",
      "Plotting labels to mite_detector/mite_detector_yolov5l_160_503/labels.jpg... \n",
      "Image sizes 160 train, 160 val\n",
      "Using 4 dataloader workers\n",
      "Logging results to \u001b[1mmite_detector/mite_detector_yolov5l_160_503\u001b[0m\n",
      "Starting training for 50 epochs...\n",
      "\n",
      "      Epoch    GPU_mem   box_loss   obj_loss   cls_loss  Instances       Size\n",
      "       0/49     0.596G    0.07447   0.007926          0          1        160: 1\n",
      "                 Class     Images  Instances          P          R      mAP50   \n",
      "                   all        790        580      0.629      0.562      0.548      0.173\n",
      "\n",
      "      Epoch    GPU_mem   box_loss   obj_loss   cls_loss  Instances       Size\n",
      "       1/49     0.596G    0.05322   0.007042          0          4        160: 1\n",
      "                 Class     Images  Instances          P          R      mAP50   \n",
      "                   all        790        580       0.75      0.628      0.621      0.209\n",
      "\n",
      "      Epoch    GPU_mem   box_loss   obj_loss   cls_loss  Instances       Size\n",
      "       2/49     0.617G    0.05179    0.00683          0          1        160: 1\n",
      "                 Class     Images  Instances          P          R      mAP50   \n",
      "                   all        790        580      0.678      0.614       0.61      0.207\n",
      "\n",
      "      Epoch    GPU_mem   box_loss   obj_loss   cls_loss  Instances       Size\n",
      "       3/49     0.617G    0.05179    0.00694          0          2        160: 1\n",
      "                 Class     Images  Instances          P          R      mAP50   \n",
      "                   all        790        580      0.741        0.6      0.616      0.194\n",
      "\n",
      "      Epoch    GPU_mem   box_loss   obj_loss   cls_loss  Instances       Size\n",
      "       4/49     0.617G    0.04964   0.006679          0          1        160: 1\n",
      "                 Class     Images  Instances          P          R      mAP50   \n",
      "                   all        790        580      0.775      0.614      0.652      0.224\n",
      "\n",
      "      Epoch    GPU_mem   box_loss   obj_loss   cls_loss  Instances       Size\n",
      "       5/49     0.617G    0.04816   0.006557          0          3        160: 1\n",
      "                 Class     Images  Instances          P          R      mAP50   \n",
      "                   all        790        580      0.811      0.653      0.677      0.242\n",
      "\n",
      "      Epoch    GPU_mem   box_loss   obj_loss   cls_loss  Instances       Size\n",
      "       6/49     0.617G    0.04815   0.006486          0          1        160: 1\n",
      "                 Class     Images  Instances          P          R      mAP50   \n",
      "                   all        790        580      0.815      0.616      0.643      0.227\n",
      "\n",
      "      Epoch    GPU_mem   box_loss   obj_loss   cls_loss  Instances       Size\n",
      "       7/49     0.617G    0.04729   0.006371          0          5        160: 1\n",
      "                 Class     Images  Instances          P          R      mAP50   \n",
      "                   all        790        580      0.813      0.633      0.663      0.236\n",
      "\n",
      "      Epoch    GPU_mem   box_loss   obj_loss   cls_loss  Instances       Size\n",
      "       8/49     0.617G      0.047   0.006355          0          3        160: 1\n",
      "                 Class     Images  Instances          P          R      mAP50   \n",
      "                   all        790        580      0.785      0.629      0.665      0.235\n",
      "\n",
      "      Epoch    GPU_mem   box_loss   obj_loss   cls_loss  Instances       Size\n",
      "       9/49     0.617G    0.04688   0.006397          0          6        160: 1\n",
      "                 Class     Images  Instances          P          R      mAP50   \n",
      "                   all        790        580      0.814      0.685      0.719      0.253\n",
      "\n",
      "      Epoch    GPU_mem   box_loss   obj_loss   cls_loss  Instances       Size\n",
      "      10/49     0.617G    0.04634   0.006254          0          8        160: 1\n",
      "                 Class     Images  Instances          P          R      mAP50   \n",
      "                   all        790        580      0.867      0.679      0.718      0.254\n",
      "\n",
      "      Epoch    GPU_mem   box_loss   obj_loss   cls_loss  Instances       Size\n",
      "      11/49     0.617G    0.04585    0.00624          0          1        160: 1\n",
      "                 Class     Images  Instances          P          R      mAP50   \n",
      "                   all        790        580      0.686      0.617      0.566      0.194\n",
      "\n",
      "      Epoch    GPU_mem   box_loss   obj_loss   cls_loss  Instances       Size\n",
      "      12/49     0.617G    0.04619   0.006318          0          1        160: 1\n",
      "                 Class     Images  Instances          P          R      mAP50   \n",
      "                   all        790        580       0.83      0.613      0.676      0.237\n",
      "\n",
      "      Epoch    GPU_mem   box_loss   obj_loss   cls_loss  Instances       Size\n",
      "      13/49     0.617G    0.04605   0.006414          0          1        160: 1\n",
      "                 Class     Images  Instances          P          R      mAP50   \n",
      "                   all        790        580      0.821      0.676      0.697      0.249\n",
      "\n",
      "      Epoch    GPU_mem   box_loss   obj_loss   cls_loss  Instances       Size\n",
      "      14/49     0.617G    0.04575   0.006265          0          1        160: 1\n",
      "                 Class     Images  Instances          P          R      mAP50   \n",
      "                   all        790        580      0.825      0.683      0.709      0.244\n",
      "\n",
      "      Epoch    GPU_mem   box_loss   obj_loss   cls_loss  Instances       Size\n",
      "      15/49     0.617G    0.04506   0.006063          0          1        160: 1\n",
      "                 Class     Images  Instances          P          R      mAP50   \n",
      "                   all        790        580      0.817      0.678      0.694      0.243\n",
      "\n",
      "      Epoch    GPU_mem   box_loss   obj_loss   cls_loss  Instances       Size\n",
      "      16/49     0.617G    0.04524   0.006183          0          0        160: 1\n",
      "                 Class     Images  Instances          P          R      mAP50   \n",
      "                   all        790        580       0.79      0.662      0.683       0.24\n",
      "\n",
      "      Epoch    GPU_mem   box_loss   obj_loss   cls_loss  Instances       Size\n",
      "      17/49     0.617G    0.04484   0.006173          0          4        160: 1\n",
      "                 Class     Images  Instances          P          R      mAP50   \n",
      "                   all        790        580      0.818      0.653      0.678      0.238\n",
      "\n",
      "      Epoch    GPU_mem   box_loss   obj_loss   cls_loss  Instances       Size\n",
      "      18/49     0.617G    0.04477   0.006096          0          3        160: 1\n",
      "                 Class     Images  Instances          P          R      mAP50   \n",
      "                   all        790        580      0.834      0.668      0.693      0.242\n",
      "\n",
      "      Epoch    GPU_mem   box_loss   obj_loss   cls_loss  Instances       Size\n",
      "      19/49     0.617G    0.04456   0.006072          0          6        160: 1\n",
      "                 Class     Images  Instances          P          R      mAP50   \n",
      "                   all        790        580      0.847      0.697      0.739      0.247\n",
      "\n",
      "      Epoch    GPU_mem   box_loss   obj_loss   cls_loss  Instances       Size\n",
      "      20/49     0.617G    0.04415     0.0059          0          3        160: 1\n",
      "                 Class     Images  Instances          P          R      mAP50   \n",
      "                   all        790        580       0.86      0.691       0.73      0.261\n",
      "\n",
      "      Epoch    GPU_mem   box_loss   obj_loss   cls_loss  Instances       Size\n",
      "      21/49     0.617G    0.04384    0.00589          0          2        160: 1\n",
      "                 Class     Images  Instances          P          R      mAP50   \n",
      "                   all        790        580      0.883      0.671      0.735      0.263\n",
      "\n",
      "      Epoch    GPU_mem   box_loss   obj_loss   cls_loss  Instances       Size\n",
      "      22/49     0.617G    0.04364   0.005941          0          3        160: 1\n",
      "                 Class     Images  Instances          P          R      mAP50   \n",
      "                   all        790        580      0.816      0.659      0.691      0.246\n",
      "\n",
      "      Epoch    GPU_mem   box_loss   obj_loss   cls_loss  Instances       Size\n",
      "      23/49     0.617G    0.04406   0.005946          0          3        160: 1\n",
      "                 Class     Images  Instances          P          R      mAP50   \n",
      "                   all        790        580       0.81      0.691      0.705      0.258\n",
      "\n",
      "      Epoch    GPU_mem   box_loss   obj_loss   cls_loss  Instances       Size\n",
      "      24/49     0.617G    0.04342   0.005923          0          6        160: 1\n",
      "                 Class     Images  Instances          P          R      mAP50   \n",
      "                   all        790        580      0.813      0.698      0.724       0.26\n",
      "\n",
      "      Epoch    GPU_mem   box_loss   obj_loss   cls_loss  Instances       Size\n",
      "      25/49     0.617G    0.04314   0.005863          0          0        160: 1\n",
      "                 Class     Images  Instances          P          R      mAP50   \n",
      "                   all        790        580      0.865      0.683      0.738      0.262\n",
      "\n",
      "      Epoch    GPU_mem   box_loss   obj_loss   cls_loss  Instances       Size\n",
      "      26/49     0.617G    0.04323   0.005796          0          0        160: 1\n",
      "                 Class     Images  Instances          P          R      mAP50   \n",
      "                   all        790        580      0.836      0.683       0.73      0.257\n",
      "\n",
      "      Epoch    GPU_mem   box_loss   obj_loss   cls_loss  Instances       Size\n",
      "      27/49     0.617G    0.04312   0.005854          0          1        160: 1\n",
      "                 Class     Images  Instances          P          R      mAP50   \n",
      "                   all        790        580      0.836      0.669      0.701       0.25\n",
      "\n",
      "      Epoch    GPU_mem   box_loss   obj_loss   cls_loss  Instances       Size\n",
      "      28/49     0.617G    0.04299   0.005853          0          2        160: 1\n",
      "                 Class     Images  Instances          P          R      mAP50   \n",
      "                   all        790        580      0.838      0.679      0.735      0.266\n",
      "\n",
      "      Epoch    GPU_mem   box_loss   obj_loss   cls_loss  Instances       Size\n",
      "      29/49     0.617G    0.04264    0.00579          0          1        160: 1\n",
      "                 Class     Images  Instances          P          R      mAP50   \n",
      "                   all        790        580       0.86      0.674      0.731       0.26\n",
      "\n",
      "      Epoch    GPU_mem   box_loss   obj_loss   cls_loss  Instances       Size\n",
      "      30/49     0.617G    0.04265   0.005756          0          1        160: 1\n",
      "                 Class     Images  Instances          P          R      mAP50   \n",
      "                   all        790        580      0.857      0.678      0.715       0.25\n",
      "\n",
      "      Epoch    GPU_mem   box_loss   obj_loss   cls_loss  Instances       Size\n",
      "      31/49     0.617G    0.04229   0.005733          0          2        160: 1\n",
      "                 Class     Images  Instances          P          R      mAP50   \n",
      "                   all        790        580       0.83      0.706      0.731       0.25\n",
      "\n",
      "      Epoch    GPU_mem   box_loss   obj_loss   cls_loss  Instances       Size\n",
      "      32/49     0.617G    0.04247   0.005753          0          3        160: 1\n",
      "                 Class     Images  Instances          P          R      mAP50   \n",
      "                   all        790        580      0.695      0.664      0.565      0.194\n",
      "\n",
      "      Epoch    GPU_mem   box_loss   obj_loss   cls_loss  Instances       Size\n",
      "      33/49     0.617G     0.0421    0.00567          0          6        160: 1\n",
      "                 Class     Images  Instances          P          R      mAP50   \n",
      "                   all        790        580      0.792      0.678      0.673       0.23\n",
      "\n",
      "      Epoch    GPU_mem   box_loss   obj_loss   cls_loss  Instances       Size\n",
      "      34/49     0.617G    0.04227   0.005706          0          2        160: 1\n",
      "                 Class     Images  Instances          P          R      mAP50   \n",
      "                   all        790        580      0.843      0.679      0.716      0.255\n",
      "\n",
      "      Epoch    GPU_mem   box_loss   obj_loss   cls_loss  Instances       Size\n",
      "      35/49     0.617G     0.0419   0.005731          0          4        160: 1\n",
      "                 Class     Images  Instances          P          R      mAP50   \n",
      "                   all        790        580      0.841      0.685      0.711      0.254\n",
      "\n",
      "      Epoch    GPU_mem   box_loss   obj_loss   cls_loss  Instances       Size\n",
      "      36/49     0.617G    0.04194   0.005637          0          4        160: 1\n",
      "                 Class     Images  Instances          P          R      mAP50   \n",
      "                   all        790        580      0.835      0.679      0.708      0.253\n",
      "\n",
      "      Epoch    GPU_mem   box_loss   obj_loss   cls_loss  Instances       Size\n",
      "      37/49     0.617G    0.04153   0.005639          0          1        160: 1\n",
      "                 Class     Images  Instances          P          R      mAP50   \n",
      "                   all        790        580      0.811      0.681      0.709      0.258\n",
      "\n",
      "      Epoch    GPU_mem   box_loss   obj_loss   cls_loss  Instances       Size\n",
      "      38/49     0.617G    0.04154   0.005564          0          1        160: 1\n",
      "                 Class     Images  Instances          P          R      mAP50   \n",
      "                   all        790        580      0.841      0.698      0.729      0.259\n",
      "\n",
      "      Epoch    GPU_mem   box_loss   obj_loss   cls_loss  Instances       Size\n",
      "      39/49     0.617G    0.04117   0.005558          0          2        160: 1\n",
      "                 Class     Images  Instances          P          R      mAP50   \n",
      "                   all        790        580      0.851      0.678      0.713      0.255\n",
      "\n",
      "      Epoch    GPU_mem   box_loss   obj_loss   cls_loss  Instances       Size\n",
      "      40/49     0.617G    0.04102   0.005577          0          4        160: 1\n",
      "                 Class     Images  Instances          P          R      mAP50   \n",
      "                   all        790        580       0.88      0.695      0.744      0.266\n",
      "\n",
      "      Epoch    GPU_mem   box_loss   obj_loss   cls_loss  Instances       Size\n",
      "      41/49     0.617G    0.04096   0.005591          0          3        160: 1\n",
      "                 Class     Images  Instances          P          R      mAP50   \n",
      "                   all        790        580      0.869      0.685      0.734      0.256\n",
      "\n",
      "      Epoch    GPU_mem   box_loss   obj_loss   cls_loss  Instances       Size\n",
      "      42/49     0.617G    0.04087   0.005568          0          7        160: 1\n",
      "                 Class     Images  Instances          P          R      mAP50   \n",
      "                   all        790        580      0.882      0.679      0.738      0.263\n",
      "\n",
      "      Epoch    GPU_mem   box_loss   obj_loss   cls_loss  Instances       Size\n",
      "      43/49     0.617G    0.04077   0.005581          0          1        160: 1\n",
      "                 Class     Images  Instances          P          R      mAP50   \n",
      "                   all        790        580      0.863      0.693      0.742       0.27\n",
      "\n",
      "      Epoch    GPU_mem   box_loss   obj_loss   cls_loss  Instances       Size\n",
      "      44/49     0.617G    0.04031   0.005515          0          3        160: 1\n",
      "                 Class     Images  Instances          P          R      mAP50   \n",
      "                   all        790        580      0.904      0.679      0.746      0.272\n",
      "\n",
      "      Epoch    GPU_mem   box_loss   obj_loss   cls_loss  Instances       Size\n",
      "      45/49     0.617G    0.04019   0.005542          0          5        160: 1\n",
      "                 Class     Images  Instances          P          R      mAP50   \n",
      "                   all        790        580      0.862      0.691      0.742      0.267\n",
      "\n",
      "      Epoch    GPU_mem   box_loss   obj_loss   cls_loss  Instances       Size\n",
      "      46/49     0.617G    0.04006   0.005525          0          1        160: 1\n",
      "                 Class     Images  Instances          P          R      mAP50   \n",
      "                   all        790        580      0.856       0.69      0.737      0.268\n",
      "\n",
      "      Epoch    GPU_mem   box_loss   obj_loss   cls_loss  Instances       Size\n",
      "      47/49     0.617G    0.03927   0.005414          0          3        160: 1\n",
      "                 Class     Images  Instances          P          R      mAP50   \n",
      "                   all        790        580      0.863      0.684      0.733      0.266\n",
      "\n",
      "      Epoch    GPU_mem   box_loss   obj_loss   cls_loss  Instances       Size\n",
      "      48/49     0.617G    0.03976   0.005461          0          1        160: 1\n",
      "                 Class     Images  Instances          P          R      mAP50   \n",
      "                   all        790        580      0.892      0.669      0.741      0.264\n",
      "\n",
      "      Epoch    GPU_mem   box_loss   obj_loss   cls_loss  Instances       Size\n",
      "      49/49     0.617G    0.03955   0.005475          0          3        160: 1\n",
      "                 Class     Images  Instances          P          R      mAP50   \n",
      "                   all        790        580      0.885      0.667      0.737      0.265\n",
      "\n",
      "50 epochs completed in 6.707 hours.\n",
      "Optimizer stripped from mite_detector/mite_detector_yolov5l_160_503/weights/last.pt, 42.0MB\n",
      "Optimizer stripped from mite_detector/mite_detector_yolov5l_160_503/weights/best.pt, 42.0MB\n",
      "\n",
      "Validating mite_detector/mite_detector_yolov5l_160_503/weights/best.pt...\n",
      "Fusing layers... \n",
      "YOLOv5m summary: 212 layers, 20852934 parameters, 0 gradients, 47.9 GFLOPs\n",
      "                 Class     Images  Instances          P          R      mAP50   \n",
      "                   all        790        580      0.904       0.68      0.746      0.272\n",
      "Results saved to \u001b[1mmite_detector/mite_detector_yolov5l_160_503\u001b[0m\n",
      "\u001b[34m\u001b[1mwandb\u001b[0m: Waiting for W&B process to finish... \u001b[32m(success).\u001b[0m\n",
      "\u001b[34m\u001b[1mwandb\u001b[0m: \n",
      "\u001b[34m\u001b[1mwandb\u001b[0m: Run history:\n",
      "\u001b[34m\u001b[1mwandb\u001b[0m:      metrics/mAP_0.5 ▁▄▃▃▆▄▅▅▇▂▆▇▆▆▆█▇█▇▇█▇█▇▇▂▅▇▇▇▇▇████████\n",
      "\u001b[34m\u001b[1mwandb\u001b[0m: metrics/mAP_0.5:0.95 ▁▄▃▂▆▅▅▅▇▃▆▆▆▆▆▆▇▇▇▇▇▇█▇▆▂▅▇▇▇▇▇▇▇████▇█\n",
      "\u001b[34m\u001b[1mwandb\u001b[0m:    metrics/precision ▁▄▂▄▆▆▆▅▇▂▆▆▆▅▆▇▇▇▆▆▇▆▆▇▇▃▅▆▆▆▆▇▇▇▇█▇▇██\n",
      "\u001b[34m\u001b[1mwandb\u001b[0m:       metrics/recall ▁▄▄▃▆▄▅▄▇▄▄▇▇▆▆██▇██▇▇▇▇▇▆▇▇▇▇█▇▇▇█▇█▇▆▇\n",
      "\u001b[34m\u001b[1mwandb\u001b[0m:       train/box_loss █▄▃▃▃▃▃▃▂▂▂▂▂▂▂▂▂▂▂▂▂▂▂▂▂▂▂▂▂▂▁▁▁▁▁▁▁▁▁▁\n",
      "\u001b[34m\u001b[1mwandb\u001b[0m:       train/cls_loss ▁▁▁▁▁▁▁▁▁▁▁▁▁▁▁▁▁▁▁▁▁▁▁▁▁▁▁▁▁▁▁▁▁▁▁▁▁▁▁▁\n",
      "\u001b[34m\u001b[1mwandb\u001b[0m:       train/obj_loss █▆▅▅▄▄▄▄▃▃▄▄▃▃▃▃▂▂▂▂▂▂▂▂▂▂▂▂▂▂▂▁▁▁▁▁▁▁▁▁\n",
      "\u001b[34m\u001b[1mwandb\u001b[0m:         val/box_loss █▅▆▆▃▄▃▃▃▄▃▂▂▂▃▂▁▂▂▂▂▂▂▂▂▂▂▁▂▁▁▁▁▁▁▁▁▁▁▁\n",
      "\u001b[34m\u001b[1mwandb\u001b[0m:         val/cls_loss ▁▁▁▁▁▁▁▁▁▁▁▁▁▁▁▁▁▁▁▁▁▁▁▁▁▁▁▁▁▁▁▁▁▁▁▁▁▁▁▁\n",
      "\u001b[34m\u001b[1mwandb\u001b[0m:         val/obj_loss █▅▅▄▃▅▃▃▂▃▃▂▂▂▂▂▂▂▂▁▁▂▁▁▂▂▂▁▁▁▁▁▁▁▁▁▁▁▁▁\n",
      "\u001b[34m\u001b[1mwandb\u001b[0m:                x/lr0 █▅▂▂▂▂▂▂▂▂▂▂▂▂▂▂▂▂▂▂▁▁▁▁▁▁▁▁▁▁▁▁▁▁▁▁▁▁▁▁\n",
      "\u001b[34m\u001b[1mwandb\u001b[0m:                x/lr1 ▃▆████▇▇▇▇▇▆▆▆▆▆▅▅▅▅▅▅▄▄▄▄▄▃▃▃▃▃▂▂▂▂��▁▁▁\n",
      "\u001b[34m\u001b[1mwandb\u001b[0m:                x/lr2 ▃▆████▇▇▇▇▇▆▆▆▆▆▅▅▅▅▅▅▄▄▄▄▄▃▃▃▃▃▂▂▂▂▂▁▁▁\n",
      "\u001b[34m\u001b[1mwandb\u001b[0m: \n",
      "\u001b[34m\u001b[1mwandb\u001b[0m: Run summary:\n",
      "\u001b[34m\u001b[1mwandb\u001b[0m:           best/epoch 44\n",
      "\u001b[34m\u001b[1mwandb\u001b[0m:         best/mAP_0.5 0.74557\n",
      "\u001b[34m\u001b[1mwandb\u001b[0m:    best/mAP_0.5:0.95 0.27245\n",
      "\u001b[34m\u001b[1mwandb\u001b[0m:       best/precision 0.90355\n",
      "\u001b[34m\u001b[1mwandb\u001b[0m:          best/recall 0.67931\n",
      "\u001b[34m\u001b[1mwandb\u001b[0m:      metrics/mAP_0.5 0.74559\n",
      "\u001b[34m\u001b[1mwandb\u001b[0m: metrics/mAP_0.5:0.95 0.27249\n",
      "\u001b[34m\u001b[1mwandb\u001b[0m:    metrics/precision 0.9037\n",
      "\u001b[34m\u001b[1mwandb\u001b[0m:       metrics/recall 0.67958\n",
      "\u001b[34m\u001b[1mwandb\u001b[0m:       train/box_loss 0.03955\n",
      "\u001b[34m\u001b[1mwandb\u001b[0m:       train/cls_loss 0.0\n",
      "\u001b[34m\u001b[1mwandb\u001b[0m:       train/obj_loss 0.00548\n",
      "\u001b[34m\u001b[1mwandb\u001b[0m:         val/box_loss 0.04535\n",
      "\u001b[34m\u001b[1mwandb\u001b[0m:         val/cls_loss 0.0\n",
      "\u001b[34m\u001b[1mwandb\u001b[0m:         val/obj_loss 0.00276\n",
      "\u001b[34m\u001b[1mwandb\u001b[0m:                x/lr0 0.0005\n",
      "\u001b[34m\u001b[1mwandb\u001b[0m:                x/lr1 0.0005\n",
      "\u001b[34m\u001b[1mwandb\u001b[0m:                x/lr2 0.0005\n",
      "\u001b[34m\u001b[1mwandb\u001b[0m: \n",
      "\u001b[34m\u001b[1mwandb\u001b[0m: 🚀 View run \u001b[33mmite_detector_yolov5l_160_50\u001b[0m at: \u001b[34m\u001b[4mhttps://wandb.ai/dlawodud0484/mite_detector/runs/s37sr7cd\u001b[0m\n",
      "\u001b[34m\u001b[1mwandb\u001b[0m: Synced 5 W&B file(s), 337 media file(s), 1 artifact file(s) and 0 other file(s)\n",
      "\u001b[34m\u001b[1mwandb\u001b[0m: Find logs at: \u001b[35m\u001b[1m./wandb/run-20230407_164728-s37sr7cd/logs\u001b[0m\n"
     ]
    }
   ],
   "source": [
    "# yolo 돌리기\n",
    "!python3 train.py --img 160 --batch 4 --epochs 50 --data /home/dlawodud0484/yolo_bee_detector/mite/data.yaml --cfg yolov5m.yaml --weights yolov5m.pt --name mite_detector_yolov5l_160_50  --project mite_detector"
   ]
  }
 ],
 "metadata": {
  "kernelspec": {
   "display_name": "yolov5_test",
   "language": "python",
   "name": "yolov5_test"
  },
  "language_info": {
   "codemirror_mode": {
    "name": "ipython",
    "version": 3
   },
   "file_extension": ".py",
   "mimetype": "text/x-python",
   "name": "python",
   "nbconvert_exporter": "python",
   "pygments_lexer": "ipython3",
   "version": "3.7.0"
  }
 },
 "nbformat": 4,
 "nbformat_minor": 5
}
